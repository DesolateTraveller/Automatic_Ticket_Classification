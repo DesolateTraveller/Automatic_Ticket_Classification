{
 "cells": [
  {
   "cell_type": "markdown",
   "metadata": {
    "id": "TA8dzT7ZF9Nn"
   },
   "source": [
    "### | Automatic Ticket Classification Assignment |\n",
    "\n",
    "### Preparer : Swati Banerjee"
   ]
  },
  {
   "cell_type": "markdown",
   "metadata": {
    "id": "rhR-ZUkwJrFn"
   },
   "source": [
    "### Problem Statement \n",
    "\n",
    "You need to build a model that is able to classify customer complaints based on the products/services. By doing so, you can segregate these tickets into their relevant categories and, therefore, help in the quick resolution of the issue.\n",
    "\n",
    "You will be doing topic modelling on the <b>.json</b> data provided by the company. Since this data is not labelled, you need to apply NMF to analyse patterns and classify tickets into the following five clusters based on their products/services:\n",
    "\n",
    "* Credit card / Prepaid card\n",
    "\n",
    "* Bank account services\n",
    "\n",
    "* Theft/Dispute reporting\n",
    "\n",
    "* Mortgages/loans\n",
    "\n",
    "* Others \n",
    "\n",
    "\n",
    "With the help of topic modelling, you will be able to map each ticket onto its respective department/category. You can then use this data to train any supervised model such as logistic regression, decision tree or random forest. Using this trained model, you can classify any new customer complaint support ticket into its relevant department.\n"
   ]
  },
  {
   "cell_type": "markdown",
   "metadata": {
    "id": "mcgXVNyaLUFS"
   },
   "source": [
    "### Pipelines that needs to be performed:\n",
    "\n",
    "You need to perform the following eight major tasks to complete the assignment:\n",
    "\n",
    "1.  Data loading\n",
    "\n",
    "2. Text preprocessing\n",
    "\n",
    "3. Exploratory data analysis (EDA)\n",
    "\n",
    "4. Feature extraction\n",
    "\n",
    "5. Topic modelling \n",
    "\n",
    "6. Model building using supervised learning\n",
    "\n",
    "7. Model training and evaluation\n",
    "\n",
    "8. Model inference"
   ]
  },
  {
   "cell_type": "markdown",
   "metadata": {
    "id": "JuLFIymAL58u"
   },
   "source": [
    "### Importing the libraries"
   ]
  },
  {
   "cell_type": "code",
   "execution_count": 1,
   "metadata": {
    "id": "O-Q9pqrcJrFr"
   },
   "outputs": [],
   "source": [
    "import json \n",
    "import collections\n",
    "#\n",
    "import numpy as np\n",
    "import pandas as pd\n",
    "import re, nltk, spacy, string\n",
    "#\n",
    "import en_core_web_sm\n",
    "nlp = en_core_web_sm.load()\n",
    "#\n",
    "import seaborn as sns\n",
    "import matplotlib.pyplot as plt\n",
    "from matplotlib import rcParams\n",
    "import matplotlib.cm as cm\n",
    "#\n",
    "%matplotlib inline\n",
    "from wordcloud import WordCloud, STOPWORDS\n",
    "#\n",
    "from plotly.offline import plot\n",
    "import plotly.graph_objects as go\n",
    "import plotly.express as px\n",
    "#\n",
    "from nltk.corpus import stopwords, wordnet\n",
    "from nltk.stem import WordNetLemmatizer\n",
    "from nltk.tokenize import word_tokenize\n",
    "from nltk.tag import pos_tag\n",
    "#\n",
    "from sklearn.feature_extraction.text import CountVectorizer, TfidfVectorizer\n",
    "#\n",
    "from pprint import pprint\n",
    "import swifter\n",
    "import tqdm"
   ]
  },
  {
   "cell_type": "markdown",
   "metadata": {
    "id": "KtRLCsNVJrFt"
   },
   "source": [
    "### Loading the data\n",
    "\n",
    "The data is in JSON format and we need to convert it to a dataframe."
   ]
  },
  {
   "cell_type": "code",
   "execution_count": 2,
   "metadata": {
    "id": "puVzIf_iJrFt"
   },
   "outputs": [],
   "source": [
    "# Opening JSON file \n",
    "f = open('complaints.json')\n",
    "# returns JSON object as  \n",
    "# a dictionary \n",
    "data = json.load(f)\n",
    "df = pd.json_normalize(data)"
   ]
  },
  {
   "cell_type": "markdown",
   "metadata": {
    "id": "_xYpH-sAJrFu"
   },
   "source": [
    "### Data preparation"
   ]
  },
  {
   "cell_type": "code",
   "execution_count": 3,
   "metadata": {
    "colab": {
     "base_uri": "https://localhost:8080/",
     "height": 601
    },
    "id": "Lf8ufHH5JrFu",
    "outputId": "2bed81c3-ae06-4a0e-af44-82a93ef24efe"
   },
   "outputs": [],
   "source": [
    "# Inspect the dataframe to understand the given data."
   ]
  },
  {
   "cell_type": "code",
   "execution_count": 4,
   "metadata": {},
   "outputs": [
    {
     "data": {
      "text/html": [
       "<div>\n",
       "<style scoped>\n",
       "    .dataframe tbody tr th:only-of-type {\n",
       "        vertical-align: middle;\n",
       "    }\n",
       "\n",
       "    .dataframe tbody tr th {\n",
       "        vertical-align: top;\n",
       "    }\n",
       "\n",
       "    .dataframe thead th {\n",
       "        text-align: right;\n",
       "    }\n",
       "</style>\n",
       "<table border=\"1\" class=\"dataframe\">\n",
       "  <thead>\n",
       "    <tr style=\"text-align: right;\">\n",
       "      <th></th>\n",
       "      <th>_index</th>\n",
       "      <th>_type</th>\n",
       "      <th>_id</th>\n",
       "      <th>_score</th>\n",
       "      <th>_source.tags</th>\n",
       "      <th>_source.zip_code</th>\n",
       "      <th>_source.complaint_id</th>\n",
       "      <th>_source.issue</th>\n",
       "      <th>_source.date_received</th>\n",
       "      <th>_source.state</th>\n",
       "      <th>...</th>\n",
       "      <th>_source.company_response</th>\n",
       "      <th>_source.company</th>\n",
       "      <th>_source.submitted_via</th>\n",
       "      <th>_source.date_sent_to_company</th>\n",
       "      <th>_source.company_public_response</th>\n",
       "      <th>_source.sub_product</th>\n",
       "      <th>_source.timely</th>\n",
       "      <th>_source.complaint_what_happened</th>\n",
       "      <th>_source.sub_issue</th>\n",
       "      <th>_source.consumer_consent_provided</th>\n",
       "    </tr>\n",
       "  </thead>\n",
       "  <tbody>\n",
       "    <tr>\n",
       "      <th>0</th>\n",
       "      <td>complaint-public-v2</td>\n",
       "      <td>complaint</td>\n",
       "      <td>3211475</td>\n",
       "      <td>0.0</td>\n",
       "      <td>None</td>\n",
       "      <td>90301</td>\n",
       "      <td>3211475</td>\n",
       "      <td>Attempts to collect debt not owed</td>\n",
       "      <td>2019-04-13T12:00:00-05:00</td>\n",
       "      <td>CA</td>\n",
       "      <td>...</td>\n",
       "      <td>Closed with explanation</td>\n",
       "      <td>JPMORGAN CHASE &amp; CO.</td>\n",
       "      <td>Web</td>\n",
       "      <td>2019-04-13T12:00:00-05:00</td>\n",
       "      <td>None</td>\n",
       "      <td>Credit card debt</td>\n",
       "      <td>Yes</td>\n",
       "      <td></td>\n",
       "      <td>Debt is not yours</td>\n",
       "      <td>Consent not provided</td>\n",
       "    </tr>\n",
       "    <tr>\n",
       "      <th>1</th>\n",
       "      <td>complaint-public-v2</td>\n",
       "      <td>complaint</td>\n",
       "      <td>3229299</td>\n",
       "      <td>0.0</td>\n",
       "      <td>Servicemember</td>\n",
       "      <td>319XX</td>\n",
       "      <td>3229299</td>\n",
       "      <td>Written notification about debt</td>\n",
       "      <td>2019-05-01T12:00:00-05:00</td>\n",
       "      <td>GA</td>\n",
       "      <td>...</td>\n",
       "      <td>Closed with explanation</td>\n",
       "      <td>JPMORGAN CHASE &amp; CO.</td>\n",
       "      <td>Web</td>\n",
       "      <td>2019-05-01T12:00:00-05:00</td>\n",
       "      <td>None</td>\n",
       "      <td>Credit card debt</td>\n",
       "      <td>Yes</td>\n",
       "      <td>Good morning my name is XXXX XXXX and I apprec...</td>\n",
       "      <td>Didn't receive enough information to verify debt</td>\n",
       "      <td>Consent provided</td>\n",
       "    </tr>\n",
       "    <tr>\n",
       "      <th>2</th>\n",
       "      <td>complaint-public-v2</td>\n",
       "      <td>complaint</td>\n",
       "      <td>3199379</td>\n",
       "      <td>0.0</td>\n",
       "      <td>None</td>\n",
       "      <td>77069</td>\n",
       "      <td>3199379</td>\n",
       "      <td>Other features, terms, or problems</td>\n",
       "      <td>2019-04-02T12:00:00-05:00</td>\n",
       "      <td>TX</td>\n",
       "      <td>...</td>\n",
       "      <td>Closed with explanation</td>\n",
       "      <td>JPMORGAN CHASE &amp; CO.</td>\n",
       "      <td>Web</td>\n",
       "      <td>2019-04-02T12:00:00-05:00</td>\n",
       "      <td>None</td>\n",
       "      <td>General-purpose credit card or charge card</td>\n",
       "      <td>Yes</td>\n",
       "      <td>I upgraded my XXXX XXXX card in XX/XX/2018 and...</td>\n",
       "      <td>Problem with rewards from credit card</td>\n",
       "      <td>Consent provided</td>\n",
       "    </tr>\n",
       "    <tr>\n",
       "      <th>3</th>\n",
       "      <td>complaint-public-v2</td>\n",
       "      <td>complaint</td>\n",
       "      <td>2673060</td>\n",
       "      <td>0.0</td>\n",
       "      <td>None</td>\n",
       "      <td>48066</td>\n",
       "      <td>2673060</td>\n",
       "      <td>Trouble during payment process</td>\n",
       "      <td>2017-09-13T12:00:00-05:00</td>\n",
       "      <td>MI</td>\n",
       "      <td>...</td>\n",
       "      <td>Closed with explanation</td>\n",
       "      <td>JPMORGAN CHASE &amp; CO.</td>\n",
       "      <td>Web</td>\n",
       "      <td>2017-09-14T12:00:00-05:00</td>\n",
       "      <td>None</td>\n",
       "      <td>Conventional home mortgage</td>\n",
       "      <td>Yes</td>\n",
       "      <td></td>\n",
       "      <td>None</td>\n",
       "      <td>Consent not provided</td>\n",
       "    </tr>\n",
       "    <tr>\n",
       "      <th>4</th>\n",
       "      <td>complaint-public-v2</td>\n",
       "      <td>complaint</td>\n",
       "      <td>3203545</td>\n",
       "      <td>0.0</td>\n",
       "      <td>None</td>\n",
       "      <td>10473</td>\n",
       "      <td>3203545</td>\n",
       "      <td>Fees or interest</td>\n",
       "      <td>2019-04-05T12:00:00-05:00</td>\n",
       "      <td>NY</td>\n",
       "      <td>...</td>\n",
       "      <td>Closed with explanation</td>\n",
       "      <td>JPMORGAN CHASE &amp; CO.</td>\n",
       "      <td>Referral</td>\n",
       "      <td>2019-04-05T12:00:00-05:00</td>\n",
       "      <td>None</td>\n",
       "      <td>General-purpose credit card or charge card</td>\n",
       "      <td>Yes</td>\n",
       "      <td></td>\n",
       "      <td>Charged too much interest</td>\n",
       "      <td>N/A</td>\n",
       "    </tr>\n",
       "  </tbody>\n",
       "</table>\n",
       "<p>5 rows × 22 columns</p>\n",
       "</div>"
      ],
      "text/plain": [
       "                _index      _type      _id  _score   _source.tags  \\\n",
       "0  complaint-public-v2  complaint  3211475     0.0           None   \n",
       "1  complaint-public-v2  complaint  3229299     0.0  Servicemember   \n",
       "2  complaint-public-v2  complaint  3199379     0.0           None   \n",
       "3  complaint-public-v2  complaint  2673060     0.0           None   \n",
       "4  complaint-public-v2  complaint  3203545     0.0           None   \n",
       "\n",
       "  _source.zip_code _source.complaint_id                       _source.issue  \\\n",
       "0            90301              3211475   Attempts to collect debt not owed   \n",
       "1            319XX              3229299     Written notification about debt   \n",
       "2            77069              3199379  Other features, terms, or problems   \n",
       "3            48066              2673060      Trouble during payment process   \n",
       "4            10473              3203545                    Fees or interest   \n",
       "\n",
       "       _source.date_received _source.state  ... _source.company_response  \\\n",
       "0  2019-04-13T12:00:00-05:00            CA  ...  Closed with explanation   \n",
       "1  2019-05-01T12:00:00-05:00            GA  ...  Closed with explanation   \n",
       "2  2019-04-02T12:00:00-05:00            TX  ...  Closed with explanation   \n",
       "3  2017-09-13T12:00:00-05:00            MI  ...  Closed with explanation   \n",
       "4  2019-04-05T12:00:00-05:00            NY  ...  Closed with explanation   \n",
       "\n",
       "        _source.company _source.submitted_via _source.date_sent_to_company  \\\n",
       "0  JPMORGAN CHASE & CO.                   Web    2019-04-13T12:00:00-05:00   \n",
       "1  JPMORGAN CHASE & CO.                   Web    2019-05-01T12:00:00-05:00   \n",
       "2  JPMORGAN CHASE & CO.                   Web    2019-04-02T12:00:00-05:00   \n",
       "3  JPMORGAN CHASE & CO.                   Web    2017-09-14T12:00:00-05:00   \n",
       "4  JPMORGAN CHASE & CO.              Referral    2019-04-05T12:00:00-05:00   \n",
       "\n",
       "  _source.company_public_response                         _source.sub_product  \\\n",
       "0                            None                            Credit card debt   \n",
       "1                            None                            Credit card debt   \n",
       "2                            None  General-purpose credit card or charge card   \n",
       "3                            None                  Conventional home mortgage   \n",
       "4                            None  General-purpose credit card or charge card   \n",
       "\n",
       "  _source.timely                    _source.complaint_what_happened  \\\n",
       "0            Yes                                                      \n",
       "1            Yes  Good morning my name is XXXX XXXX and I apprec...   \n",
       "2            Yes  I upgraded my XXXX XXXX card in XX/XX/2018 and...   \n",
       "3            Yes                                                      \n",
       "4            Yes                                                      \n",
       "\n",
       "                                  _source.sub_issue  \\\n",
       "0                                 Debt is not yours   \n",
       "1  Didn't receive enough information to verify debt   \n",
       "2             Problem with rewards from credit card   \n",
       "3                                              None   \n",
       "4                         Charged too much interest   \n",
       "\n",
       "  _source.consumer_consent_provided  \n",
       "0              Consent not provided  \n",
       "1                  Consent provided  \n",
       "2                  Consent provided  \n",
       "3              Consent not provided  \n",
       "4                               N/A  \n",
       "\n",
       "[5 rows x 22 columns]"
      ]
     },
     "execution_count": 4,
     "metadata": {},
     "output_type": "execute_result"
    }
   ],
   "source": [
    "df.head(5)"
   ]
  },
  {
   "cell_type": "code",
   "execution_count": 5,
   "metadata": {
    "colab": {
     "base_uri": "https://localhost:8080/"
    },
    "id": "Dwcty-wmJrFw",
    "outputId": "27bdce2f-a971-4c2a-dacb-cc42f58e9b5d"
   },
   "outputs": [],
   "source": [
    "#print the column names"
   ]
  },
  {
   "cell_type": "code",
   "execution_count": 6,
   "metadata": {},
   "outputs": [
    {
     "name": "stdout",
     "output_type": "stream",
     "text": [
      "<class 'pandas.core.frame.DataFrame'>\n",
      "RangeIndex: 78313 entries, 0 to 78312\n",
      "Data columns (total 22 columns):\n",
      " #   Column                             Non-Null Count  Dtype  \n",
      "---  ------                             --------------  -----  \n",
      " 0   _index                             78313 non-null  object \n",
      " 1   _type                              78313 non-null  object \n",
      " 2   _id                                78313 non-null  object \n",
      " 3   _score                             78313 non-null  float64\n",
      " 4   _source.tags                       10900 non-null  object \n",
      " 5   _source.zip_code                   71556 non-null  object \n",
      " 6   _source.complaint_id               78313 non-null  object \n",
      " 7   _source.issue                      78313 non-null  object \n",
      " 8   _source.date_received              78313 non-null  object \n",
      " 9   _source.state                      76322 non-null  object \n",
      " 10  _source.consumer_disputed          78313 non-null  object \n",
      " 11  _source.product                    78313 non-null  object \n",
      " 12  _source.company_response           78313 non-null  object \n",
      " 13  _source.company                    78313 non-null  object \n",
      " 14  _source.submitted_via              78313 non-null  object \n",
      " 15  _source.date_sent_to_company       78313 non-null  object \n",
      " 16  _source.company_public_response    4 non-null      object \n",
      " 17  _source.sub_product                67742 non-null  object \n",
      " 18  _source.timely                     78313 non-null  object \n",
      " 19  _source.complaint_what_happened    78313 non-null  object \n",
      " 20  _source.sub_issue                  32016 non-null  object \n",
      " 21  _source.consumer_consent_provided  77305 non-null  object \n",
      "dtypes: float64(1), object(21)\n",
      "memory usage: 13.1+ MB\n"
     ]
    }
   ],
   "source": [
    "df.info()"
   ]
  },
  {
   "cell_type": "code",
   "execution_count": 7,
   "metadata": {
    "id": "FYCtKXD1JrFw"
   },
   "outputs": [],
   "source": [
    "#Assign new column names"
   ]
  },
  {
   "cell_type": "code",
   "execution_count": 8,
   "metadata": {},
   "outputs": [
    {
     "data": {
      "text/plain": [
       "['index',\n",
       " 'type',\n",
       " 'id',\n",
       " 'score',\n",
       " 'tags',\n",
       " 'zip_code',\n",
       " 'complaint_id',\n",
       " 'issue',\n",
       " 'date_received',\n",
       " 'state',\n",
       " 'consumer_disputed',\n",
       " 'product',\n",
       " 'company_response',\n",
       " 'company',\n",
       " 'submitted_via',\n",
       " 'date_sent_to_company',\n",
       " 'company_public_response',\n",
       " 'sub_product',\n",
       " 'timely',\n",
       " 'complaint_what_happened',\n",
       " 'sub_issue',\n",
       " 'consumer_consent_provided']"
      ]
     },
     "execution_count": 8,
     "metadata": {},
     "output_type": "execute_result"
    }
   ],
   "source": [
    "new_col_names = [column_name.lstrip('_').split('.')[-1] for column_name in df.columns]\n",
    "new_col_names"
   ]
  },
  {
   "cell_type": "code",
   "execution_count": 9,
   "metadata": {},
   "outputs": [],
   "source": [
    "columns=dict(zip(df.columns, new_col_names))\n",
    "df.rename(columns=columns,inplace=True)"
   ]
  },
  {
   "cell_type": "code",
   "execution_count": 10,
   "metadata": {
    "colab": {
     "base_uri": "https://localhost:8080/"
    },
    "id": "LHGXmxESwZNE",
    "outputId": "4724db82-8667-45a8-8d6b-68529498f318"
   },
   "outputs": [],
   "source": [
    "# check column names after update"
   ]
  },
  {
   "cell_type": "code",
   "execution_count": 11,
   "metadata": {},
   "outputs": [
    {
     "name": "stdout",
     "output_type": "stream",
     "text": [
      "<class 'pandas.core.frame.DataFrame'>\n",
      "RangeIndex: 78313 entries, 0 to 78312\n",
      "Data columns (total 22 columns):\n",
      " #   Column                     Non-Null Count  Dtype  \n",
      "---  ------                     --------------  -----  \n",
      " 0   index                      78313 non-null  object \n",
      " 1   type                       78313 non-null  object \n",
      " 2   id                         78313 non-null  object \n",
      " 3   score                      78313 non-null  float64\n",
      " 4   tags                       10900 non-null  object \n",
      " 5   zip_code                   71556 non-null  object \n",
      " 6   complaint_id               78313 non-null  object \n",
      " 7   issue                      78313 non-null  object \n",
      " 8   date_received              78313 non-null  object \n",
      " 9   state                      76322 non-null  object \n",
      " 10  consumer_disputed          78313 non-null  object \n",
      " 11  product                    78313 non-null  object \n",
      " 12  company_response           78313 non-null  object \n",
      " 13  company                    78313 non-null  object \n",
      " 14  submitted_via              78313 non-null  object \n",
      " 15  date_sent_to_company       78313 non-null  object \n",
      " 16  company_public_response    4 non-null      object \n",
      " 17  sub_product                67742 non-null  object \n",
      " 18  timely                     78313 non-null  object \n",
      " 19  complaint_what_happened    78313 non-null  object \n",
      " 20  sub_issue                  32016 non-null  object \n",
      " 21  consumer_consent_provided  77305 non-null  object \n",
      "dtypes: float64(1), object(21)\n",
      "memory usage: 13.1+ MB\n"
     ]
    }
   ],
   "source": [
    "df.info()"
   ]
  },
  {
   "cell_type": "code",
   "execution_count": 12,
   "metadata": {
    "id": "grQUPFL5JrFx"
   },
   "outputs": [],
   "source": [
    "#Assign nan in place of blanks in the complaints column"
   ]
  },
  {
   "cell_type": "code",
   "execution_count": 13,
   "metadata": {},
   "outputs": [],
   "source": [
    "df['complaint'] = df['complaint_what_happened'].replace(r'^\\s*$', np.nan, regex=True)\n",
    "df.drop(columns=['complaint_what_happened'], inplace=True)"
   ]
  },
  {
   "cell_type": "code",
   "execution_count": 14,
   "metadata": {
    "colab": {
     "base_uri": "https://localhost:8080/"
    },
    "id": "fSe3fkxULbUD",
    "outputId": "f42ed89a-189d-410b-aed7-fcf471614fdc"
   },
   "outputs": [
    {
     "data": {
      "text/plain": [
       "0                                                      NaN\n",
       "1        Good morning my name is XXXX XXXX and I apprec...\n",
       "2        I upgraded my XXXX XXXX card in XX/XX/2018 and...\n",
       "3                                                      NaN\n",
       "4                                                      NaN\n",
       "                               ...                        \n",
       "78308                                                  NaN\n",
       "78309    On Wednesday, XX/XX/XXXX I called Chas, my XXX...\n",
       "78310    I am not familiar with XXXX pay and did not un...\n",
       "78311    I have had flawless credit for 30 yrs. I've ha...\n",
       "78312    Roughly 10+ years ago I closed out my accounts...\n",
       "Name: complaint, Length: 78313, dtype: object"
      ]
     },
     "execution_count": 14,
     "metadata": {},
     "output_type": "execute_result"
    }
   ],
   "source": [
    "df['complaint']"
   ]
  },
  {
   "cell_type": "code",
   "execution_count": 15,
   "metadata": {
    "colab": {
     "base_uri": "https://localhost:8080/",
     "height": 982
    },
    "id": "Ge9yw4qcSv73",
    "outputId": "8b4d47db-7165-4e28-b50c-d6337a059040"
   },
   "outputs": [
    {
     "data": {
      "text/html": [
       "<div>\n",
       "<style scoped>\n",
       "    .dataframe tbody tr th:only-of-type {\n",
       "        vertical-align: middle;\n",
       "    }\n",
       "\n",
       "    .dataframe tbody tr th {\n",
       "        vertical-align: top;\n",
       "    }\n",
       "\n",
       "    .dataframe thead th {\n",
       "        text-align: right;\n",
       "    }\n",
       "</style>\n",
       "<table border=\"1\" class=\"dataframe\">\n",
       "  <thead>\n",
       "    <tr style=\"text-align: right;\">\n",
       "      <th></th>\n",
       "      <th>index</th>\n",
       "      <th>type</th>\n",
       "      <th>id</th>\n",
       "      <th>score</th>\n",
       "      <th>tags</th>\n",
       "      <th>zip_code</th>\n",
       "      <th>complaint_id</th>\n",
       "      <th>issue</th>\n",
       "      <th>date_received</th>\n",
       "      <th>state</th>\n",
       "      <th>...</th>\n",
       "      <th>company_response</th>\n",
       "      <th>company</th>\n",
       "      <th>submitted_via</th>\n",
       "      <th>date_sent_to_company</th>\n",
       "      <th>company_public_response</th>\n",
       "      <th>sub_product</th>\n",
       "      <th>timely</th>\n",
       "      <th>sub_issue</th>\n",
       "      <th>consumer_consent_provided</th>\n",
       "      <th>complaint</th>\n",
       "    </tr>\n",
       "  </thead>\n",
       "  <tbody>\n",
       "    <tr>\n",
       "      <th>0</th>\n",
       "      <td>complaint-public-v2</td>\n",
       "      <td>complaint</td>\n",
       "      <td>3211475</td>\n",
       "      <td>0.0</td>\n",
       "      <td>None</td>\n",
       "      <td>90301</td>\n",
       "      <td>3211475</td>\n",
       "      <td>Attempts to collect debt not owed</td>\n",
       "      <td>2019-04-13T12:00:00-05:00</td>\n",
       "      <td>CA</td>\n",
       "      <td>...</td>\n",
       "      <td>Closed with explanation</td>\n",
       "      <td>JPMORGAN CHASE &amp; CO.</td>\n",
       "      <td>Web</td>\n",
       "      <td>2019-04-13T12:00:00-05:00</td>\n",
       "      <td>None</td>\n",
       "      <td>Credit card debt</td>\n",
       "      <td>Yes</td>\n",
       "      <td>Debt is not yours</td>\n",
       "      <td>Consent not provided</td>\n",
       "      <td>NaN</td>\n",
       "    </tr>\n",
       "    <tr>\n",
       "      <th>1</th>\n",
       "      <td>complaint-public-v2</td>\n",
       "      <td>complaint</td>\n",
       "      <td>3229299</td>\n",
       "      <td>0.0</td>\n",
       "      <td>Servicemember</td>\n",
       "      <td>319XX</td>\n",
       "      <td>3229299</td>\n",
       "      <td>Written notification about debt</td>\n",
       "      <td>2019-05-01T12:00:00-05:00</td>\n",
       "      <td>GA</td>\n",
       "      <td>...</td>\n",
       "      <td>Closed with explanation</td>\n",
       "      <td>JPMORGAN CHASE &amp; CO.</td>\n",
       "      <td>Web</td>\n",
       "      <td>2019-05-01T12:00:00-05:00</td>\n",
       "      <td>None</td>\n",
       "      <td>Credit card debt</td>\n",
       "      <td>Yes</td>\n",
       "      <td>Didn't receive enough information to verify debt</td>\n",
       "      <td>Consent provided</td>\n",
       "      <td>Good morning my name is XXXX XXXX and I apprec...</td>\n",
       "    </tr>\n",
       "    <tr>\n",
       "      <th>2</th>\n",
       "      <td>complaint-public-v2</td>\n",
       "      <td>complaint</td>\n",
       "      <td>3199379</td>\n",
       "      <td>0.0</td>\n",
       "      <td>None</td>\n",
       "      <td>77069</td>\n",
       "      <td>3199379</td>\n",
       "      <td>Other features, terms, or problems</td>\n",
       "      <td>2019-04-02T12:00:00-05:00</td>\n",
       "      <td>TX</td>\n",
       "      <td>...</td>\n",
       "      <td>Closed with explanation</td>\n",
       "      <td>JPMORGAN CHASE &amp; CO.</td>\n",
       "      <td>Web</td>\n",
       "      <td>2019-04-02T12:00:00-05:00</td>\n",
       "      <td>None</td>\n",
       "      <td>General-purpose credit card or charge card</td>\n",
       "      <td>Yes</td>\n",
       "      <td>Problem with rewards from credit card</td>\n",
       "      <td>Consent provided</td>\n",
       "      <td>I upgraded my XXXX XXXX card in XX/XX/2018 and...</td>\n",
       "    </tr>\n",
       "    <tr>\n",
       "      <th>3</th>\n",
       "      <td>complaint-public-v2</td>\n",
       "      <td>complaint</td>\n",
       "      <td>2673060</td>\n",
       "      <td>0.0</td>\n",
       "      <td>None</td>\n",
       "      <td>48066</td>\n",
       "      <td>2673060</td>\n",
       "      <td>Trouble during payment process</td>\n",
       "      <td>2017-09-13T12:00:00-05:00</td>\n",
       "      <td>MI</td>\n",
       "      <td>...</td>\n",
       "      <td>Closed with explanation</td>\n",
       "      <td>JPMORGAN CHASE &amp; CO.</td>\n",
       "      <td>Web</td>\n",
       "      <td>2017-09-14T12:00:00-05:00</td>\n",
       "      <td>None</td>\n",
       "      <td>Conventional home mortgage</td>\n",
       "      <td>Yes</td>\n",
       "      <td>None</td>\n",
       "      <td>Consent not provided</td>\n",
       "      <td>NaN</td>\n",
       "    </tr>\n",
       "    <tr>\n",
       "      <th>4</th>\n",
       "      <td>complaint-public-v2</td>\n",
       "      <td>complaint</td>\n",
       "      <td>3203545</td>\n",
       "      <td>0.0</td>\n",
       "      <td>None</td>\n",
       "      <td>10473</td>\n",
       "      <td>3203545</td>\n",
       "      <td>Fees or interest</td>\n",
       "      <td>2019-04-05T12:00:00-05:00</td>\n",
       "      <td>NY</td>\n",
       "      <td>...</td>\n",
       "      <td>Closed with explanation</td>\n",
       "      <td>JPMORGAN CHASE &amp; CO.</td>\n",
       "      <td>Referral</td>\n",
       "      <td>2019-04-05T12:00:00-05:00</td>\n",
       "      <td>None</td>\n",
       "      <td>General-purpose credit card or charge card</td>\n",
       "      <td>Yes</td>\n",
       "      <td>Charged too much interest</td>\n",
       "      <td>N/A</td>\n",
       "      <td>NaN</td>\n",
       "    </tr>\n",
       "  </tbody>\n",
       "</table>\n",
       "<p>5 rows × 22 columns</p>\n",
       "</div>"
      ],
      "text/plain": [
       "                 index       type       id  score           tags zip_code  \\\n",
       "0  complaint-public-v2  complaint  3211475    0.0           None    90301   \n",
       "1  complaint-public-v2  complaint  3229299    0.0  Servicemember    319XX   \n",
       "2  complaint-public-v2  complaint  3199379    0.0           None    77069   \n",
       "3  complaint-public-v2  complaint  2673060    0.0           None    48066   \n",
       "4  complaint-public-v2  complaint  3203545    0.0           None    10473   \n",
       "\n",
       "  complaint_id                               issue              date_received  \\\n",
       "0      3211475   Attempts to collect debt not owed  2019-04-13T12:00:00-05:00   \n",
       "1      3229299     Written notification about debt  2019-05-01T12:00:00-05:00   \n",
       "2      3199379  Other features, terms, or problems  2019-04-02T12:00:00-05:00   \n",
       "3      2673060      Trouble during payment process  2017-09-13T12:00:00-05:00   \n",
       "4      3203545                    Fees or interest  2019-04-05T12:00:00-05:00   \n",
       "\n",
       "  state  ...         company_response               company submitted_via  \\\n",
       "0    CA  ...  Closed with explanation  JPMORGAN CHASE & CO.           Web   \n",
       "1    GA  ...  Closed with explanation  JPMORGAN CHASE & CO.           Web   \n",
       "2    TX  ...  Closed with explanation  JPMORGAN CHASE & CO.           Web   \n",
       "3    MI  ...  Closed with explanation  JPMORGAN CHASE & CO.           Web   \n",
       "4    NY  ...  Closed with explanation  JPMORGAN CHASE & CO.      Referral   \n",
       "\n",
       "        date_sent_to_company company_public_response  \\\n",
       "0  2019-04-13T12:00:00-05:00                    None   \n",
       "1  2019-05-01T12:00:00-05:00                    None   \n",
       "2  2019-04-02T12:00:00-05:00                    None   \n",
       "3  2017-09-14T12:00:00-05:00                    None   \n",
       "4  2019-04-05T12:00:00-05:00                    None   \n",
       "\n",
       "                                  sub_product timely  \\\n",
       "0                            Credit card debt    Yes   \n",
       "1                            Credit card debt    Yes   \n",
       "2  General-purpose credit card or charge card    Yes   \n",
       "3                  Conventional home mortgage    Yes   \n",
       "4  General-purpose credit card or charge card    Yes   \n",
       "\n",
       "                                          sub_issue consumer_consent_provided  \\\n",
       "0                                 Debt is not yours      Consent not provided   \n",
       "1  Didn't receive enough information to verify debt          Consent provided   \n",
       "2             Problem with rewards from credit card          Consent provided   \n",
       "3                                              None      Consent not provided   \n",
       "4                         Charged too much interest                       N/A   \n",
       "\n",
       "                                           complaint  \n",
       "0                                                NaN  \n",
       "1  Good morning my name is XXXX XXXX and I apprec...  \n",
       "2  I upgraded my XXXX XXXX card in XX/XX/2018 and...  \n",
       "3                                                NaN  \n",
       "4                                                NaN  \n",
       "\n",
       "[5 rows x 22 columns]"
      ]
     },
     "execution_count": 15,
     "metadata": {},
     "output_type": "execute_result"
    }
   ],
   "source": [
    "df.head(5)"
   ]
  },
  {
   "cell_type": "code",
   "execution_count": 16,
   "metadata": {
    "colab": {
     "base_uri": "https://localhost:8080/"
    },
    "id": "BungUAwQTTNV",
    "outputId": "817a34d3-9aba-43de-8848-f4e293348e6c"
   },
   "outputs": [
    {
     "data": {
      "text/plain": [
       "(78313, 22)"
      ]
     },
     "execution_count": 16,
     "metadata": {},
     "output_type": "execute_result"
    }
   ],
   "source": [
    "df.shape"
   ]
  },
  {
   "cell_type": "code",
   "execution_count": 17,
   "metadata": {
    "id": "Jfxd8VSmJrFy"
   },
   "outputs": [],
   "source": [
    "#Remove all rows where complaints column is nan\n",
    "df = df.dropna(subset=['complaint'])"
   ]
  },
  {
   "cell_type": "code",
   "execution_count": 18,
   "metadata": {
    "colab": {
     "base_uri": "https://localhost:8080/"
    },
    "id": "Q9hQvJnKTjSo",
    "outputId": "7bc4483a-198f-46cc-fafc-9bef5ef383e1"
   },
   "outputs": [
    {
     "data": {
      "text/plain": [
       "(21072, 22)"
      ]
     },
     "execution_count": 18,
     "metadata": {},
     "output_type": "execute_result"
    }
   ],
   "source": [
    "# verify how many rows are dropped\n",
    "df.shape"
   ]
  },
  {
   "cell_type": "code",
   "execution_count": 19,
   "metadata": {
    "colab": {
     "base_uri": "https://localhost:8080/"
    },
    "id": "eZUw300xQvLN",
    "outputId": "b5550759-3c36-4220-b4f3-f1f0078b4a02"
   },
   "outputs": [
    {
     "data": {
      "text/plain": [
       "1     Good morning my name is XXXX XXXX and I apprec...\n",
       "2     I upgraded my XXXX XXXX card in XX/XX/2018 and...\n",
       "10    Chase Card was reported on XX/XX/2019. However...\n",
       "11    On XX/XX/2018, while trying to book a XXXX  XX...\n",
       "14    my grand son give me check for {$1600.00} i de...\n",
       "Name: complaint, dtype: object"
      ]
     },
     "execution_count": 19,
     "metadata": {},
     "output_type": "execute_result"
    }
   ],
   "source": [
    "df['complaint'].head()"
   ]
  },
  {
   "cell_type": "markdown",
   "metadata": {
    "id": "L944HZpsJrFy"
   },
   "source": [
    "## Prepare the text for topic modeling\n",
    "\n",
    "Once you have removed all the blank complaints, you need to:\n",
    "\n",
    "* Make the text lowercase\n",
    "* Remove text in square brackets\n",
    "* Remove punctuation\n",
    "* Remove words containing numbers\n",
    "\n",
    "\n",
    "Once you have done these cleaning operations you need to perform the following:\n",
    "* Lemmatize the texts\n",
    "* Use POS tags to get relevant words from the texts.\n"
   ]
  },
  {
   "cell_type": "code",
   "execution_count": 20,
   "metadata": {
    "id": "QuIoAlbxF9OR"
   },
   "outputs": [],
   "source": [
    "# Write your function here to clean the text and remove all the unnecessary elements.\n",
    "def pre_process(text):\n",
    "    \n",
    "    # convert to lower\n",
    "    text = text.lower()\n",
    "    \n",
    "    # remove text in sq. bracket\n",
    "    # search and remove text within square brackets followed by zero or more spaces\n",
    "    # use non-greedy matching to match all square brackets separately\n",
    "    text = re.sub(\"\\[.*?\\]\\s*\", \"\", text)\n",
    "    \n",
    "    # remove punc.\n",
    "    # create a translation table to remove all punctuations\n",
    "    text = text.translate(str.maketrans('', '', string.punctuation))\n",
    "\n",
    "    # remove words with nos.\n",
    "    # search and remove digits surrounded by 0 or more alphanumeric chars followed by zero or more spaces\n",
    "    text = re.sub(\"\\w*\\d+\\w*\\s*\", \"\", text)\n",
    "    \n",
    "    return text"
   ]
  },
  {
   "cell_type": "code",
   "execution_count": 21,
   "metadata": {
    "id": "afn2MtPsF9OT"
   },
   "outputs": [],
   "source": [
    "#Write your function to Lemmatize the texts"
   ]
  },
  {
   "cell_type": "code",
   "execution_count": 22,
   "metadata": {},
   "outputs": [],
   "source": [
    "lemmatizer = WordNetLemmatizer()\n",
    "\n",
    "def apply_lemma(pre_processed_text):\n",
    "    # tokenize\n",
    "    tokens = word_tokenize(pre_processed_text)\n",
    "    \n",
    "    # lemmatize \n",
    "    lemmatized_tokens = []\n",
    "    for token, tag in pos_tag(tokens):\n",
    "        lemmatized_word = lemmatizer.lemmatize(token, get_wordnet_pos(tag))\n",
    "        lemmatized_tokens.append(lemmatized_word)\n",
    "        \n",
    "    return \" \".join(lemmatized_tokens)\n",
    "\n",
    "def get_wordnet_pos(treebank_tag):\n",
    "    \"\"\"\n",
    "    helper method to translate treebank tag to wordnet tags,\n",
    "    as required by lemmatize method\n",
    "    \"\"\"\n",
    "    if treebank_tag.startswith('J'):\n",
    "        return wordnet.ADJ\n",
    "    elif treebank_tag.startswith('V'):\n",
    "        return wordnet.VERB\n",
    "    elif treebank_tag.startswith('N'):\n",
    "        return wordnet.NOUN\n",
    "    elif treebank_tag.startswith('R'):\n",
    "        return wordnet.ADV\n",
    "    else:\n",
    "        # default to noun as that is the default in lemmatize method too\n",
    "        return wordnet.NOUN"
   ]
  },
  {
   "cell_type": "code",
   "execution_count": 23,
   "metadata": {
    "colab": {
     "base_uri": "https://localhost:8080/"
    },
    "id": "tpg1HhwhKgx1",
    "outputId": "95b70704-1f65-496e-d73a-618a1c67315a"
   },
   "outputs": [
    {
     "name": "stderr",
     "output_type": "stream",
     "text": [
      "[nltk_data] Downloading package punkt to C:\\Users\\Avijit\n",
      "[nltk_data]     Chakraborty\\AppData\\Roaming\\nltk_data...\n",
      "[nltk_data]   Package punkt is already up-to-date!\n",
      "[nltk_data] Downloading package averaged_perceptron_tagger to\n",
      "[nltk_data]     C:\\Users\\Avijit\n",
      "[nltk_data]     Chakraborty\\AppData\\Roaming\\nltk_data...\n",
      "[nltk_data]   Package averaged_perceptron_tagger is already up-to-\n",
      "[nltk_data]       date!\n",
      "[nltk_data] Downloading package wordnet to C:\\Users\\Avijit\n",
      "[nltk_data]     Chakraborty\\AppData\\Roaming\\nltk_data...\n",
      "[nltk_data]   Package wordnet is already up-to-date!\n"
     ]
    },
    {
     "data": {
      "text/plain": [
       "True"
      ]
     },
     "execution_count": 23,
     "metadata": {},
     "output_type": "execute_result"
    }
   ],
   "source": [
    "import nltk\n",
    "nltk.download('punkt')\n",
    "nltk.download('averaged_perceptron_tagger')\n",
    "nltk.download('wordnet')"
   ]
  },
  {
   "cell_type": "code",
   "execution_count": 24,
   "metadata": {
    "colab": {
     "base_uri": "https://localhost:8080/",
     "height": 81,
     "referenced_widgets": [
      "20b4f0b0f999425f8a737ce5ea67d9aa",
      "d370d2a664014acb898e468a26213b97",
      "bb741440b11c480788bc15b3ce5e4127",
      "5a4239c6d7854778a6ea1d4d6638ffea",
      "c8a010a8804f44cb83b2072e7acebbca",
      "5630c1b05a724a2c80de3487ead71a44",
      "ed51d0fbd49d40d8835892b07cc958c1",
      "519d0d7c1e10407faea084851b2f8dc7",
      "62f261627d814daaad2e3e16745def64",
      "e38dc854270948d884fd6778c9b07d49",
      "beeed126b7574a89ac986027bf2b3008",
      "e4e38756feda46c9939dc56c7fb9a2cf",
      "be23775b2ec04d859d0164010e2f573c",
      "c2a49184e9c74bcfbf66adb00b5949c5",
      "c5591213cc3c420aa199418055dde079",
      "66978ccb646e4c22852902c5048a8003",
      "3b001fe5ab2e4bcab1f38c65bfe890ba",
      "7cecabc820f14d86a27f6a6210d3ea43",
      "3000979812294c5d918a9a5d50dab4ca",
      "a577a9b1fb6e4ba8b2bc1789484cacf0",
      "1f44ad5679984f06be09c8b580099906",
      "68488fbe19ea448abe31c08907e47a53"
     ]
    },
    "id": "uXnN7aa_JrF0",
    "outputId": "fc0dc7c2-8d6f-4a46-806a-23774b6d6c41"
   },
   "outputs": [],
   "source": [
    "#Create a dataframe('df_clean') that will have only the complaints and the lemmatized complaints "
   ]
  },
  {
   "cell_type": "code",
   "execution_count": 25,
   "metadata": {},
   "outputs": [],
   "source": [
    "df_clean = pd.DataFrame()"
   ]
  },
  {
   "cell_type": "code",
   "execution_count": 26,
   "metadata": {},
   "outputs": [
    {
     "data": {
      "application/vnd.jupyter.widget-view+json": {
       "model_id": "0698e6b396084c0aa7faa72270078a53",
       "version_major": 2,
       "version_minor": 0
      },
      "text/plain": [
       "Pandas Apply:   0%|          | 0/21072 [00:00<?, ?it/s]"
      ]
     },
     "metadata": {},
     "output_type": "display_data"
    },
    {
     "data": {
      "application/vnd.jupyter.widget-view+json": {
       "model_id": "879d06926eb140b08a13cd8a65bbd5a5",
       "version_major": 2,
       "version_minor": 0
      },
      "text/plain": [
       "Pandas Apply:   0%|          | 0/21072 [00:00<?, ?it/s]"
      ]
     },
     "metadata": {},
     "output_type": "display_data"
    }
   ],
   "source": [
    "df_clean['complaint'] = df.complaint.swifter.apply(pre_process)\n",
    "df_clean['lemmatized_complaint'] = df_clean.complaint.swifter.apply(apply_lemma)"
   ]
  },
  {
   "cell_type": "code",
   "execution_count": 27,
   "metadata": {
    "colab": {
     "base_uri": "https://localhost:8080/",
     "height": 363
    },
    "id": "vbdSO3GewFia",
    "outputId": "4b84a5d7-320b-42cb-e54f-aba584bafc4f"
   },
   "outputs": [
    {
     "data": {
      "text/html": [
       "<div>\n",
       "<style scoped>\n",
       "    .dataframe tbody tr th:only-of-type {\n",
       "        vertical-align: middle;\n",
       "    }\n",
       "\n",
       "    .dataframe tbody tr th {\n",
       "        vertical-align: top;\n",
       "    }\n",
       "\n",
       "    .dataframe thead th {\n",
       "        text-align: right;\n",
       "    }\n",
       "</style>\n",
       "<table border=\"1\" class=\"dataframe\">\n",
       "  <thead>\n",
       "    <tr style=\"text-align: right;\">\n",
       "      <th></th>\n",
       "      <th>complaint</th>\n",
       "      <th>lemmatized_complaint</th>\n",
       "    </tr>\n",
       "  </thead>\n",
       "  <tbody>\n",
       "    <tr>\n",
       "      <th>1</th>\n",
       "      <td>good morning my name is xxxx xxxx and i apprec...</td>\n",
       "      <td>good morning my name be xxxx xxxx and i apprec...</td>\n",
       "    </tr>\n",
       "    <tr>\n",
       "      <th>2</th>\n",
       "      <td>i upgraded my xxxx xxxx card in and was told b...</td>\n",
       "      <td>i upgrade my xxxx xxxx card in and be tell by ...</td>\n",
       "    </tr>\n",
       "    <tr>\n",
       "      <th>10</th>\n",
       "      <td>chase card was reported on however fraudulent ...</td>\n",
       "      <td>chase card be report on however fraudulent app...</td>\n",
       "    </tr>\n",
       "    <tr>\n",
       "      <th>11</th>\n",
       "      <td>on while trying to book a xxxx  xxxx  ticket i...</td>\n",
       "      <td>on while try to book a xxxx xxxx ticket i come...</td>\n",
       "    </tr>\n",
       "    <tr>\n",
       "      <th>14</th>\n",
       "      <td>my grand son give me check for i deposit it in...</td>\n",
       "      <td>my grand son give me check for i deposit it in...</td>\n",
       "    </tr>\n",
       "  </tbody>\n",
       "</table>\n",
       "</div>"
      ],
      "text/plain": [
       "                                            complaint  \\\n",
       "1   good morning my name is xxxx xxxx and i apprec...   \n",
       "2   i upgraded my xxxx xxxx card in and was told b...   \n",
       "10  chase card was reported on however fraudulent ...   \n",
       "11  on while trying to book a xxxx  xxxx  ticket i...   \n",
       "14  my grand son give me check for i deposit it in...   \n",
       "\n",
       "                                 lemmatized_complaint  \n",
       "1   good morning my name be xxxx xxxx and i apprec...  \n",
       "2   i upgrade my xxxx xxxx card in and be tell by ...  \n",
       "10  chase card be report on however fraudulent app...  \n",
       "11  on while try to book a xxxx xxxx ticket i come...  \n",
       "14  my grand son give me check for i deposit it in...  "
      ]
     },
     "execution_count": 27,
     "metadata": {},
     "output_type": "execute_result"
    }
   ],
   "source": [
    "df_clean.head()"
   ]
  },
  {
   "cell_type": "code",
   "execution_count": 28,
   "metadata": {
    "id": "OlcnVSWDF9OX"
   },
   "outputs": [],
   "source": [
    "#Write your function to extract the POS tags "
   ]
  },
  {
   "cell_type": "code",
   "execution_count": 29,
   "metadata": {},
   "outputs": [],
   "source": [
    "model = spacy.load(\"en_core_web_sm\")\n",
    "#\n",
    "def extract_POS_tags(pre_processed_text):\n",
    "    # extract NOUN POS, ignore all other POS\n",
    "    nouns = []\n",
    "    doc = model(pre_processed_text)\n",
    "    for tok in doc:\n",
    "        if tok.pos_ in [\"NOUN\", \"PROPN\"]:\n",
    "            nouns.append(tok.text)\n",
    "\n",
    "    return \" \".join(nouns)"
   ]
  },
  {
   "cell_type": "code",
   "execution_count": 30,
   "metadata": {
    "colab": {
     "base_uri": "https://localhost:8080/",
     "height": 49,
     "referenced_widgets": [
      "ceab0b17d3b44e5097ddb5a04aeca25a",
      "298094a21e53467bb5612cc36c0f8258",
      "24a1db8740df492584fadd5d0adf60c7",
      "9142771475a748a097f3fbd3b8b19ec8",
      "0ecc2ad1d6e9405190561e3cbbb65f81",
      "f59d124a0ef847109de21ed9c3b26ac8",
      "1fc5eb451ef7414d8d256d33b53b6f13",
      "6929ba8659d243c2856d91efeb4c27f1",
      "600dc20cb00f4d7fa6aa73b748550c8a",
      "53d00a15ebe1447cae0d450c0c9fdf18",
      "ac0c2904d5dd4efca7119bb58d32bcfd"
     ]
    },
    "id": "7JOpGYat3ZmI",
    "outputId": "6a7695b4-3348-4b9c-d225-c8e7300689df"
   },
   "outputs": [],
   "source": [
    "#The clean dataframe should now contain the raw complaint, lemmatized complaint and the complaint after removing POS tags."
   ]
  },
  {
   "cell_type": "code",
   "execution_count": 31,
   "metadata": {},
   "outputs": [
    {
     "data": {
      "application/vnd.jupyter.widget-view+json": {
       "model_id": "f871006083774b629090dd96aea22f8e",
       "version_major": 2,
       "version_minor": 0
      },
      "text/plain": [
       "Pandas Apply:   0%|          | 0/21072 [00:00<?, ?it/s]"
      ]
     },
     "metadata": {},
     "output_type": "display_data"
    }
   ],
   "source": [
    "df_clean['extracted_complaint'] = df_clean.complaint.swifter.apply(extract_POS_tags)"
   ]
  },
  {
   "cell_type": "code",
   "execution_count": 32,
   "metadata": {
    "colab": {
     "base_uri": "https://localhost:8080/",
     "height": 363
    },
    "id": "AjxfchvFJrF2",
    "outputId": "70146f12-29f5-43e8-809f-0b322290403c"
   },
   "outputs": [
    {
     "data": {
      "text/html": [
       "<div>\n",
       "<style scoped>\n",
       "    .dataframe tbody tr th:only-of-type {\n",
       "        vertical-align: middle;\n",
       "    }\n",
       "\n",
       "    .dataframe tbody tr th {\n",
       "        vertical-align: top;\n",
       "    }\n",
       "\n",
       "    .dataframe thead th {\n",
       "        text-align: right;\n",
       "    }\n",
       "</style>\n",
       "<table border=\"1\" class=\"dataframe\">\n",
       "  <thead>\n",
       "    <tr style=\"text-align: right;\">\n",
       "      <th></th>\n",
       "      <th>complaint</th>\n",
       "      <th>lemmatized_complaint</th>\n",
       "      <th>extracted_complaint</th>\n",
       "    </tr>\n",
       "  </thead>\n",
       "  <tbody>\n",
       "    <tr>\n",
       "      <th>47443</th>\n",
       "      <td>i was the victim of grand larceny by false pre...</td>\n",
       "      <td>i be the victim of grand larceny by false pret...</td>\n",
       "      <td>victim larceny pretenses country complaint xxx...</td>\n",
       "    </tr>\n",
       "    <tr>\n",
       "      <th>30228</th>\n",
       "      <td>on xxxx i went to my local chase bank to withd...</td>\n",
       "      <td>on xxxx i go to my local chase bank to withdra...</td>\n",
       "      <td>xxxx chase bank money atm funds parking lot ph...</td>\n",
       "    </tr>\n",
       "    <tr>\n",
       "      <th>21251</th>\n",
       "      <td>i have a xxxx account with no incoming interna...</td>\n",
       "      <td>i have a xxxx account with no incoming interna...</td>\n",
       "      <td>account wire fee chase wire fee fee contact ch...</td>\n",
       "    </tr>\n",
       "    <tr>\n",
       "      <th>20319</th>\n",
       "      <td>to whom it may concern i would like to appeal ...</td>\n",
       "      <td>to whom it may concern i would like to appeal ...</td>\n",
       "      <td>chase banks decision xxxxxxxx chase letter xxx...</td>\n",
       "    </tr>\n",
       "    <tr>\n",
       "      <th>62004</th>\n",
       "      <td>i have purchased xxxx from a vendor on they in...</td>\n",
       "      <td>i have purchase xxxx from a vendor on they inv...</td>\n",
       "      <td>xxxx vendor amount vendor charge amounts credi...</td>\n",
       "    </tr>\n",
       "    <tr>\n",
       "      <th>61172</th>\n",
       "      <td>due to identify theft i feel behind on my loan...</td>\n",
       "      <td>due to identify theft i feel behind on my loan...</td>\n",
       "      <td>theft loan payments auto finance order assets ...</td>\n",
       "    </tr>\n",
       "    <tr>\n",
       "      <th>40046</th>\n",
       "      <td>i applied for the chase xxxx mileage plus club...</td>\n",
       "      <td>i apply for the chase xxxx mileage plus club c...</td>\n",
       "      <td>chase xxxx mileage club card xxxxxxxx time web...</td>\n",
       "    </tr>\n",
       "    <tr>\n",
       "      <th>65091</th>\n",
       "      <td>hello i signed up for automatic payment in xxx...</td>\n",
       "      <td>hello i sign up for automatic payment in xxxxx...</td>\n",
       "      <td>payment xxxxxxxx chase credit card bank accoun...</td>\n",
       "    </tr>\n",
       "    <tr>\n",
       "      <th>70664</th>\n",
       "      <td>hi i find chase freedom practice to be in viol...</td>\n",
       "      <td>hi i find chase freedom practice to be in viol...</td>\n",
       "      <td>chase freedom practice violation udaap piece c...</td>\n",
       "    </tr>\n",
       "    <tr>\n",
       "      <th>39845</th>\n",
       "      <td>today  i had a very strange conversation with ...</td>\n",
       "      <td>today i have a very strange conversation with ...</td>\n",
       "      <td>today conversation chase offices xxxx problems...</td>\n",
       "    </tr>\n",
       "  </tbody>\n",
       "</table>\n",
       "</div>"
      ],
      "text/plain": [
       "                                               complaint  \\\n",
       "47443  i was the victim of grand larceny by false pre...   \n",
       "30228  on xxxx i went to my local chase bank to withd...   \n",
       "21251  i have a xxxx account with no incoming interna...   \n",
       "20319  to whom it may concern i would like to appeal ...   \n",
       "62004  i have purchased xxxx from a vendor on they in...   \n",
       "61172  due to identify theft i feel behind on my loan...   \n",
       "40046  i applied for the chase xxxx mileage plus club...   \n",
       "65091  hello i signed up for automatic payment in xxx...   \n",
       "70664  hi i find chase freedom practice to be in viol...   \n",
       "39845  today  i had a very strange conversation with ...   \n",
       "\n",
       "                                    lemmatized_complaint  \\\n",
       "47443  i be the victim of grand larceny by false pret...   \n",
       "30228  on xxxx i go to my local chase bank to withdra...   \n",
       "21251  i have a xxxx account with no incoming interna...   \n",
       "20319  to whom it may concern i would like to appeal ...   \n",
       "62004  i have purchase xxxx from a vendor on they inv...   \n",
       "61172  due to identify theft i feel behind on my loan...   \n",
       "40046  i apply for the chase xxxx mileage plus club c...   \n",
       "65091  hello i sign up for automatic payment in xxxxx...   \n",
       "70664  hi i find chase freedom practice to be in viol...   \n",
       "39845  today i have a very strange conversation with ...   \n",
       "\n",
       "                                     extracted_complaint  \n",
       "47443  victim larceny pretenses country complaint xxx...  \n",
       "30228  xxxx chase bank money atm funds parking lot ph...  \n",
       "21251  account wire fee chase wire fee fee contact ch...  \n",
       "20319  chase banks decision xxxxxxxx chase letter xxx...  \n",
       "62004  xxxx vendor amount vendor charge amounts credi...  \n",
       "61172  theft loan payments auto finance order assets ...  \n",
       "40046  chase xxxx mileage club card xxxxxxxx time web...  \n",
       "65091  payment xxxxxxxx chase credit card bank accoun...  \n",
       "70664  chase freedom practice violation udaap piece c...  \n",
       "39845  today conversation chase offices xxxx problems...  "
      ]
     },
     "execution_count": 32,
     "metadata": {},
     "output_type": "execute_result"
    }
   ],
   "source": [
    "df_clean.sample(10)"
   ]
  },
  {
   "cell_type": "markdown",
   "metadata": {
    "id": "_7Un1AElJrF2"
   },
   "source": [
    "## Exploratory data analysis to get familiar with the data.\n",
    "\n",
    "Write the code in this task to perform the following:\n",
    "\n",
    "*   Visualise the data according to the 'Complaint' character length\n",
    "*   Using a word cloud find the top 40 words by frequency among all the articles after processing the text\n",
    "*   Find the top unigrams,bigrams and trigrams by frequency among all the complaints after processing the text. ‘\n",
    "\n",
    "\n"
   ]
  },
  {
   "cell_type": "code",
   "execution_count": 33,
   "metadata": {
    "colab": {
     "base_uri": "https://localhost:8080/",
     "height": 421
    },
    "id": "q-zaqJF6JrF2",
    "outputId": "4b9e7d48-e64e-4657-f3ba-cfa3ec7fbd09"
   },
   "outputs": [
    {
     "data": {
      "text/plain": [
       "<AxesSubplot:title={'center':'Complaints distribution by length'}, xlabel='length of complaint', ylabel='Frequency'>"
      ]
     },
     "execution_count": 33,
     "metadata": {},
     "output_type": "execute_result"
    },
    {
     "data": {
      "image/png": "[encoded data removed]",
      "text/plain": [
       "<Figure size 864x432 with 1 Axes>"
      ]
     },
     "metadata": {
      "needs_background": "light"
     },
     "output_type": "display_data"
    }
   ],
   "source": [
    "# Write your code here to visualise the data according to the 'Complaint' character length\n",
    "plt.xlabel(\"length of complaint\")\n",
    "plt.ylabel(\"frequency\")\n",
    "plt.title(\"Complaints distribution by length\")\n",
    "#\n",
    "df_clean['complaint'].str.len().plot(kind='hist', \n",
    "                                     bins=[20,50,100,200,400,1000,2000,5000,10000,20000],\n",
    "                                     figsize=(12,6))"
   ]
  },
  {
   "cell_type": "markdown",
   "metadata": {
    "id": "T9jD_6SeJrF3"
   },
   "source": [
    "#### Find the top 40 words by frequency among all the articles after processing the text."
   ]
  },
  {
   "cell_type": "code",
   "execution_count": 34,
   "metadata": {
    "id": "9X9ymehPF9Ob"
   },
   "outputs": [],
   "source": [
    "# Using a word cloud find the top 40 words by frequency among all the articles after processing the text"
   ]
  },
  {
   "cell_type": "code",
   "execution_count": 35,
   "metadata": {},
   "outputs": [],
   "source": [
    "all_complaints = ' '.join(df_clean['extracted_complaint'])\n",
    "all_complaints = re.sub(\"x{2,}\", \"x\", all_complaints)"
   ]
  },
  {
   "cell_type": "code",
   "execution_count": 36,
   "metadata": {
    "id": "GMCc-wpsF9Oc"
   },
   "outputs": [],
   "source": [
    "stopwords = STOPWORDS\n",
    "stopwords.add('x')\n",
    "wordcloud = WordCloud(stopwords=stopwords, background_color=\"white\", max_words=40).generate(all_complaints)"
   ]
  },
  {
   "cell_type": "code",
   "execution_count": 37,
   "metadata": {
    "colab": {
     "base_uri": "https://localhost:8080/",
     "height": 449
    },
    "id": "rk-Ht7OPF9Oc",
    "outputId": "d8236563-57f6-465a-e670-53c5e2c6e533"
   },
   "outputs": [
    {
     "data": {
      "image/png": "[encoded data removed]",
      "text/plain": [
       "<Figure size 1080x1080 with 1 Axes>"
      ]
     },
     "metadata": {
      "needs_background": "light"
     },
     "output_type": "display_data"
    }
   ],
   "source": [
    "rcParams['figure.figsize'] = 15, 15\n",
    "plt.imshow(wordcloud)\n",
    "plt.axis(\"off\")\n",
    "plt.show()"
   ]
  },
  {
   "cell_type": "code",
   "execution_count": 38,
   "metadata": {
    "colab": {
     "base_uri": "https://localhost:8080/"
    },
    "id": "Msz2dSePF9Od",
    "outputId": "71ef2b17-0c70-45c7-dc47-47ebb5afc0fa"
   },
   "outputs": [],
   "source": [
    "# print top 40 words"
   ]
  },
  {
   "cell_type": "code",
   "execution_count": 39,
   "metadata": {},
   "outputs": [
    {
     "data": {
      "text/plain": [
       "{'credit card': 1.0,\n",
       " 'chase bank': 0.9501557632398754,\n",
       " 'time': 0.6579439252336449,\n",
       " 'information': 0.4260903426791277,\n",
       " 'charge': 0.42118380062305294,\n",
       " 'year': 0.3912772585669782,\n",
       " 'day': 0.3611370716510903,\n",
       " 'money': 0.33574766355140184,\n",
       " 'transaction': 0.3031931464174455,\n",
       " 'credit report': 0.29906542056074764,\n",
       " 'letter': 0.2979750778816199,\n",
       " 'month': 0.2841121495327103,\n",
       " 'account': 0.2832554517133956,\n",
       " 'chase credit': 0.27764797507788164,\n",
       " 'issue': 0.2765576323987539,\n",
       " 'account chase': 0.2749221183800623,\n",
       " 'check': 0.27414330218068533,\n",
       " 'amount': 0.24610591900311526,\n",
       " 'chase': 0.24376947040498442,\n",
       " 'company': 0.24338006230529596,\n",
       " 'customer service': 0.23925233644859814,\n",
       " 'payment': 0.22009345794392524,\n",
       " 'claim': 0.21799065420560748,\n",
       " 'bank account': 0.2159657320872274,\n",
       " 'document': 0.215809968847352,\n",
       " 'week': 0.2072429906542056,\n",
       " 'fee': 0.202803738317757,\n",
       " 'checking account': 0.2014018691588785,\n",
       " 'fund': 0.19929906542056075,\n",
       " 'way': 0.19447040498442367,\n",
       " 'morgan chase': 0.1923676012461059,\n",
       " 'case': 0.19205607476635514,\n",
       " 'complaint': 0.19190031152647974,\n",
       " 'person': 0.19073208722741433,\n",
       " 'jp morgan': 0.1895638629283489,\n",
       " 'today': 0.18652647975077882,\n",
       " 'reason': 0.1835669781931464,\n",
       " 'fact': 0.18309968847352026,\n",
       " 'email': 0.18271028037383177,\n",
       " 'loan': 0.17920560747663553}"
      ]
     },
     "execution_count": 39,
     "metadata": {},
     "output_type": "execute_result"
    }
   ],
   "source": [
    "wordcloud.words_"
   ]
  },
  {
   "cell_type": "code",
   "execution_count": 40,
   "metadata": {
    "id": "Dp1r7c3tF9Od"
   },
   "outputs": [],
   "source": [
    "# count no. of occurences of each of top 40 words in the corpus"
   ]
  },
  {
   "cell_type": "code",
   "execution_count": 41,
   "metadata": {},
   "outputs": [],
   "source": [
    "words = []\n",
    "counts = []\n",
    "for word in wordcloud.words_:\n",
    "    words.append(word)\n",
    "    counts.append(all_complaints.count(word))"
   ]
  },
  {
   "cell_type": "code",
   "execution_count": 42,
   "metadata": {},
   "outputs": [],
   "source": [
    "# put it in a dataframe and sort\n",
    "word_counts = pd.DataFrame({'word': words, 'count': counts})\n",
    "word_counts= word_counts.sort_values(by=['count'])"
   ]
  },
  {
   "cell_type": "code",
   "execution_count": 43,
   "metadata": {
    "colab": {
     "base_uri": "https://localhost:8080/",
     "height": 910
    },
    "id": "2wWvP-N8F9Oe",
    "outputId": "18e36c9a-e841-4636-9aaf-0659ee71e9e0"
   },
   "outputs": [],
   "source": [
    "# plot top 40 words and their count"
   ]
  },
  {
   "cell_type": "code",
   "execution_count": 44,
   "metadata": {},
   "outputs": [
    {
     "data": {
      "text/plain": [
       "<BarContainer object of 40 artists>"
      ]
     },
     "execution_count": 44,
     "metadata": {},
     "output_type": "execute_result"
    },
    {
     "data": {
      "image/png": "[encoded data removed]",
      "text/plain": [
       "<Figure size 1080x1080 with 1 Axes>"
      ]
     },
     "metadata": {
      "needs_background": "light"
     },
     "output_type": "display_data"
    }
   ],
   "source": [
    "colors = cm.rainbow(np.linspace(0, 1, 10))\n",
    "rcParams['figure.figsize'] = 15, 15\n",
    "plt.title('Top 40 words vs their count')\n",
    "plt.xlabel('Count')\n",
    "plt.ylabel('Words')\n",
    "plt.barh(word_counts['word'], word_counts['count'], color=colors)  "
   ]
  },
  {
   "cell_type": "markdown",
   "metadata": {
    "id": "5DfCSbbmJrF4"
   },
   "source": [
    "#### Find the top unigrams,bigrams and trigrams by frequency among all the complaints after processing the text."
   ]
  },
  {
   "cell_type": "code",
   "execution_count": 45,
   "metadata": {
    "colab": {
     "base_uri": "https://localhost:8080/"
    },
    "id": "5mbk5DS5JrF4",
    "outputId": "8bc5a842-d967-4a55-ec2f-6ce53de86a4a"
   },
   "outputs": [],
   "source": [
    "#Write your code here to find the top 30 unigram frequency among the complaints in the cleaned datafram(df_clean). "
   ]
  },
  {
   "cell_type": "code",
   "execution_count": 46,
   "metadata": {},
   "outputs": [],
   "source": [
    "import nltk, re, string, collections\n",
    "from nltk.util import ngrams\n",
    "#\n",
    "# replace previously converted 'x' by empty string\n",
    "all_complaints = all_complaints.replace('x','')\n",
    "#\n",
    "tokenized = all_complaints.split()\n",
    "unigrams = ngrams(tokenized, 1)\n",
    "#\n",
    "unigrams_freq = collections.Counter(unigrams)"
   ]
  },
  {
   "cell_type": "code",
   "execution_count": 47,
   "metadata": {},
   "outputs": [],
   "source": [
    "# print top 30 unigrams along with their counts"
   ]
  },
  {
   "cell_type": "code",
   "execution_count": 48,
   "metadata": {},
   "outputs": [
    {
     "name": "stdout",
     "output_type": "stream",
     "text": [
      "chase: 72967\n",
      "account: 41874\n",
      "credit: 32236\n",
      "card: 26820\n",
      "bank: 26421\n",
      "payment: 13964\n",
      "time: 11967\n",
      "money: 11937\n",
      "loan: 9990\n",
      "information: 9642\n",
      "letter: 8420\n",
      "check: 8349\n",
      "mortgage: 7932\n",
      "number: 7756\n",
      "amount: 7595\n",
      "phone: 7481\n",
      "days: 7466\n",
      "payments: 7198\n",
      "balance: 7164\n",
      "fraud: 6990\n",
      "funds: 6706\n",
      "company: 6491\n",
      "charges: 6444\n",
      "customer: 6438\n",
      "report: 5999\n",
      "charge: 5670\n",
      "accounts: 5654\n",
      "day: 5517\n",
      "business: 5455\n",
      "service: 5373\n"
     ]
    }
   ],
   "source": [
    "for word_tup in unigrams_freq.most_common(30):\n",
    "  print(f\"{word_tup[0][0]}: {word_tup[1]}\")"
   ]
  },
  {
   "cell_type": "code",
   "execution_count": 49,
   "metadata": {
    "colab": {
     "base_uri": "https://localhost:8080/"
    },
    "id": "YX7fedm1JrF8",
    "outputId": "b0a2af9f-6fc9-49e8-aa48-8c862c4cabbe"
   },
   "outputs": [],
   "source": [
    "#Print the top 10 words in the unigram frequency"
   ]
  },
  {
   "cell_type": "code",
   "execution_count": 50,
   "metadata": {},
   "outputs": [
    {
     "name": "stdout",
     "output_type": "stream",
     "text": [
      "chase: 72967\n",
      "account: 41874\n",
      "credit: 32236\n",
      "card: 26820\n",
      "bank: 26421\n",
      "payment: 13964\n",
      "time: 11967\n",
      "money: 11937\n",
      "loan: 9990\n",
      "information: 9642\n"
     ]
    }
   ],
   "source": [
    "for word_tup in unigrams_freq.most_common(10):\n",
    "  print(f\"{word_tup[0][0]}: {word_tup[1]}\")"
   ]
  },
  {
   "cell_type": "code",
   "execution_count": 51,
   "metadata": {
    "colab": {
     "base_uri": "https://localhost:8080/"
    },
    "id": "aV7kD7w8JrF8",
    "outputId": "2aa902a7-6ac4-4ca1-f201-255c3d7138e7"
   },
   "outputs": [],
   "source": [
    "#Write your code here to find the top 30 bigram frequency among the complaints in the cleaned datafram(df_clean). "
   ]
  },
  {
   "cell_type": "code",
   "execution_count": 52,
   "metadata": {},
   "outputs": [],
   "source": [
    "bigrams = ngrams(tokenized, 2)\n",
    "bigrams_freq = collections.Counter(bigrams)"
   ]
  },
  {
   "cell_type": "code",
   "execution_count": 53,
   "metadata": {},
   "outputs": [],
   "source": [
    "# print top 30 bigrams along with their counts"
   ]
  },
  {
   "cell_type": "code",
   "execution_count": 54,
   "metadata": {},
   "outputs": [
    {
     "name": "stdout",
     "output_type": "stream",
     "text": [
      "('chase', 'bank'): 12102\n",
      "('credit', 'card'): 10963\n",
      "('account', 'chase'): 3934\n",
      "('chase', 'credit'): 3727\n",
      "('credit', 'report'): 3252\n",
      "('chase', 'account'): 3051\n",
      "('customer', 'service'): 3027\n",
      "('bank', 'account'): 2550\n",
      "('checking', 'account'): 2504\n",
      "('morgan', 'chase'): 2465\n",
      "('jp', 'morgan'): 2439\n",
      "('account', 'account'): 2081\n",
      "('card', 'chase'): 1982\n",
      "('debit', 'card'): 1926\n",
      "('credit', 'cards'): 1884\n",
      "('chase', 'card'): 1784\n",
      "('chase', 'chase'): 1619\n",
      "('credit', 'score'): 1599\n",
      "('letter', 'chase'): 1335\n",
      "('money', 'account'): 1311\n",
      "('card', 'account'): 1290\n",
      "('account', 'credit'): 1242\n",
      "('bank', 'chase'): 1207\n",
      "('chase', 'mortgage'): 1154\n",
      "('phone', 'number'): 1135\n",
      "('i', 'd'): 1093\n",
      "('interest', 'rate'): 1069\n",
      "('account', 'number'): 1053\n",
      "('fraud', 'department'): 1049\n",
      "('jpmorgan', 'chase'): 1032\n"
     ]
    }
   ],
   "source": [
    "for word_tup in bigrams_freq.most_common(30):\n",
    "  print(f\"{word_tup[0]}: {word_tup[1]}\")"
   ]
  },
  {
   "cell_type": "code",
   "execution_count": 55,
   "metadata": {
    "colab": {
     "base_uri": "https://localhost:8080/"
    },
    "id": "NPnMNIpyJrF9",
    "outputId": "e4895856-b1cb-434e-dfe9-d81fff3ccb72"
   },
   "outputs": [],
   "source": [
    "#Print the top 10 words in the bigram frequency"
   ]
  },
  {
   "cell_type": "code",
   "execution_count": 56,
   "metadata": {},
   "outputs": [
    {
     "name": "stdout",
     "output_type": "stream",
     "text": [
      "('chase', 'bank'): 12102\n",
      "('credit', 'card'): 10963\n",
      "('account', 'chase'): 3934\n",
      "('chase', 'credit'): 3727\n",
      "('credit', 'report'): 3252\n",
      "('chase', 'account'): 3051\n",
      "('customer', 'service'): 3027\n",
      "('bank', 'account'): 2550\n",
      "('checking', 'account'): 2504\n",
      "('morgan', 'chase'): 2465\n"
     ]
    }
   ],
   "source": [
    "for word_tup in bigrams_freq.most_common(10):\n",
    "  print(f\"{word_tup[0]}: {word_tup[1]}\")"
   ]
  },
  {
   "cell_type": "code",
   "execution_count": 57,
   "metadata": {
    "colab": {
     "base_uri": "https://localhost:8080/"
    },
    "id": "Xkh7vtbtJrF-",
    "outputId": "a1011948-de7a-4bcb-ce56-bed7383fff72"
   },
   "outputs": [],
   "source": [
    "#Write your code here to find the top 30 trigram frequency among the complaints in the cleaned datafram(df_clean). "
   ]
  },
  {
   "cell_type": "code",
   "execution_count": 58,
   "metadata": {},
   "outputs": [],
   "source": [
    "trigrams = ngrams(tokenized, 3)\n",
    "trigrams_freq = collections.Counter(trigrams)"
   ]
  },
  {
   "cell_type": "code",
   "execution_count": 59,
   "metadata": {},
   "outputs": [],
   "source": [
    "# print top 30 trigrams along with their counts"
   ]
  },
  {
   "cell_type": "code",
   "execution_count": 60,
   "metadata": {},
   "outputs": [
    {
     "name": "stdout",
     "output_type": "stream",
     "text": [
      "('chase', 'credit', 'card'): 2238\n",
      "('jp', 'morgan', 'chase'): 2057\n",
      "('account', 'chase', 'bank'): 888\n",
      "('credit', 'card', 'chase'): 882\n",
      "('chase', 'bank', 'account'): 841\n",
      "('credit', 'card', 'company'): 799\n",
      "('credit', 'card', 'account'): 750\n",
      "('morgan', 'chase', 'bank'): 677\n",
      "('chase', 'bank', 'credit'): 505\n",
      "('chase', 'bank', 'chase'): 432\n",
      "('credit', 'card', 'credit'): 429\n",
      "('checking', 'account', 'chase'): 426\n",
      "('card', 'chase', 'bank'): 385\n",
      "('jpmorgan', 'chase', 'bank'): 376\n",
      "('chase', 'credit', 'cards'): 354\n",
      "('bank', 'chase', 'bank'): 348\n",
      "('credit', 'reporting', 'act'): 340\n",
      "('bank', 'credit', 'card'): 326\n",
      "('card', 'credit', 'card'): 323\n",
      "('credit', 'report', 'chase'): 314\n",
      "('account', 'credit', 'card'): 313\n",
      "('credit', 'report', 'credit'): 313\n",
      "('inquiry', 'credit', 'report'): 307\n",
      "('account', 'chase', 'account'): 300\n",
      "('credit', 'reporting', 'agencies'): 295\n",
      "('chase', 'auto', 'finance'): 287\n",
      "('chase', 'card', 'services'): 275\n",
      "('chase', 'account', 'chase'): 273\n",
      "('customer', 'service', 'representative'): 270\n",
      "('chase', 'customer', 'service'): 267\n"
     ]
    }
   ],
   "source": [
    "for word_tup in trigrams_freq.most_common(30):\n",
    "  print(f\"{word_tup[0]}: {word_tup[1]}\")"
   ]
  },
  {
   "cell_type": "code",
   "execution_count": 61,
   "metadata": {
    "colab": {
     "base_uri": "https://localhost:8080/"
    },
    "id": "REcVxNfvJrF-",
    "outputId": "764428bc-4ba2-4f28-b2ef-2f0599b7db6a"
   },
   "outputs": [],
   "source": [
    "#Print the top 10 words in the trigram frequency"
   ]
  },
  {
   "cell_type": "code",
   "execution_count": 62,
   "metadata": {},
   "outputs": [
    {
     "name": "stdout",
     "output_type": "stream",
     "text": [
      "('chase', 'credit', 'card'): 2238\n",
      "('jp', 'morgan', 'chase'): 2057\n",
      "('account', 'chase', 'bank'): 888\n",
      "('credit', 'card', 'chase'): 882\n",
      "('chase', 'bank', 'account'): 841\n",
      "('credit', 'card', 'company'): 799\n",
      "('credit', 'card', 'account'): 750\n",
      "('morgan', 'chase', 'bank'): 677\n",
      "('chase', 'bank', 'credit'): 505\n",
      "('chase', 'bank', 'chase'): 432\n"
     ]
    }
   ],
   "source": [
    "for word_tup in trigrams_freq.most_common(10):\n",
    "  print(f\"{word_tup[0]}: {word_tup[1]}\")"
   ]
  },
  {
   "cell_type": "markdown",
   "metadata": {
    "id": "yUXzFji0JrF_"
   },
   "source": [
    "## The personal details of customer has been masked in the dataset with xxxx. Let's remove the masked text as this will be of no use for our analysis"
   ]
  },
  {
   "cell_type": "code",
   "execution_count": 63,
   "metadata": {
    "id": "wKda-a_IJrF_"
   },
   "outputs": [],
   "source": [
    "# replace xx..x by empty string"
   ]
  },
  {
   "cell_type": "code",
   "execution_count": 64,
   "metadata": {},
   "outputs": [],
   "source": [
    "df_clean['complaint'] = df_clean['complaint'].str.replace(r'x{2,}', '', regex=True)\n",
    "df_clean['lemmatized_complaint'] = df_clean['lemmatized_complaint'].str.replace(r'x{2,}', '', regex=True)\n",
    "df_clean['extracted_complaint'] = df_clean['extracted_complaint'].str.replace(r'x{2,}', '', regex=True)"
   ]
  },
  {
   "cell_type": "code",
   "execution_count": 65,
   "metadata": {
    "colab": {
     "base_uri": "https://localhost:8080/"
    },
    "id": "Pb7n44S8go2p",
    "outputId": "86ec94bf-e060-4f29-9ad7-b9b52cefb911"
   },
   "outputs": [
    {
     "data": {
      "text/plain": [
       "(21072, 3)"
      ]
     },
     "execution_count": 65,
     "metadata": {},
     "output_type": "execute_result"
    }
   ],
   "source": [
    "df_clean.shape"
   ]
  },
  {
   "cell_type": "code",
   "execution_count": 66,
   "metadata": {
    "colab": {
     "base_uri": "https://localhost:8080/",
     "height": 424
    },
    "id": "9UIFk8fQJrF_",
    "outputId": "8d06f7cf-8286-4ee4-ecf2-533bc138de7c"
   },
   "outputs": [],
   "source": [
    "#All masked texts has been removed"
   ]
  },
  {
   "cell_type": "code",
   "execution_count": 67,
   "metadata": {},
   "outputs": [
    {
     "data": {
      "text/html": [
       "<div>\n",
       "<style scoped>\n",
       "    .dataframe tbody tr th:only-of-type {\n",
       "        vertical-align: middle;\n",
       "    }\n",
       "\n",
       "    .dataframe tbody tr th {\n",
       "        vertical-align: top;\n",
       "    }\n",
       "\n",
       "    .dataframe thead th {\n",
       "        text-align: right;\n",
       "    }\n",
       "</style>\n",
       "<table border=\"1\" class=\"dataframe\">\n",
       "  <thead>\n",
       "    <tr style=\"text-align: right;\">\n",
       "      <th></th>\n",
       "      <th>complaint</th>\n",
       "      <th>lemmatized_complaint</th>\n",
       "      <th>extracted_complaint</th>\n",
       "    </tr>\n",
       "  </thead>\n",
       "  <tbody>\n",
       "    <tr>\n",
       "      <th>1</th>\n",
       "      <td>good morning my name is   and i appreciate it ...</td>\n",
       "      <td>good morning my name be   and i appreciate it ...</td>\n",
       "      <td>morning name   stop bank cardmember services d...</td>\n",
       "    </tr>\n",
       "    <tr>\n",
       "      <th>2</th>\n",
       "      <td>i upgraded my   card in and was told by the ag...</td>\n",
       "      <td>i upgrade my   card in and be tell by the agen...</td>\n",
       "      <td>card agent anniversary date agent information ...</td>\n",
       "    </tr>\n",
       "    <tr>\n",
       "      <th>10</th>\n",
       "      <td>chase card was reported on however fraudulent ...</td>\n",
       "      <td>chase card be report on however fraudulent app...</td>\n",
       "      <td>chase card application identity consent servic...</td>\n",
       "    </tr>\n",
       "    <tr>\n",
       "      <th>11</th>\n",
       "      <td>on while trying to book a     ticket i came ac...</td>\n",
       "      <td>on while try to book a   ticket i come across ...</td>\n",
       "      <td>ticket offer ticket rewards card information ...</td>\n",
       "    </tr>\n",
       "    <tr>\n",
       "      <th>14</th>\n",
       "      <td>my grand son give me check for i deposit it in...</td>\n",
       "      <td>my grand son give me check for i deposit it in...</td>\n",
       "      <td>son check chase account fund chase bank accoun...</td>\n",
       "    </tr>\n",
       "  </tbody>\n",
       "</table>\n",
       "</div>"
      ],
      "text/plain": [
       "                                            complaint  \\\n",
       "1   good morning my name is   and i appreciate it ...   \n",
       "2   i upgraded my   card in and was told by the ag...   \n",
       "10  chase card was reported on however fraudulent ...   \n",
       "11  on while trying to book a     ticket i came ac...   \n",
       "14  my grand son give me check for i deposit it in...   \n",
       "\n",
       "                                 lemmatized_complaint  \\\n",
       "1   good morning my name be   and i appreciate it ...   \n",
       "2   i upgrade my   card in and be tell by the agen...   \n",
       "10  chase card be report on however fraudulent app...   \n",
       "11  on while try to book a   ticket i come across ...   \n",
       "14  my grand son give me check for i deposit it in...   \n",
       "\n",
       "                                  extracted_complaint  \n",
       "1   morning name   stop bank cardmember services d...  \n",
       "2   card agent anniversary date agent information ...  \n",
       "10  chase card application identity consent servic...  \n",
       "11   ticket offer ticket rewards card information ...  \n",
       "14  son check chase account fund chase bank accoun...  "
      ]
     },
     "execution_count": 67,
     "metadata": {},
     "output_type": "execute_result"
    }
   ],
   "source": [
    "df_clean.head()"
   ]
  },
  {
   "cell_type": "markdown",
   "metadata": {
    "id": "k-I0k0QtJrGA"
   },
   "source": [
    "## Feature Extraction\n",
    "Convert the raw texts to a matrix of TF-IDF features\n",
    "\n",
    "**max_df** is used for removing terms that appear too frequently, also known as \"corpus-specific stop words\"\n",
    "max_df = 0.95 means \"ignore terms that appear in more than 95% of the complaints\"\n",
    "\n",
    "**min_df** is used for removing terms that appear too infrequently\n",
    "min_df = 2 means \"ignore terms that appear in less than 2 complaints\""
   ]
  },
  {
   "cell_type": "code",
   "execution_count": 68,
   "metadata": {
    "id": "Y8fGwaCPJrGA"
   },
   "outputs": [],
   "source": [
    "#Write your code here to initialise the TfidfVectorizer "
   ]
  },
  {
   "cell_type": "code",
   "execution_count": 69,
   "metadata": {},
   "outputs": [],
   "source": [
    "from sklearn.feature_extraction.text import TfidfVectorizer\n",
    "tfidfvectorizer = TfidfVectorizer(analyzer='word', stop_words= 'english', max_df=0.95, min_df=2)"
   ]
  },
  {
   "cell_type": "markdown",
   "metadata": {
    "id": "yYzD85nTJrGA"
   },
   "source": [
    "#### Create a document term matrix using fit_transform\n",
    "\n",
    "The contents of a document term matrix are tuples of (complaint_id,token_id) tf-idf score:\n",
    "The tuples that are not there have a tf-idf score of 0"
   ]
  },
  {
   "cell_type": "code",
   "execution_count": 70,
   "metadata": {
    "colab": {
     "base_uri": "https://localhost:8080/"
    },
    "id": "ffzdDpp_JrGB",
    "outputId": "c9595273-f74d-47ef-d118-96770b11df7d"
   },
   "outputs": [],
   "source": [
    "#Write your code here to create the Document Term Matrix by transforming the complaints column present in df_clean."
   ]
  },
  {
   "cell_type": "code",
   "execution_count": 71,
   "metadata": {},
   "outputs": [
    {
     "data": {
      "text/plain": [
       "(21072, 15710)"
      ]
     },
     "execution_count": 71,
     "metadata": {},
     "output_type": "execute_result"
    }
   ],
   "source": [
    "tfidf_wm = tfidfvectorizer.fit_transform(df_clean['complaint'])\n",
    "tfidf_wm.shape"
   ]
  },
  {
   "cell_type": "code",
   "execution_count": 72,
   "metadata": {
    "colab": {
     "base_uri": "https://localhost:8080/"
    },
    "id": "t8OkbAjXYxVW",
    "outputId": "7c9a46b2-74f4-4400-9821-492f69ab8e5d"
   },
   "outputs": [],
   "source": [
    "tfidf_tokens = tfidfvectorizer.get_feature_names()"
   ]
  },
  {
   "cell_type": "code",
   "execution_count": 73,
   "metadata": {},
   "outputs": [
    {
     "data": {
      "text/plain": [
       "['risen',\n",
       " 'chart',\n",
       " 'examining',\n",
       " 'stateside',\n",
       " 'video',\n",
       " 'accomplish',\n",
       " 'trough',\n",
       " 'tol',\n",
       " 'corroborating',\n",
       " 'neverending']"
      ]
     },
     "execution_count": 73,
     "metadata": {},
     "output_type": "execute_result"
    }
   ],
   "source": [
    "import random\n",
    "random.sample(tfidf_tokens, 10)"
   ]
  },
  {
   "cell_type": "markdown",
   "metadata": {
    "id": "7Q9lwvNEJrGB"
   },
   "source": [
    "## Topic Modelling using NMF\n",
    "\n",
    "Non-Negative Matrix Factorization (NMF) is an unsupervised technique so there are no labeling of topics that the model will be trained on. The way it works is that, NMF decomposes (or factorizes) high-dimensional vectors into a lower-dimensional representation. These lower-dimensional vectors are non-negative which also means their coefficients are non-negative.\n",
    "\n",
    "In this task you have to perform the following:\n",
    "\n",
    "* Find the best number of clusters \n",
    "* Apply the best number to create word clusters\n",
    "* Inspect & validate the correction of each cluster wrt the complaints \n",
    "* Correct the labels if needed \n",
    "* Map the clusters to topics/cluster names"
   ]
  },
  {
   "cell_type": "code",
   "execution_count": 74,
   "metadata": {
    "id": "amLT4omWJrGB"
   },
   "outputs": [],
   "source": [
    "from sklearn.decomposition import NMF"
   ]
  },
  {
   "cell_type": "markdown",
   "metadata": {
    "id": "0wYR1xUTJrGD"
   },
   "source": [
    "## Manual Topic Modeling\n",
    "You need to do take the trial & error approach to find the best num of topics for your NMF model.\n",
    "\n",
    "The only parameter that is required is the number of components i.e. the number of topics we want. This is the most crucial step in the whole topic modeling process and will greatly affect how good your final topics are."
   ]
  },
  {
   "cell_type": "code",
   "execution_count": 75,
   "metadata": {
    "id": "sgd2A6bhJrGD"
   },
   "outputs": [],
   "source": [
    "#Load your nmf_model with the n_components i.e 5"
   ]
  },
  {
   "cell_type": "code",
   "execution_count": 76,
   "metadata": {},
   "outputs": [],
   "source": [
    "num_topics = 10 #write the value you want to test out"
   ]
  },
  {
   "cell_type": "code",
   "execution_count": 77,
   "metadata": {},
   "outputs": [],
   "source": [
    "#keep the random_state =40"
   ]
  },
  {
   "cell_type": "code",
   "execution_count": 78,
   "metadata": {},
   "outputs": [],
   "source": [
    "nmf_model = NMF(n_components=num_topics, random_state=40)\n",
    "W = nmf_model.fit_transform(tfidf_wm)  # Document-topic matrix\n",
    "H = nmf_model.components_       # Topic-term matrix"
   ]
  },
  {
   "cell_type": "code",
   "execution_count": 79,
   "metadata": {
    "colab": {
     "base_uri": "https://localhost:8080/"
    },
    "id": "kU1e9SdAj1iT",
    "outputId": "f6f97636-3383-4d99-e951-5c66c82bfcb3"
   },
   "outputs": [
    {
     "data": {
      "text/plain": [
       "((21072, 10), (10, 15710))"
      ]
     },
     "execution_count": 79,
     "metadata": {},
     "output_type": "execute_result"
    }
   ],
   "source": [
    "W.shape, H.shape"
   ]
  },
  {
   "cell_type": "code",
   "execution_count": 80,
   "metadata": {
    "colab": {
     "base_uri": "https://localhost:8080/",
     "height": 407
    },
    "id": "16kRfat5JrGE",
    "outputId": "6d4b9406-3944-4954-dc54-2e9160640c2a"
   },
   "outputs": [],
   "source": [
    "#Print the Top15 words for each of the topics"
   ]
  },
  {
   "cell_type": "code",
   "execution_count": 81,
   "metadata": {},
   "outputs": [
    {
     "data": {
      "text/html": [
       "<div>\n",
       "<style scoped>\n",
       "    .dataframe tbody tr th:only-of-type {\n",
       "        vertical-align: middle;\n",
       "    }\n",
       "\n",
       "    .dataframe tbody tr th {\n",
       "        vertical-align: top;\n",
       "    }\n",
       "\n",
       "    .dataframe thead th {\n",
       "        text-align: right;\n",
       "    }\n",
       "</style>\n",
       "<table border=\"1\" class=\"dataframe\">\n",
       "  <thead>\n",
       "    <tr style=\"text-align: right;\">\n",
       "      <th></th>\n",
       "      <th>Word 1</th>\n",
       "      <th>Word 2</th>\n",
       "      <th>Word 3</th>\n",
       "      <th>Word 4</th>\n",
       "      <th>Word 5</th>\n",
       "      <th>Word 6</th>\n",
       "      <th>Word 7</th>\n",
       "      <th>Word 8</th>\n",
       "      <th>Word 9</th>\n",
       "      <th>Word 10</th>\n",
       "      <th>Word 11</th>\n",
       "      <th>Word 12</th>\n",
       "      <th>Word 13</th>\n",
       "      <th>Word 14</th>\n",
       "      <th>Word 15</th>\n",
       "    </tr>\n",
       "  </thead>\n",
       "  <tbody>\n",
       "    <tr>\n",
       "      <th>Topic 1</th>\n",
       "      <td>money</td>\n",
       "      <td>bank</td>\n",
       "      <td>told</td>\n",
       "      <td>said</td>\n",
       "      <td>called</td>\n",
       "      <td>nt</td>\n",
       "      <td>did</td>\n",
       "      <td>went</td>\n",
       "      <td>asked</td>\n",
       "      <td>help</td>\n",
       "      <td>number</td>\n",
       "      <td>branch</td>\n",
       "      <td>phone</td>\n",
       "      <td>atm</td>\n",
       "      <td>know</td>\n",
       "    </tr>\n",
       "    <tr>\n",
       "      <th>Topic 2</th>\n",
       "      <td>card</td>\n",
       "      <td>credit</td>\n",
       "      <td>chase</td>\n",
       "      <td>cards</td>\n",
       "      <td>applied</td>\n",
       "      <td>points</td>\n",
       "      <td>score</td>\n",
       "      <td>limit</td>\n",
       "      <td>offer</td>\n",
       "      <td>closed</td>\n",
       "      <td>application</td>\n",
       "      <td>use</td>\n",
       "      <td>used</td>\n",
       "      <td>new</td>\n",
       "      <td>amazon</td>\n",
       "    </tr>\n",
       "    <tr>\n",
       "      <th>Topic 3</th>\n",
       "      <td>loan</td>\n",
       "      <td>mortgage</td>\n",
       "      <td>chase</td>\n",
       "      <td>modification</td>\n",
       "      <td>home</td>\n",
       "      <td>property</td>\n",
       "      <td>foreclosure</td>\n",
       "      <td>payments</td>\n",
       "      <td>years</td>\n",
       "      <td>rate</td>\n",
       "      <td>house</td>\n",
       "      <td>jp</td>\n",
       "      <td>morgan</td>\n",
       "      <td>sale</td>\n",
       "      <td>escrow</td>\n",
       "    </tr>\n",
       "    <tr>\n",
       "      <th>Topic 4</th>\n",
       "      <td>account</td>\n",
       "      <td>closed</td>\n",
       "      <td>chase</td>\n",
       "      <td>checking</td>\n",
       "      <td>accounts</td>\n",
       "      <td>bank</td>\n",
       "      <td>opened</td>\n",
       "      <td>open</td>\n",
       "      <td>close</td>\n",
       "      <td>savings</td>\n",
       "      <td>funds</td>\n",
       "      <td>reason</td>\n",
       "      <td>business</td>\n",
       "      <td>access</td>\n",
       "      <td>branch</td>\n",
       "    </tr>\n",
       "    <tr>\n",
       "      <th>Topic 5</th>\n",
       "      <td>payment</td>\n",
       "      <td>late</td>\n",
       "      <td>payments</td>\n",
       "      <td>month</td>\n",
       "      <td>paid</td>\n",
       "      <td>pay</td>\n",
       "      <td>credit</td>\n",
       "      <td>auto</td>\n",
       "      <td>make</td>\n",
       "      <td>days</td>\n",
       "      <td>chase</td>\n",
       "      <td>monthly</td>\n",
       "      <td>time</td>\n",
       "      <td>reported</td>\n",
       "      <td>statement</td>\n",
       "    </tr>\n",
       "    <tr>\n",
       "      <th>Topic 6</th>\n",
       "      <td>check</td>\n",
       "      <td>funds</td>\n",
       "      <td>deposited</td>\n",
       "      <td>bank</td>\n",
       "      <td>deposit</td>\n",
       "      <td>chase</td>\n",
       "      <td>checks</td>\n",
       "      <td>cashed</td>\n",
       "      <td>cleared</td>\n",
       "      <td>hold</td>\n",
       "      <td>available</td>\n",
       "      <td>cash</td>\n",
       "      <td>days</td>\n",
       "      <td>branch</td>\n",
       "      <td>returned</td>\n",
       "    </tr>\n",
       "    <tr>\n",
       "      <th>Topic 7</th>\n",
       "      <td>charges</td>\n",
       "      <td>fraud</td>\n",
       "      <td>fraudulent</td>\n",
       "      <td>transactions</td>\n",
       "      <td>card</td>\n",
       "      <td>claim</td>\n",
       "      <td>transaction</td>\n",
       "      <td>charge</td>\n",
       "      <td>unauthorized</td>\n",
       "      <td>chase</td>\n",
       "      <td>debit</td>\n",
       "      <td>police</td>\n",
       "      <td>department</td>\n",
       "      <td>stolen</td>\n",
       "      <td>reported</td>\n",
       "    </tr>\n",
       "    <tr>\n",
       "      <th>Topic 8</th>\n",
       "      <td>balance</td>\n",
       "      <td>fee</td>\n",
       "      <td>fees</td>\n",
       "      <td>charged</td>\n",
       "      <td>overdraft</td>\n",
       "      <td>paid</td>\n",
       "      <td>charge</td>\n",
       "      <td>annual</td>\n",
       "      <td>pay</td>\n",
       "      <td>transfer</td>\n",
       "      <td>statement</td>\n",
       "      <td>account</td>\n",
       "      <td>month</td>\n",
       "      <td>charging</td>\n",
       "      <td>insufficient</td>\n",
       "    </tr>\n",
       "    <tr>\n",
       "      <th>Topic 9</th>\n",
       "      <td>dispute</td>\n",
       "      <td>chase</td>\n",
       "      <td>merchant</td>\n",
       "      <td>letter</td>\n",
       "      <td>charge</td>\n",
       "      <td>received</td>\n",
       "      <td>information</td>\n",
       "      <td>refund</td>\n",
       "      <td>sent</td>\n",
       "      <td>email</td>\n",
       "      <td>provided</td>\n",
       "      <td>response</td>\n",
       "      <td>company</td>\n",
       "      <td>did</td>\n",
       "      <td>contacted</td>\n",
       "    </tr>\n",
       "    <tr>\n",
       "      <th>Topic 10</th>\n",
       "      <td>credit</td>\n",
       "      <td>report</td>\n",
       "      <td>inquiry</td>\n",
       "      <td>inquiries</td>\n",
       "      <td>hard</td>\n",
       "      <td>reporting</td>\n",
       "      <td>jpmcb</td>\n",
       "      <td>removed</td>\n",
       "      <td>debt</td>\n",
       "      <td>remove</td>\n",
       "      <td>reports</td>\n",
       "      <td>information</td>\n",
       "      <td>bureaus</td>\n",
       "      <td>identity</td>\n",
       "      <td>add</td>\n",
       "    </tr>\n",
       "  </tbody>\n",
       "</table>\n",
       "</div>"
      ],
      "text/plain": [
       "           Word 1    Word 2      Word 3        Word 4     Word 5     Word 6  \\\n",
       "Topic 1     money      bank        told          said     called         nt   \n",
       "Topic 2      card    credit       chase         cards    applied     points   \n",
       "Topic 3      loan  mortgage       chase  modification       home   property   \n",
       "Topic 4   account    closed       chase      checking   accounts       bank   \n",
       "Topic 5   payment      late    payments         month       paid        pay   \n",
       "Topic 6     check     funds   deposited          bank    deposit      chase   \n",
       "Topic 7   charges     fraud  fraudulent  transactions       card      claim   \n",
       "Topic 8   balance       fee        fees       charged  overdraft       paid   \n",
       "Topic 9   dispute     chase    merchant        letter     charge   received   \n",
       "Topic 10   credit    report     inquiry     inquiries       hard  reporting   \n",
       "\n",
       "               Word 7    Word 8        Word 9   Word 10      Word 11  \\\n",
       "Topic 1           did      went         asked      help       number   \n",
       "Topic 2         score     limit         offer    closed  application   \n",
       "Topic 3   foreclosure  payments         years      rate        house   \n",
       "Topic 4        opened      open         close   savings        funds   \n",
       "Topic 5        credit      auto          make      days        chase   \n",
       "Topic 6        checks    cashed       cleared      hold    available   \n",
       "Topic 7   transaction    charge  unauthorized     chase        debit   \n",
       "Topic 8        charge    annual           pay  transfer    statement   \n",
       "Topic 9   information    refund          sent     email     provided   \n",
       "Topic 10        jpmcb   removed          debt    remove      reports   \n",
       "\n",
       "              Word 12     Word 13   Word 14       Word 15  \n",
       "Topic 1        branch       phone       atm          know  \n",
       "Topic 2           use        used       new        amazon  \n",
       "Topic 3            jp      morgan      sale        escrow  \n",
       "Topic 4        reason    business    access        branch  \n",
       "Topic 5       monthly        time  reported     statement  \n",
       "Topic 6          cash        days    branch      returned  \n",
       "Topic 7        police  department    stolen      reported  \n",
       "Topic 8       account       month  charging  insufficient  \n",
       "Topic 9      response     company       did     contacted  \n",
       "Topic 10  information     bureaus  identity           add  "
      ]
     },
     "execution_count": 81,
     "metadata": {},
     "output_type": "execute_result"
    }
   ],
   "source": [
    "words = np.array(tfidfvectorizer.get_feature_names())\n",
    "topic_words = pd.DataFrame(np.zeros((num_topics, 15)), index=[f'Topic {i + 1}' for i in range(num_topics)],\n",
    "                           columns=[f'Word {i + 1}' for i in range(15)]).astype(str)\n",
    "for i in range(num_topics):\n",
    "    ix = H[i].argsort()[::-1][:15]\n",
    "    topic_words.iloc[i] = words[ix]\n",
    "\n",
    "topic_words"
   ]
  },
  {
   "cell_type": "code",
   "execution_count": 82,
   "metadata": {
    "colab": {
     "base_uri": "https://localhost:8080/",
     "height": 363
    },
    "id": "0OIT7LmFJrGF",
    "outputId": "df01811c-9aeb-451c-f669-78b3501e4a10"
   },
   "outputs": [],
   "source": [
    "#Create the best topic for each complaint in terms of integer value 0,1,2,3 & 4"
   ]
  },
  {
   "cell_type": "code",
   "execution_count": 83,
   "metadata": {},
   "outputs": [
    {
     "data": {
      "text/html": [
       "<div>\n",
       "<style scoped>\n",
       "    .dataframe tbody tr th:only-of-type {\n",
       "        vertical-align: middle;\n",
       "    }\n",
       "\n",
       "    .dataframe tbody tr th {\n",
       "        vertical-align: top;\n",
       "    }\n",
       "\n",
       "    .dataframe thead th {\n",
       "        text-align: right;\n",
       "    }\n",
       "</style>\n",
       "<table border=\"1\" class=\"dataframe\">\n",
       "  <thead>\n",
       "    <tr style=\"text-align: right;\">\n",
       "      <th></th>\n",
       "      <th>0</th>\n",
       "      <th>1</th>\n",
       "      <th>2</th>\n",
       "      <th>3</th>\n",
       "      <th>4</th>\n",
       "      <th>5</th>\n",
       "      <th>6</th>\n",
       "      <th>7</th>\n",
       "      <th>8</th>\n",
       "      <th>9</th>\n",
       "      <th>Topic</th>\n",
       "    </tr>\n",
       "  </thead>\n",
       "  <tbody>\n",
       "    <tr>\n",
       "      <th>10496</th>\n",
       "      <td>0.011933</td>\n",
       "      <td>0.027100</td>\n",
       "      <td>0.000000</td>\n",
       "      <td>0.049787</td>\n",
       "      <td>0.082327</td>\n",
       "      <td>0.000000</td>\n",
       "      <td>0.007755</td>\n",
       "      <td>0.025775</td>\n",
       "      <td>0.000000</td>\n",
       "      <td>0.000000</td>\n",
       "      <td>4</td>\n",
       "    </tr>\n",
       "    <tr>\n",
       "      <th>14687</th>\n",
       "      <td>0.015951</td>\n",
       "      <td>0.001283</td>\n",
       "      <td>0.050067</td>\n",
       "      <td>0.000000</td>\n",
       "      <td>0.001536</td>\n",
       "      <td>0.000000</td>\n",
       "      <td>0.000000</td>\n",
       "      <td>0.020678</td>\n",
       "      <td>0.000000</td>\n",
       "      <td>0.001390</td>\n",
       "      <td>2</td>\n",
       "    </tr>\n",
       "    <tr>\n",
       "      <th>8958</th>\n",
       "      <td>0.013338</td>\n",
       "      <td>0.000000</td>\n",
       "      <td>0.000000</td>\n",
       "      <td>0.033051</td>\n",
       "      <td>0.087386</td>\n",
       "      <td>0.014698</td>\n",
       "      <td>0.000000</td>\n",
       "      <td>0.000000</td>\n",
       "      <td>0.010166</td>\n",
       "      <td>0.000000</td>\n",
       "      <td>4</td>\n",
       "    </tr>\n",
       "    <tr>\n",
       "      <th>4006</th>\n",
       "      <td>0.010990</td>\n",
       "      <td>0.000000</td>\n",
       "      <td>0.026466</td>\n",
       "      <td>0.000584</td>\n",
       "      <td>0.000703</td>\n",
       "      <td>0.001913</td>\n",
       "      <td>0.012866</td>\n",
       "      <td>0.001990</td>\n",
       "      <td>0.008242</td>\n",
       "      <td>0.000898</td>\n",
       "      <td>2</td>\n",
       "    </tr>\n",
       "    <tr>\n",
       "      <th>9503</th>\n",
       "      <td>0.034980</td>\n",
       "      <td>0.000000</td>\n",
       "      <td>0.008866</td>\n",
       "      <td>0.040345</td>\n",
       "      <td>0.000000</td>\n",
       "      <td>0.001010</td>\n",
       "      <td>0.000000</td>\n",
       "      <td>0.004750</td>\n",
       "      <td>0.003532</td>\n",
       "      <td>0.000000</td>\n",
       "      <td>3</td>\n",
       "    </tr>\n",
       "    <tr>\n",
       "      <th>17271</th>\n",
       "      <td>0.007681</td>\n",
       "      <td>0.001859</td>\n",
       "      <td>0.006766</td>\n",
       "      <td>0.066635</td>\n",
       "      <td>0.004732</td>\n",
       "      <td>0.107368</td>\n",
       "      <td>0.001429</td>\n",
       "      <td>0.003368</td>\n",
       "      <td>0.029125</td>\n",
       "      <td>0.000000</td>\n",
       "      <td>5</td>\n",
       "    </tr>\n",
       "    <tr>\n",
       "      <th>16897</th>\n",
       "      <td>0.005534</td>\n",
       "      <td>0.000000</td>\n",
       "      <td>0.039946</td>\n",
       "      <td>0.001713</td>\n",
       "      <td>0.000000</td>\n",
       "      <td>0.000000</td>\n",
       "      <td>0.008230</td>\n",
       "      <td>0.000000</td>\n",
       "      <td>0.019954</td>\n",
       "      <td>0.001858</td>\n",
       "      <td>2</td>\n",
       "    </tr>\n",
       "    <tr>\n",
       "      <th>2469</th>\n",
       "      <td>0.001193</td>\n",
       "      <td>0.040897</td>\n",
       "      <td>0.005463</td>\n",
       "      <td>0.010740</td>\n",
       "      <td>0.002250</td>\n",
       "      <td>0.001756</td>\n",
       "      <td>0.000000</td>\n",
       "      <td>0.041211</td>\n",
       "      <td>0.031276</td>\n",
       "      <td>0.010556</td>\n",
       "      <td>7</td>\n",
       "    </tr>\n",
       "    <tr>\n",
       "      <th>4159</th>\n",
       "      <td>0.000000</td>\n",
       "      <td>0.002647</td>\n",
       "      <td>0.076903</td>\n",
       "      <td>0.000382</td>\n",
       "      <td>0.000000</td>\n",
       "      <td>0.000086</td>\n",
       "      <td>0.000000</td>\n",
       "      <td>0.000000</td>\n",
       "      <td>0.020301</td>\n",
       "      <td>0.000340</td>\n",
       "      <td>2</td>\n",
       "    </tr>\n",
       "    <tr>\n",
       "      <th>19469</th>\n",
       "      <td>0.037553</td>\n",
       "      <td>0.029760</td>\n",
       "      <td>0.003202</td>\n",
       "      <td>0.017298</td>\n",
       "      <td>0.000000</td>\n",
       "      <td>0.001943</td>\n",
       "      <td>0.018426</td>\n",
       "      <td>0.000000</td>\n",
       "      <td>0.028859</td>\n",
       "      <td>0.000000</td>\n",
       "      <td>0</td>\n",
       "    </tr>\n",
       "  </tbody>\n",
       "</table>\n",
       "</div>"
      ],
      "text/plain": [
       "              0         1         2         3         4         5         6  \\\n",
       "10496  0.011933  0.027100  0.000000  0.049787  0.082327  0.000000  0.007755   \n",
       "14687  0.015951  0.001283  0.050067  0.000000  0.001536  0.000000  0.000000   \n",
       "8958   0.013338  0.000000  0.000000  0.033051  0.087386  0.014698  0.000000   \n",
       "4006   0.010990  0.000000  0.026466  0.000584  0.000703  0.001913  0.012866   \n",
       "9503   0.034980  0.000000  0.008866  0.040345  0.000000  0.001010  0.000000   \n",
       "17271  0.007681  0.001859  0.006766  0.066635  0.004732  0.107368  0.001429   \n",
       "16897  0.005534  0.000000  0.039946  0.001713  0.000000  0.000000  0.008230   \n",
       "2469   0.001193  0.040897  0.005463  0.010740  0.002250  0.001756  0.000000   \n",
       "4159   0.000000  0.002647  0.076903  0.000382  0.000000  0.000086  0.000000   \n",
       "19469  0.037553  0.029760  0.003202  0.017298  0.000000  0.001943  0.018426   \n",
       "\n",
       "              7         8         9  Topic  \n",
       "10496  0.025775  0.000000  0.000000      4  \n",
       "14687  0.020678  0.000000  0.001390      2  \n",
       "8958   0.000000  0.010166  0.000000      4  \n",
       "4006   0.001990  0.008242  0.000898      2  \n",
       "9503   0.004750  0.003532  0.000000      3  \n",
       "17271  0.003368  0.029125  0.000000      5  \n",
       "16897  0.000000  0.019954  0.001858      2  \n",
       "2469   0.041211  0.031276  0.010556      7  \n",
       "4159   0.000000  0.020301  0.000340      2  \n",
       "19469  0.000000  0.028859  0.000000      0  "
      ]
     },
     "execution_count": 83,
     "metadata": {},
     "output_type": "execute_result"
    }
   ],
   "source": [
    "W_df = pd.DataFrame(W, columns=[num for num in range(num_topics)])\n",
    "W_df['Topic'] = W_df.apply(lambda x: x.idxmax(), axis=1)\n",
    "W_df.sample(10)"
   ]
  },
  {
   "cell_type": "code",
   "execution_count": 84,
   "metadata": {
    "colab": {
     "base_uri": "https://localhost:8080/"
    },
    "id": "jlOmSIcS4YTQ",
    "outputId": "bd2dc534-6ade-4cd7-8d63-7f16771924b5"
   },
   "outputs": [],
   "source": [
    "# verify no. of rows in W_df "
   ]
  },
  {
   "cell_type": "code",
   "execution_count": 85,
   "metadata": {},
   "outputs": [
    {
     "data": {
      "text/plain": [
       "((21072, 11), (21072, 3))"
      ]
     },
     "execution_count": 85,
     "metadata": {},
     "output_type": "execute_result"
    }
   ],
   "source": [
    "W_df.shape, df_clean.shape"
   ]
  },
  {
   "cell_type": "code",
   "execution_count": 86,
   "metadata": {
    "colab": {
     "base_uri": "https://localhost:8080/",
     "height": 363
    },
    "id": "peyYv-ORJrGF",
    "outputId": "0753bc4a-c2a9-43ad-b342-0478d5269170"
   },
   "outputs": [],
   "source": [
    "#Assign the best topic to each of the cmplaints in Topic Column"
   ]
  },
  {
   "cell_type": "code",
   "execution_count": 87,
   "metadata": {},
   "outputs": [
    {
     "data": {
      "text/html": [
       "<div>\n",
       "<style scoped>\n",
       "    .dataframe tbody tr th:only-of-type {\n",
       "        vertical-align: middle;\n",
       "    }\n",
       "\n",
       "    .dataframe tbody tr th {\n",
       "        vertical-align: top;\n",
       "    }\n",
       "\n",
       "    .dataframe thead th {\n",
       "        text-align: right;\n",
       "    }\n",
       "</style>\n",
       "<table border=\"1\" class=\"dataframe\">\n",
       "  <thead>\n",
       "    <tr style=\"text-align: right;\">\n",
       "      <th></th>\n",
       "      <th>index</th>\n",
       "      <th>complaint</th>\n",
       "      <th>lemmatized_complaint</th>\n",
       "      <th>extracted_complaint</th>\n",
       "      <th>Topic</th>\n",
       "    </tr>\n",
       "  </thead>\n",
       "  <tbody>\n",
       "    <tr>\n",
       "      <th>0</th>\n",
       "      <td>1</td>\n",
       "      <td>good morning my name is   and i appreciate it ...</td>\n",
       "      <td>good morning my name be   and i appreciate it ...</td>\n",
       "      <td>morning name   stop bank cardmember services d...</td>\n",
       "      <td>8</td>\n",
       "    </tr>\n",
       "    <tr>\n",
       "      <th>1</th>\n",
       "      <td>2</td>\n",
       "      <td>i upgraded my   card in and was told by the ag...</td>\n",
       "      <td>i upgrade my   card in and be tell by the agen...</td>\n",
       "      <td>card agent anniversary date agent information ...</td>\n",
       "      <td>1</td>\n",
       "    </tr>\n",
       "    <tr>\n",
       "      <th>2</th>\n",
       "      <td>10</td>\n",
       "      <td>chase card was reported on however fraudulent ...</td>\n",
       "      <td>chase card be report on however fraudulent app...</td>\n",
       "      <td>chase card application identity consent servic...</td>\n",
       "      <td>6</td>\n",
       "    </tr>\n",
       "    <tr>\n",
       "      <th>3</th>\n",
       "      <td>11</td>\n",
       "      <td>on while trying to book a     ticket i came ac...</td>\n",
       "      <td>on while try to book a   ticket i come across ...</td>\n",
       "      <td>ticket offer ticket rewards card information ...</td>\n",
       "      <td>1</td>\n",
       "    </tr>\n",
       "    <tr>\n",
       "      <th>4</th>\n",
       "      <td>14</td>\n",
       "      <td>my grand son give me check for i deposit it in...</td>\n",
       "      <td>my grand son give me check for i deposit it in...</td>\n",
       "      <td>son check chase account fund chase bank accoun...</td>\n",
       "      <td>5</td>\n",
       "    </tr>\n",
       "    <tr>\n",
       "      <th>5</th>\n",
       "      <td>15</td>\n",
       "      <td>can you please remove inquiry</td>\n",
       "      <td>can you please remove inquiry</td>\n",
       "      <td>inquiry</td>\n",
       "      <td>9</td>\n",
       "    </tr>\n",
       "    <tr>\n",
       "      <th>6</th>\n",
       "      <td>17</td>\n",
       "      <td>with out notice jp morgan chase restricted my ...</td>\n",
       "      <td>with out notice jp morgan chase restrict my ac...</td>\n",
       "      <td>notice jp morgan chase account debit card tues...</td>\n",
       "      <td>3</td>\n",
       "    </tr>\n",
       "    <tr>\n",
       "      <th>7</th>\n",
       "      <td>20</td>\n",
       "      <td>during the summer months i experience a declin...</td>\n",
       "      <td>during the summer month i experience a decline...</td>\n",
       "      <td>summer months decline income employment month ...</td>\n",
       "      <td>4</td>\n",
       "    </tr>\n",
       "    <tr>\n",
       "      <th>8</th>\n",
       "      <td>21</td>\n",
       "      <td>on  i made a payment to an online retailer usi...</td>\n",
       "      <td>on  i make a payment to an online retailer use...</td>\n",
       "      <td>payment retailer chase pay  chase website sca...</td>\n",
       "      <td>8</td>\n",
       "    </tr>\n",
       "    <tr>\n",
       "      <th>9</th>\n",
       "      <td>23</td>\n",
       "      <td>i have a chase credit card which is incorrectl...</td>\n",
       "      <td>i have a chase credit card which be incorrectl...</td>\n",
       "      <td>chase credit card data credit report company i...</td>\n",
       "      <td>9</td>\n",
       "    </tr>\n",
       "  </tbody>\n",
       "</table>\n",
       "</div>"
      ],
      "text/plain": [
       "   index                                          complaint  \\\n",
       "0      1  good morning my name is   and i appreciate it ...   \n",
       "1      2  i upgraded my   card in and was told by the ag...   \n",
       "2     10  chase card was reported on however fraudulent ...   \n",
       "3     11  on while trying to book a     ticket i came ac...   \n",
       "4     14  my grand son give me check for i deposit it in...   \n",
       "5     15                      can you please remove inquiry   \n",
       "6     17  with out notice jp morgan chase restricted my ...   \n",
       "7     20  during the summer months i experience a declin...   \n",
       "8     21  on  i made a payment to an online retailer usi...   \n",
       "9     23  i have a chase credit card which is incorrectl...   \n",
       "\n",
       "                                lemmatized_complaint  \\\n",
       "0  good morning my name be   and i appreciate it ...   \n",
       "1  i upgrade my   card in and be tell by the agen...   \n",
       "2  chase card be report on however fraudulent app...   \n",
       "3  on while try to book a   ticket i come across ...   \n",
       "4  my grand son give me check for i deposit it in...   \n",
       "5                      can you please remove inquiry   \n",
       "6  with out notice jp morgan chase restrict my ac...   \n",
       "7  during the summer month i experience a decline...   \n",
       "8  on  i make a payment to an online retailer use...   \n",
       "9  i have a chase credit card which be incorrectl...   \n",
       "\n",
       "                                 extracted_complaint  Topic  \n",
       "0  morning name   stop bank cardmember services d...      8  \n",
       "1  card agent anniversary date agent information ...      1  \n",
       "2  chase card application identity consent servic...      6  \n",
       "3   ticket offer ticket rewards card information ...      1  \n",
       "4  son check chase account fund chase bank accoun...      5  \n",
       "5                                            inquiry      9  \n",
       "6  notice jp morgan chase account debit card tues...      3  \n",
       "7  summer months decline income employment month ...      4  \n",
       "8   payment retailer chase pay  chase website sca...      8  \n",
       "9  chase credit card data credit report company i...      9  "
      ]
     },
     "execution_count": 87,
     "metadata": {},
     "output_type": "execute_result"
    }
   ],
   "source": [
    "# Reindex df_clean \n",
    "df_clean.reset_index(inplace=True)\n",
    "df_clean['Topic'] = W_df['Topic']\n",
    "df_clean.head(10)"
   ]
  },
  {
   "cell_type": "code",
   "execution_count": 88,
   "metadata": {
    "colab": {
     "base_uri": "https://localhost:8080/",
     "height": 1000
    },
    "id": "aQKpufSPJrGG",
    "outputId": "bb6371c0-2182-4824-e70a-d4b32a8c6021"
   },
   "outputs": [],
   "source": [
    "#Print the 5 Complaint for each of the Topics"
   ]
  },
  {
   "cell_type": "code",
   "execution_count": 89,
   "metadata": {},
   "outputs": [],
   "source": [
    "df_clean_top5=df_clean.groupby('Topic')"
   ]
  },
  {
   "cell_type": "code",
   "execution_count": 90,
   "metadata": {},
   "outputs": [
    {
     "data": {
      "text/html": [
       "<div>\n",
       "<style scoped>\n",
       "    .dataframe tbody tr th:only-of-type {\n",
       "        vertical-align: middle;\n",
       "    }\n",
       "\n",
       "    .dataframe tbody tr th {\n",
       "        vertical-align: top;\n",
       "    }\n",
       "\n",
       "    .dataframe thead th {\n",
       "        text-align: right;\n",
       "    }\n",
       "</style>\n",
       "<table border=\"1\" class=\"dataframe\">\n",
       "  <thead>\n",
       "    <tr style=\"text-align: right;\">\n",
       "      <th></th>\n",
       "      <th>index</th>\n",
       "      <th>complaint</th>\n",
       "      <th>lemmatized_complaint</th>\n",
       "      <th>extracted_complaint</th>\n",
       "      <th>Topic</th>\n",
       "    </tr>\n",
       "  </thead>\n",
       "  <tbody>\n",
       "    <tr>\n",
       "      <th>0</th>\n",
       "      <td>1</td>\n",
       "      <td>good morning my name is   and i appreciate it ...</td>\n",
       "      <td>good morning my name be   and i appreciate it ...</td>\n",
       "      <td>morning name   stop bank cardmember services d...</td>\n",
       "      <td>8</td>\n",
       "    </tr>\n",
       "    <tr>\n",
       "      <th>1</th>\n",
       "      <td>2</td>\n",
       "      <td>i upgraded my   card in and was told by the ag...</td>\n",
       "      <td>i upgrade my   card in and be tell by the agen...</td>\n",
       "      <td>card agent anniversary date agent information ...</td>\n",
       "      <td>1</td>\n",
       "    </tr>\n",
       "    <tr>\n",
       "      <th>2</th>\n",
       "      <td>10</td>\n",
       "      <td>chase card was reported on however fraudulent ...</td>\n",
       "      <td>chase card be report on however fraudulent app...</td>\n",
       "      <td>chase card application identity consent servic...</td>\n",
       "      <td>6</td>\n",
       "    </tr>\n",
       "    <tr>\n",
       "      <th>3</th>\n",
       "      <td>11</td>\n",
       "      <td>on while trying to book a     ticket i came ac...</td>\n",
       "      <td>on while try to book a   ticket i come across ...</td>\n",
       "      <td>ticket offer ticket rewards card information ...</td>\n",
       "      <td>1</td>\n",
       "    </tr>\n",
       "    <tr>\n",
       "      <th>4</th>\n",
       "      <td>14</td>\n",
       "      <td>my grand son give me check for i deposit it in...</td>\n",
       "      <td>my grand son give me check for i deposit it in...</td>\n",
       "      <td>son check chase account fund chase bank accoun...</td>\n",
       "      <td>5</td>\n",
       "    </tr>\n",
       "    <tr>\n",
       "      <th>5</th>\n",
       "      <td>15</td>\n",
       "      <td>can you please remove inquiry</td>\n",
       "      <td>can you please remove inquiry</td>\n",
       "      <td>inquiry</td>\n",
       "      <td>9</td>\n",
       "    </tr>\n",
       "    <tr>\n",
       "      <th>6</th>\n",
       "      <td>17</td>\n",
       "      <td>with out notice jp morgan chase restricted my ...</td>\n",
       "      <td>with out notice jp morgan chase restrict my ac...</td>\n",
       "      <td>notice jp morgan chase account debit card tues...</td>\n",
       "      <td>3</td>\n",
       "    </tr>\n",
       "    <tr>\n",
       "      <th>7</th>\n",
       "      <td>20</td>\n",
       "      <td>during the summer months i experience a declin...</td>\n",
       "      <td>during the summer month i experience a decline...</td>\n",
       "      <td>summer months decline income employment month ...</td>\n",
       "      <td>4</td>\n",
       "    </tr>\n",
       "    <tr>\n",
       "      <th>8</th>\n",
       "      <td>21</td>\n",
       "      <td>on  i made a payment to an online retailer usi...</td>\n",
       "      <td>on  i make a payment to an online retailer use...</td>\n",
       "      <td>payment retailer chase pay  chase website sca...</td>\n",
       "      <td>8</td>\n",
       "    </tr>\n",
       "    <tr>\n",
       "      <th>9</th>\n",
       "      <td>23</td>\n",
       "      <td>i have a chase credit card which is incorrectl...</td>\n",
       "      <td>i have a chase credit card which be incorrectl...</td>\n",
       "      <td>chase credit card data credit report company i...</td>\n",
       "      <td>9</td>\n",
       "    </tr>\n",
       "    <tr>\n",
       "      <th>10</th>\n",
       "      <td>24</td>\n",
       "      <td>mishandling of this account by chase auto and</td>\n",
       "      <td>mishandling of this account by chase auto and</td>\n",
       "      <td>account chase auto</td>\n",
       "      <td>3</td>\n",
       "    </tr>\n",
       "    <tr>\n",
       "      <th>11</th>\n",
       "      <td>26</td>\n",
       "      <td>i have reached out to  several times in attemp...</td>\n",
       "      <td>i have reach out to  several time in attempt t...</td>\n",
       "      <td>times attempt inquiry creditor inquiry report ...</td>\n",
       "      <td>9</td>\n",
       "    </tr>\n",
       "    <tr>\n",
       "      <th>12</th>\n",
       "      <td>27</td>\n",
       "      <td>i opened an account with chase bank on  and us...</td>\n",
       "      <td>i open an account with chase bank on  and use ...</td>\n",
       "      <td>account chase bank  code bonus  terms account ...</td>\n",
       "      <td>3</td>\n",
       "    </tr>\n",
       "    <tr>\n",
       "      <th>13</th>\n",
       "      <td>30</td>\n",
       "      <td>to whom it may concern chase bank charged wron...</td>\n",
       "      <td>to whom it may concern chase bank charge wrong...</td>\n",
       "      <td>concern chase bank overdraft fees alert balanc...</td>\n",
       "      <td>7</td>\n",
       "    </tr>\n",
       "    <tr>\n",
       "      <th>14</th>\n",
       "      <td>32</td>\n",
       "      <td>my chase amazon card was declined for a cateri...</td>\n",
       "      <td>my chase amazon card be decline for a catering...</td>\n",
       "      <td>chase amazon card catering order brothers fune...</td>\n",
       "      <td>1</td>\n",
       "    </tr>\n",
       "    <tr>\n",
       "      <th>15</th>\n",
       "      <td>35</td>\n",
       "      <td>i opened the saving account for the bonus i wa...</td>\n",
       "      <td>i open the save account for the bonus i be sup...</td>\n",
       "      <td>saving account bonus bonus auto transfers savi...</td>\n",
       "      <td>3</td>\n",
       "    </tr>\n",
       "    <tr>\n",
       "      <th>16</th>\n",
       "      <td>40</td>\n",
       "      <td>a sofa love seat table and chairs and was ne...</td>\n",
       "      <td>a sofa love seat table and chair and be neve...</td>\n",
       "      <td>sofa love seat table chairs debit card bank v...</td>\n",
       "      <td>6</td>\n",
       "    </tr>\n",
       "    <tr>\n",
       "      <th>17</th>\n",
       "      <td>42</td>\n",
       "      <td>my card went missing and i didnt realize it un...</td>\n",
       "      <td>my card go miss and i didnt realize it until t...</td>\n",
       "      <td>card today email deposits money bank account gone</td>\n",
       "      <td>0</td>\n",
       "    </tr>\n",
       "    <tr>\n",
       "      <th>18</th>\n",
       "      <td>43</td>\n",
       "      <td>chase sent me an email today with the innocuou...</td>\n",
       "      <td>chase send me an email today with the innocuou...</td>\n",
       "      <td>chase email today title information changes ch...</td>\n",
       "      <td>8</td>\n",
       "    </tr>\n",
       "    <tr>\n",
       "      <th>19</th>\n",
       "      <td>45</td>\n",
       "      <td>i made a purchase with    on in the amount of ...</td>\n",
       "      <td>i make a purchase with    on in the amount of ...</td>\n",
       "      <td>purchase    amount transaction disputes case c...</td>\n",
       "      <td>3</td>\n",
       "    </tr>\n",
       "    <tr>\n",
       "      <th>20</th>\n",
       "      <td>48</td>\n",
       "      <td>jp morgan chase bank please answer the followi...</td>\n",
       "      <td>jp morgan chase bank please answer the followi...</td>\n",
       "      <td>jp morgan chase bank questions     jpmorgan ch...</td>\n",
       "      <td>8</td>\n",
       "    </tr>\n",
       "    <tr>\n",
       "      <th>21</th>\n",
       "      <td>50</td>\n",
       "      <td>i am a senior citizen that has been scammed by...</td>\n",
       "      <td>i be a senior citizen that have be scammed by ...</td>\n",
       "      <td>citizen companies   time share companies refun...</td>\n",
       "      <td>1</td>\n",
       "    </tr>\n",
       "    <tr>\n",
       "      <th>22</th>\n",
       "      <td>52</td>\n",
       "      <td>my roommate was stealing my chase debit card a...</td>\n",
       "      <td>my roommate be steal my chase debit card and d...</td>\n",
       "      <td>roommate chase debit card drivers license mone...</td>\n",
       "      <td>0</td>\n",
       "    </tr>\n",
       "    <tr>\n",
       "      <th>23</th>\n",
       "      <td>57</td>\n",
       "      <td>i have been trying to do a loan modification w...</td>\n",
       "      <td>i have be try to do a loan modification with c...</td>\n",
       "      <td>loan modification chase runaround mo payments ...</td>\n",
       "      <td>2</td>\n",
       "    </tr>\n",
       "    <tr>\n",
       "      <th>24</th>\n",
       "      <td>58</td>\n",
       "      <td>i made a purchase of on  i made payments of on...</td>\n",
       "      <td>i make a purchase of on  i make payment of on ...</td>\n",
       "      <td>purchase  payments   payment closing date  sta...</td>\n",
       "      <td>7</td>\n",
       "    </tr>\n",
       "    <tr>\n",
       "      <th>25</th>\n",
       "      <td>59</td>\n",
       "      <td>i currently have over  chase ultimate rewards ...</td>\n",
       "      <td>i currently have over  chase ultimate reward p...</td>\n",
       "      <td>chase rewards points months chase rewards bonu...</td>\n",
       "      <td>1</td>\n",
       "    </tr>\n",
       "    <tr>\n",
       "      <th>26</th>\n",
       "      <td>63</td>\n",
       "      <td>i tried to send almost at  and the transaction...</td>\n",
       "      <td>i try to send almost at  and the transaction b...</td>\n",
       "      <td>transaction i d service refund card account</td>\n",
       "      <td>8</td>\n",
       "    </tr>\n",
       "    <tr>\n",
       "      <th>30</th>\n",
       "      <td>73</td>\n",
       "      <td>i have wired through one of chase branches in ...</td>\n",
       "      <td>i have wire through one of chase branch in   t...</td>\n",
       "      <td>branches  reinstatement amount jpmorgan chase ...</td>\n",
       "      <td>2</td>\n",
       "    </tr>\n",
       "    <tr>\n",
       "      <th>32</th>\n",
       "      <td>81</td>\n",
       "      <td>i bought a new   on  from    in  \\ni paid the ...</td>\n",
       "      <td>i buy a new   on  from    in  i pay the loan i...</td>\n",
       "      <td>loan but chase financial title chase tim...</td>\n",
       "      <td>2</td>\n",
       "    </tr>\n",
       "    <tr>\n",
       "      <th>33</th>\n",
       "      <td>82</td>\n",
       "      <td>i recently called to ask chase bank why they r...</td>\n",
       "      <td>i recently call to ask chase bank why they rep...</td>\n",
       "      <td>chase bank credit bureau days payment info  bi...</td>\n",
       "      <td>4</td>\n",
       "    </tr>\n",
       "    <tr>\n",
       "      <th>34</th>\n",
       "      <td>83</td>\n",
       "      <td>unknown inquire reported on my credit bureau s...</td>\n",
       "      <td>unknown inquire report on my credit bureau suc...</td>\n",
       "      <td>inquire credit bureau date company chase auto</td>\n",
       "      <td>9</td>\n",
       "    </tr>\n",
       "    <tr>\n",
       "      <th>35</th>\n",
       "      <td>86</td>\n",
       "      <td>a student loan with chase bank they sold there...</td>\n",
       "      <td>a student loan with chase bank they sell there...</td>\n",
       "      <td>student loan chase bank accounts account attem...</td>\n",
       "      <td>9</td>\n",
       "    </tr>\n",
       "    <tr>\n",
       "      <th>37</th>\n",
       "      <td>92</td>\n",
       "      <td>in several transactions on my chase checking a...</td>\n",
       "      <td>in several transaction on my chase check accou...</td>\n",
       "      <td>transactions chase account report chase chase ...</td>\n",
       "      <td>6</td>\n",
       "    </tr>\n",
       "    <tr>\n",
       "      <th>41</th>\n",
       "      <td>99</td>\n",
       "      <td>my name is   i have missed a payment in and wa...</td>\n",
       "      <td>my name be   i have miss a payment in and be d...</td>\n",
       "      <td>name   payment days times loan modification lo...</td>\n",
       "      <td>2</td>\n",
       "    </tr>\n",
       "    <tr>\n",
       "      <th>43</th>\n",
       "      <td>101</td>\n",
       "      <td>i purchase is an airline ticket on  and it was...</td>\n",
       "      <td>i purchase be an airline ticket on  and it be ...</td>\n",
       "      <td>airline ticket  dollar airport ticket hours re...</td>\n",
       "      <td>0</td>\n",
       "    </tr>\n",
       "    <tr>\n",
       "      <th>46</th>\n",
       "      <td>115</td>\n",
       "      <td>multiple times with the latest being  chase ha...</td>\n",
       "      <td>multiple time with the late be  chase have man...</td>\n",
       "      <td>times  chase order credits debits account fees...</td>\n",
       "      <td>7</td>\n",
       "    </tr>\n",
       "    <tr>\n",
       "      <th>51</th>\n",
       "      <td>131</td>\n",
       "      <td>for joining chase bank checking and setting up...</td>\n",
       "      <td>for join chase bank checking and set up direct...</td>\n",
       "      <td>chase bank checking deposit deposit deposit  d...</td>\n",
       "      <td>0</td>\n",
       "    </tr>\n",
       "    <tr>\n",
       "      <th>52</th>\n",
       "      <td>133</td>\n",
       "      <td>on i made a deposit into my chase bank persona...</td>\n",
       "      <td>on i make a deposit into my chase bank persona...</td>\n",
       "      <td>deposit chase bank checking account amount bus...</td>\n",
       "      <td>5</td>\n",
       "    </tr>\n",
       "    <tr>\n",
       "      <th>55</th>\n",
       "      <td>138</td>\n",
       "      <td>on i submitted a complaint to my bank jp morga...</td>\n",
       "      <td>on i submit a complaint to my bank jp morgan c...</td>\n",
       "      <td>complaint bank jp morgan chase charge debit ca...</td>\n",
       "      <td>6</td>\n",
       "    </tr>\n",
       "    <tr>\n",
       "      <th>57</th>\n",
       "      <td>141</td>\n",
       "      <td>action taken by the company between the dates ...</td>\n",
       "      <td>action take by the company between the date of...</td>\n",
       "      <td>action company dates  group individuals chase ...</td>\n",
       "      <td>6</td>\n",
       "    </tr>\n",
       "    <tr>\n",
       "      <th>58</th>\n",
       "      <td>142</td>\n",
       "      <td></td>\n",
       "      <td></td>\n",
       "      <td></td>\n",
       "      <td>0</td>\n",
       "    </tr>\n",
       "    <tr>\n",
       "      <th>65</th>\n",
       "      <td>154</td>\n",
       "      <td>on  our firm issued a check in the amount of d...</td>\n",
       "      <td>on  our firm issue a check in the amount of dr...</td>\n",
       "      <td>firm check amount chase account  s rent    te...</td>\n",
       "      <td>5</td>\n",
       "    </tr>\n",
       "    <tr>\n",
       "      <th>67</th>\n",
       "      <td>156</td>\n",
       "      <td>chase issued a mortgage loan against my proper...</td>\n",
       "      <td>chase issue a mortgage loan against my propert...</td>\n",
       "      <td>chase mortgage loan property home insurance co...</td>\n",
       "      <td>2</td>\n",
       "    </tr>\n",
       "    <tr>\n",
       "      <th>70</th>\n",
       "      <td>160</td>\n",
       "      <td>on more than one occasion my bank  chase  has ...</td>\n",
       "      <td>on more than one occasion my bank chase have c...</td>\n",
       "      <td>occasion bank chase overdraft fees account way...</td>\n",
       "      <td>7</td>\n",
       "    </tr>\n",
       "    <tr>\n",
       "      <th>73</th>\n",
       "      <td>167</td>\n",
       "      <td>a double payment from my chase debt cart to ch...</td>\n",
       "      <td>a double payment from my chase debt cart to ch...</td>\n",
       "      <td>payment chase debt cart credit card request da...</td>\n",
       "      <td>4</td>\n",
       "    </tr>\n",
       "    <tr>\n",
       "      <th>78</th>\n",
       "      <td>176</td>\n",
       "      <td>i deposited a check that was endorsed to two p...</td>\n",
       "      <td>i deposit a check that be endorse to two party...</td>\n",
       "      <td>check parties verification funds verification ...</td>\n",
       "      <td>5</td>\n",
       "    </tr>\n",
       "    <tr>\n",
       "      <th>86</th>\n",
       "      <td>198</td>\n",
       "      <td>i overdrew my account due to errors related to...</td>\n",
       "      <td>i overdraw my account due to error relate to m...</td>\n",
       "      <td>account errors  transactions overdraft fees fe...</td>\n",
       "      <td>7</td>\n",
       "    </tr>\n",
       "    <tr>\n",
       "      <th>93</th>\n",
       "      <td>213</td>\n",
       "      <td>my mortgage is with chase my payments were bei...</td>\n",
       "      <td>my mortgage be with chase my payment be be mak...</td>\n",
       "      <td>mortgage chase payments    month  provider    ...</td>\n",
       "      <td>4</td>\n",
       "    </tr>\n",
       "    <tr>\n",
       "      <th>96</th>\n",
       "      <td>220</td>\n",
       "      <td>i wrote my husband a check which he deposited ...</td>\n",
       "      <td>i write my husband a check which he deposit in...</td>\n",
       "      <td>husband check chase bank atm machine check che...</td>\n",
       "      <td>5</td>\n",
       "    </tr>\n",
       "    <tr>\n",
       "      <th>111</th>\n",
       "      <td>267</td>\n",
       "      <td>i received an offer from chase  visa promising...</td>\n",
       "      <td>i receive an offer from chase  visa promise a ...</td>\n",
       "      <td>offer chase visa companion airline bonus point...</td>\n",
       "      <td>4</td>\n",
       "    </tr>\n",
       "  </tbody>\n",
       "</table>\n",
       "</div>"
      ],
      "text/plain": [
       "     index                                          complaint  \\\n",
       "0        1  good morning my name is   and i appreciate it ...   \n",
       "1        2  i upgraded my   card in and was told by the ag...   \n",
       "2       10  chase card was reported on however fraudulent ...   \n",
       "3       11  on while trying to book a     ticket i came ac...   \n",
       "4       14  my grand son give me check for i deposit it in...   \n",
       "5       15                      can you please remove inquiry   \n",
       "6       17  with out notice jp morgan chase restricted my ...   \n",
       "7       20  during the summer months i experience a declin...   \n",
       "8       21  on  i made a payment to an online retailer usi...   \n",
       "9       23  i have a chase credit card which is incorrectl...   \n",
       "10      24     mishandling of this account by chase auto and    \n",
       "11      26  i have reached out to  several times in attemp...   \n",
       "12      27  i opened an account with chase bank on  and us...   \n",
       "13      30  to whom it may concern chase bank charged wron...   \n",
       "14      32  my chase amazon card was declined for a cateri...   \n",
       "15      35  i opened the saving account for the bonus i wa...   \n",
       "16      40    a sofa love seat table and chairs and was ne...   \n",
       "17      42  my card went missing and i didnt realize it un...   \n",
       "18      43  chase sent me an email today with the innocuou...   \n",
       "19      45  i made a purchase with    on in the amount of ...   \n",
       "20      48  jp morgan chase bank please answer the followi...   \n",
       "21      50  i am a senior citizen that has been scammed by...   \n",
       "22      52  my roommate was stealing my chase debit card a...   \n",
       "23      57  i have been trying to do a loan modification w...   \n",
       "24      58  i made a purchase of on  i made payments of on...   \n",
       "25      59  i currently have over  chase ultimate rewards ...   \n",
       "26      63  i tried to send almost at  and the transaction...   \n",
       "30      73  i have wired through one of chase branches in ...   \n",
       "32      81  i bought a new   on  from    in  \\ni paid the ...   \n",
       "33      82  i recently called to ask chase bank why they r...   \n",
       "34      83  unknown inquire reported on my credit bureau s...   \n",
       "35      86  a student loan with chase bank they sold there...   \n",
       "37      92  in several transactions on my chase checking a...   \n",
       "41      99  my name is   i have missed a payment in and wa...   \n",
       "43     101  i purchase is an airline ticket on  and it was...   \n",
       "46     115  multiple times with the latest being  chase ha...   \n",
       "51     131  for joining chase bank checking and setting up...   \n",
       "52     133  on i made a deposit into my chase bank persona...   \n",
       "55     138  on i submitted a complaint to my bank jp morga...   \n",
       "57     141  action taken by the company between the dates ...   \n",
       "58     142                                                      \n",
       "65     154  on  our firm issued a check in the amount of d...   \n",
       "67     156  chase issued a mortgage loan against my proper...   \n",
       "70     160  on more than one occasion my bank  chase  has ...   \n",
       "73     167  a double payment from my chase debt cart to ch...   \n",
       "78     176  i deposited a check that was endorsed to two p...   \n",
       "86     198  i overdrew my account due to errors related to...   \n",
       "93     213  my mortgage is with chase my payments were bei...   \n",
       "96     220  i wrote my husband a check which he deposited ...   \n",
       "111    267  i received an offer from chase  visa promising...   \n",
       "\n",
       "                                  lemmatized_complaint  \\\n",
       "0    good morning my name be   and i appreciate it ...   \n",
       "1    i upgrade my   card in and be tell by the agen...   \n",
       "2    chase card be report on however fraudulent app...   \n",
       "3    on while try to book a   ticket i come across ...   \n",
       "4    my grand son give me check for i deposit it in...   \n",
       "5                        can you please remove inquiry   \n",
       "6    with out notice jp morgan chase restrict my ac...   \n",
       "7    during the summer month i experience a decline...   \n",
       "8    on  i make a payment to an online retailer use...   \n",
       "9    i have a chase credit card which be incorrectl...   \n",
       "10      mishandling of this account by chase auto and    \n",
       "11   i have reach out to  several time in attempt t...   \n",
       "12   i open an account with chase bank on  and use ...   \n",
       "13   to whom it may concern chase bank charge wrong...   \n",
       "14   my chase amazon card be decline for a catering...   \n",
       "15   i open the save account for the bonus i be sup...   \n",
       "16     a sofa love seat table and chair and be neve...   \n",
       "17   my card go miss and i didnt realize it until t...   \n",
       "18   chase send me an email today with the innocuou...   \n",
       "19   i make a purchase with    on in the amount of ...   \n",
       "20   jp morgan chase bank please answer the followi...   \n",
       "21   i be a senior citizen that have be scammed by ...   \n",
       "22   my roommate be steal my chase debit card and d...   \n",
       "23   i have be try to do a loan modification with c...   \n",
       "24   i make a purchase of on  i make payment of on ...   \n",
       "25   i currently have over  chase ultimate reward p...   \n",
       "26   i try to send almost at  and the transaction b...   \n",
       "30   i have wire through one of chase branch in   t...   \n",
       "32   i buy a new   on  from    in  i pay the loan i...   \n",
       "33   i recently call to ask chase bank why they rep...   \n",
       "34   unknown inquire report on my credit bureau suc...   \n",
       "35   a student loan with chase bank they sell there...   \n",
       "37   in several transaction on my chase check accou...   \n",
       "41   my name be   i have miss a payment in and be d...   \n",
       "43   i purchase be an airline ticket on  and it be ...   \n",
       "46   multiple time with the late be  chase have man...   \n",
       "51   for join chase bank checking and set up direct...   \n",
       "52   on i make a deposit into my chase bank persona...   \n",
       "55   on i submit a complaint to my bank jp morgan c...   \n",
       "57   action take by the company between the date of...   \n",
       "58                                                       \n",
       "65   on  our firm issue a check in the amount of dr...   \n",
       "67   chase issue a mortgage loan against my propert...   \n",
       "70   on more than one occasion my bank chase have c...   \n",
       "73   a double payment from my chase debt cart to ch...   \n",
       "78   i deposit a check that be endorse to two party...   \n",
       "86   i overdraw my account due to error relate to m...   \n",
       "93   my mortgage be with chase my payment be be mak...   \n",
       "96   i write my husband a check which he deposit in...   \n",
       "111  i receive an offer from chase  visa promise a ...   \n",
       "\n",
       "                                   extracted_complaint  Topic  \n",
       "0    morning name   stop bank cardmember services d...      8  \n",
       "1    card agent anniversary date agent information ...      1  \n",
       "2    chase card application identity consent servic...      6  \n",
       "3     ticket offer ticket rewards card information ...      1  \n",
       "4    son check chase account fund chase bank accoun...      5  \n",
       "5                                              inquiry      9  \n",
       "6    notice jp morgan chase account debit card tues...      3  \n",
       "7    summer months decline income employment month ...      4  \n",
       "8     payment retailer chase pay  chase website sca...      8  \n",
       "9    chase credit card data credit report company i...      9  \n",
       "10                                 account chase auto       3  \n",
       "11   times attempt inquiry creditor inquiry report ...      9  \n",
       "12   account chase bank  code bonus  terms account ...      3  \n",
       "13   concern chase bank overdraft fees alert balanc...      7  \n",
       "14   chase amazon card catering order brothers fune...      1  \n",
       "15   saving account bonus bonus auto transfers savi...      3  \n",
       "16    sofa love seat table chairs debit card bank v...      6  \n",
       "17   card today email deposits money bank account gone      0  \n",
       "18   chase email today title information changes ch...      8  \n",
       "19   purchase    amount transaction disputes case c...      3  \n",
       "20   jp morgan chase bank questions     jpmorgan ch...      8  \n",
       "21   citizen companies   time share companies refun...      1  \n",
       "22   roommate chase debit card drivers license mone...      0  \n",
       "23   loan modification chase runaround mo payments ...      2  \n",
       "24   purchase  payments   payment closing date  sta...      7  \n",
       "25   chase rewards points months chase rewards bonu...      1  \n",
       "26         transaction i d service refund card account      8  \n",
       "30   branches  reinstatement amount jpmorgan chase ...      2  \n",
       "32         loan but chase financial title chase tim...      2  \n",
       "33   chase bank credit bureau days payment info  bi...      4  \n",
       "34       inquire credit bureau date company chase auto      9  \n",
       "35   student loan chase bank accounts account attem...      9  \n",
       "37   transactions chase account report chase chase ...      6  \n",
       "41   name   payment days times loan modification lo...      2  \n",
       "43   airline ticket  dollar airport ticket hours re...      0  \n",
       "46   times  chase order credits debits account fees...      7  \n",
       "51   chase bank checking deposit deposit deposit  d...      0  \n",
       "52   deposit chase bank checking account amount bus...      5  \n",
       "55   complaint bank jp morgan chase charge debit ca...      6  \n",
       "57   action company dates  group individuals chase ...      6  \n",
       "58                                                          0  \n",
       "65    firm check amount chase account  s rent    te...      5  \n",
       "67   chase mortgage loan property home insurance co...      2  \n",
       "70   occasion bank chase overdraft fees account way...      7  \n",
       "73   payment chase debt cart credit card request da...      4  \n",
       "78   check parties verification funds verification ...      5  \n",
       "86   account errors  transactions overdraft fees fe...      7  \n",
       "93   mortgage chase payments    month  provider    ...      4  \n",
       "96   husband check chase bank atm machine check che...      5  \n",
       "111  offer chase visa companion airline bonus point...      4  "
      ]
     },
     "execution_count": 90,
     "metadata": {},
     "output_type": "execute_result"
    }
   ],
   "source": [
    "df_clean_top5.head()"
   ]
  },
  {
   "cell_type": "markdown",
   "metadata": {
    "id": "piyLxzj6v07j"
   },
   "source": [
    "#### After evaluating the mapping, if the topics assigned are correct then assign these names to the relevant topic:\n",
    "* Bank Account services\n",
    "* Credit card or prepaid card\n",
    "* Theft/Dispute Reporting\n",
    "* Mortgage/Loan\n",
    "* Others"
   ]
  },
  {
   "cell_type": "code",
   "execution_count": 91,
   "metadata": {},
   "outputs": [],
   "source": [
    "#Create the dictionary of Topic names and Topics"
   ]
  },
  {
   "cell_type": "code",
   "execution_count": 92,
   "metadata": {
    "id": "TWpwDG4RJrGG"
   },
   "outputs": [],
   "source": [
    "Topic_names = {\n",
    "    0: 'Others',\n",
    "    1: 'Credit Card/Prepaid Card',\n",
    "    2: 'Mortgages/loans',\n",
    "    3: 'Banking account services',\n",
    "    4: 'Credit Card/Prepaid Card',\n",
    "    5: 'Others',\n",
    "    6: 'Theft/Dispute reporting',\n",
    "    7: 'Banking account services',\n",
    "    8: 'Theft/Dispute reporting',\n",
    "    9: 'Others'\n",
    "}"
   ]
  },
  {
   "cell_type": "code",
   "execution_count": 93,
   "metadata": {},
   "outputs": [],
   "source": [
    "#Replace Topics with Topic Names\n",
    "df_clean['Topic'] = df_clean['Topic'].map(Topic_names)"
   ]
  },
  {
   "cell_type": "code",
   "execution_count": 94,
   "metadata": {
    "colab": {
     "base_uri": "https://localhost:8080/",
     "height": 589
    },
    "id": "-2ULY5K6JrGG",
    "outputId": "c5d11a63-6a65-4612-9c1e-71206f935c7a"
   },
   "outputs": [
    {
     "data": {
      "text/html": [
       "<div>\n",
       "<style scoped>\n",
       "    .dataframe tbody tr th:only-of-type {\n",
       "        vertical-align: middle;\n",
       "    }\n",
       "\n",
       "    .dataframe tbody tr th {\n",
       "        vertical-align: top;\n",
       "    }\n",
       "\n",
       "    .dataframe thead th {\n",
       "        text-align: right;\n",
       "    }\n",
       "</style>\n",
       "<table border=\"1\" class=\"dataframe\">\n",
       "  <thead>\n",
       "    <tr style=\"text-align: right;\">\n",
       "      <th></th>\n",
       "      <th>index</th>\n",
       "      <th>complaint</th>\n",
       "      <th>lemmatized_complaint</th>\n",
       "      <th>extracted_complaint</th>\n",
       "      <th>Topic</th>\n",
       "    </tr>\n",
       "  </thead>\n",
       "  <tbody>\n",
       "    <tr>\n",
       "      <th>0</th>\n",
       "      <td>1</td>\n",
       "      <td>good morning my name is   and i appreciate it ...</td>\n",
       "      <td>good morning my name be   and i appreciate it ...</td>\n",
       "      <td>morning name   stop bank cardmember services d...</td>\n",
       "      <td>Theft/Dispute reporting</td>\n",
       "    </tr>\n",
       "    <tr>\n",
       "      <th>1</th>\n",
       "      <td>2</td>\n",
       "      <td>i upgraded my   card in and was told by the ag...</td>\n",
       "      <td>i upgrade my   card in and be tell by the agen...</td>\n",
       "      <td>card agent anniversary date agent information ...</td>\n",
       "      <td>Credit Card/Prepaid Card</td>\n",
       "    </tr>\n",
       "    <tr>\n",
       "      <th>2</th>\n",
       "      <td>10</td>\n",
       "      <td>chase card was reported on however fraudulent ...</td>\n",
       "      <td>chase card be report on however fraudulent app...</td>\n",
       "      <td>chase card application identity consent servic...</td>\n",
       "      <td>Theft/Dispute reporting</td>\n",
       "    </tr>\n",
       "    <tr>\n",
       "      <th>3</th>\n",
       "      <td>11</td>\n",
       "      <td>on while trying to book a     ticket i came ac...</td>\n",
       "      <td>on while try to book a   ticket i come across ...</td>\n",
       "      <td>ticket offer ticket rewards card information ...</td>\n",
       "      <td>Credit Card/Prepaid Card</td>\n",
       "    </tr>\n",
       "    <tr>\n",
       "      <th>4</th>\n",
       "      <td>14</td>\n",
       "      <td>my grand son give me check for i deposit it in...</td>\n",
       "      <td>my grand son give me check for i deposit it in...</td>\n",
       "      <td>son check chase account fund chase bank accoun...</td>\n",
       "      <td>Others</td>\n",
       "    </tr>\n",
       "    <tr>\n",
       "      <th>...</th>\n",
       "      <td>...</td>\n",
       "      <td>...</td>\n",
       "      <td>...</td>\n",
       "      <td>...</td>\n",
       "      <td>...</td>\n",
       "    </tr>\n",
       "    <tr>\n",
       "      <th>21067</th>\n",
       "      <td>78303</td>\n",
       "      <td>after being a chase card customer for well ove...</td>\n",
       "      <td>after be a chase card customer for well over a...</td>\n",
       "      <td>chase card customer decade solicitations credi...</td>\n",
       "      <td>Credit Card/Prepaid Card</td>\n",
       "    </tr>\n",
       "    <tr>\n",
       "      <th>21068</th>\n",
       "      <td>78309</td>\n",
       "      <td>on wednesday  i called chas my   visa credit c...</td>\n",
       "      <td>on wednesday  i call chas my   visa credit car...</td>\n",
       "      <td>wednesday  chas visa credit card provider clai...</td>\n",
       "      <td>Theft/Dispute reporting</td>\n",
       "    </tr>\n",
       "    <tr>\n",
       "      <th>21069</th>\n",
       "      <td>78310</td>\n",
       "      <td>i am not familiar with  pay and did not unders...</td>\n",
       "      <td>i be not familiar with  pay and do not underst...</td>\n",
       "      <td>pay risk consumers chase bank app chase years ...</td>\n",
       "      <td>Theft/Dispute reporting</td>\n",
       "    </tr>\n",
       "    <tr>\n",
       "      <th>21070</th>\n",
       "      <td>78311</td>\n",
       "      <td>i have had flawless credit for yrs ive had cha...</td>\n",
       "      <td>i have have flawless credit for yrs ive have c...</td>\n",
       "      <td>credit yrs chase credit cards chase freedom  p...</td>\n",
       "      <td>Banking account services</td>\n",
       "    </tr>\n",
       "    <tr>\n",
       "      <th>21071</th>\n",
       "      <td>78312</td>\n",
       "      <td>roughly years ago i closed out my accounts wit...</td>\n",
       "      <td>roughly year ago i close out my account with j...</td>\n",
       "      <td>years accounts jp morgan chase bank  order lin...</td>\n",
       "      <td>Credit Card/Prepaid Card</td>\n",
       "    </tr>\n",
       "  </tbody>\n",
       "</table>\n",
       "<p>21072 rows × 5 columns</p>\n",
       "</div>"
      ],
      "text/plain": [
       "       index                                          complaint  \\\n",
       "0          1  good morning my name is   and i appreciate it ...   \n",
       "1          2  i upgraded my   card in and was told by the ag...   \n",
       "2         10  chase card was reported on however fraudulent ...   \n",
       "3         11  on while trying to book a     ticket i came ac...   \n",
       "4         14  my grand son give me check for i deposit it in...   \n",
       "...      ...                                                ...   \n",
       "21067  78303  after being a chase card customer for well ove...   \n",
       "21068  78309  on wednesday  i called chas my   visa credit c...   \n",
       "21069  78310  i am not familiar with  pay and did not unders...   \n",
       "21070  78311  i have had flawless credit for yrs ive had cha...   \n",
       "21071  78312  roughly years ago i closed out my accounts wit...   \n",
       "\n",
       "                                    lemmatized_complaint  \\\n",
       "0      good morning my name be   and i appreciate it ...   \n",
       "1      i upgrade my   card in and be tell by the agen...   \n",
       "2      chase card be report on however fraudulent app...   \n",
       "3      on while try to book a   ticket i come across ...   \n",
       "4      my grand son give me check for i deposit it in...   \n",
       "...                                                  ...   \n",
       "21067  after be a chase card customer for well over a...   \n",
       "21068  on wednesday  i call chas my   visa credit car...   \n",
       "21069  i be not familiar with  pay and do not underst...   \n",
       "21070  i have have flawless credit for yrs ive have c...   \n",
       "21071  roughly year ago i close out my account with j...   \n",
       "\n",
       "                                     extracted_complaint  \\\n",
       "0      morning name   stop bank cardmember services d...   \n",
       "1      card agent anniversary date agent information ...   \n",
       "2      chase card application identity consent servic...   \n",
       "3       ticket offer ticket rewards card information ...   \n",
       "4      son check chase account fund chase bank accoun...   \n",
       "...                                                  ...   \n",
       "21067  chase card customer decade solicitations credi...   \n",
       "21068  wednesday  chas visa credit card provider clai...   \n",
       "21069  pay risk consumers chase bank app chase years ...   \n",
       "21070  credit yrs chase credit cards chase freedom  p...   \n",
       "21071  years accounts jp morgan chase bank  order lin...   \n",
       "\n",
       "                          Topic  \n",
       "0       Theft/Dispute reporting  \n",
       "1      Credit Card/Prepaid Card  \n",
       "2       Theft/Dispute reporting  \n",
       "3      Credit Card/Prepaid Card  \n",
       "4                        Others  \n",
       "...                         ...  \n",
       "21067  Credit Card/Prepaid Card  \n",
       "21068   Theft/Dispute reporting  \n",
       "21069   Theft/Dispute reporting  \n",
       "21070  Banking account services  \n",
       "21071  Credit Card/Prepaid Card  \n",
       "\n",
       "[21072 rows x 5 columns]"
      ]
     },
     "execution_count": 94,
     "metadata": {},
     "output_type": "execute_result"
    }
   ],
   "source": [
    "df_clean"
   ]
  },
  {
   "cell_type": "code",
   "execution_count": 95,
   "metadata": {
    "colab": {
     "base_uri": "https://localhost:8080/"
    },
    "id": "N44rCpTv1u6C",
    "outputId": "fe971be4-b0ad-4c20-bdfd-7facb054717c"
   },
   "outputs": [
    {
     "name": "stdout",
     "output_type": "stream",
     "text": [
      "Topic\n",
      "Banking account services    3541\n",
      "Credit Card/Prepaid Card    4600\n",
      "Mortgages/loans             3112\n",
      "Others                      5061\n",
      "Theft/Dispute reporting     4758\n",
      "dtype: int64\n"
     ]
    }
   ],
   "source": [
    "print(df_clean.groupby('Topic').size())"
   ]
  },
  {
   "cell_type": "markdown",
   "metadata": {
    "id": "7Mu0QBOcJrGH"
   },
   "source": [
    "## Supervised model to predict any new complaints to the relevant Topics.\n",
    "\n",
    "You have now build the model to create the topics for each complaints.Now in the below section you will use them to classify any new complaints.\n",
    "\n",
    "Since you will be using supervised learning technique we have to convert the topic names to numbers(numpy arrays only understand numbers)"
   ]
  },
  {
   "cell_type": "code",
   "execution_count": 96,
   "metadata": {
    "id": "_U8J3J8wJrGH"
   },
   "outputs": [],
   "source": [
    "#Create the dictionary again of Topic names and Topics"
   ]
  },
  {
   "cell_type": "code",
   "execution_count": 97,
   "metadata": {},
   "outputs": [],
   "source": [
    "Topic_numbers = {\n",
    "    \"Banking account services\": 0,\n",
    "    \"Credit Card/Prepaid Card\": 1,\n",
    "    \"Mortgages/loans\": 2,\n",
    "    \"Theft/Dispute reporting\": 3,\n",
    "    \"Others\": 4,\n",
    "    }"
   ]
  },
  {
   "cell_type": "code",
   "execution_count": 98,
   "metadata": {},
   "outputs": [],
   "source": [
    "#Add column for Topic numbers\n",
    "df_clean['topic_num'] = df_clean['Topic'].map(Topic_numbers)"
   ]
  },
  {
   "cell_type": "code",
   "execution_count": 99,
   "metadata": {
    "colab": {
     "base_uri": "https://localhost:8080/",
     "height": 641
    },
    "id": "BWIgJUkQJrGH",
    "outputId": "26f9d981-de44-4e89-c72c-6d689a3b4a0d"
   },
   "outputs": [
    {
     "data": {
      "text/html": [
       "<div>\n",
       "<style scoped>\n",
       "    .dataframe tbody tr th:only-of-type {\n",
       "        vertical-align: middle;\n",
       "    }\n",
       "\n",
       "    .dataframe tbody tr th {\n",
       "        vertical-align: top;\n",
       "    }\n",
       "\n",
       "    .dataframe thead th {\n",
       "        text-align: right;\n",
       "    }\n",
       "</style>\n",
       "<table border=\"1\" class=\"dataframe\">\n",
       "  <thead>\n",
       "    <tr style=\"text-align: right;\">\n",
       "      <th></th>\n",
       "      <th>index</th>\n",
       "      <th>complaint</th>\n",
       "      <th>lemmatized_complaint</th>\n",
       "      <th>extracted_complaint</th>\n",
       "      <th>Topic</th>\n",
       "      <th>topic_num</th>\n",
       "    </tr>\n",
       "  </thead>\n",
       "  <tbody>\n",
       "    <tr>\n",
       "      <th>0</th>\n",
       "      <td>1</td>\n",
       "      <td>good morning my name is   and i appreciate it ...</td>\n",
       "      <td>good morning my name be   and i appreciate it ...</td>\n",
       "      <td>morning name   stop bank cardmember services d...</td>\n",
       "      <td>Theft/Dispute reporting</td>\n",
       "      <td>3</td>\n",
       "    </tr>\n",
       "    <tr>\n",
       "      <th>1</th>\n",
       "      <td>2</td>\n",
       "      <td>i upgraded my   card in and was told by the ag...</td>\n",
       "      <td>i upgrade my   card in and be tell by the agen...</td>\n",
       "      <td>card agent anniversary date agent information ...</td>\n",
       "      <td>Credit Card/Prepaid Card</td>\n",
       "      <td>1</td>\n",
       "    </tr>\n",
       "    <tr>\n",
       "      <th>2</th>\n",
       "      <td>10</td>\n",
       "      <td>chase card was reported on however fraudulent ...</td>\n",
       "      <td>chase card be report on however fraudulent app...</td>\n",
       "      <td>chase card application identity consent servic...</td>\n",
       "      <td>Theft/Dispute reporting</td>\n",
       "      <td>3</td>\n",
       "    </tr>\n",
       "    <tr>\n",
       "      <th>3</th>\n",
       "      <td>11</td>\n",
       "      <td>on while trying to book a     ticket i came ac...</td>\n",
       "      <td>on while try to book a   ticket i come across ...</td>\n",
       "      <td>ticket offer ticket rewards card information ...</td>\n",
       "      <td>Credit Card/Prepaid Card</td>\n",
       "      <td>1</td>\n",
       "    </tr>\n",
       "    <tr>\n",
       "      <th>4</th>\n",
       "      <td>14</td>\n",
       "      <td>my grand son give me check for i deposit it in...</td>\n",
       "      <td>my grand son give me check for i deposit it in...</td>\n",
       "      <td>son check chase account fund chase bank accoun...</td>\n",
       "      <td>Others</td>\n",
       "      <td>4</td>\n",
       "    </tr>\n",
       "    <tr>\n",
       "      <th>...</th>\n",
       "      <td>...</td>\n",
       "      <td>...</td>\n",
       "      <td>...</td>\n",
       "      <td>...</td>\n",
       "      <td>...</td>\n",
       "      <td>...</td>\n",
       "    </tr>\n",
       "    <tr>\n",
       "      <th>21067</th>\n",
       "      <td>78303</td>\n",
       "      <td>after being a chase card customer for well ove...</td>\n",
       "      <td>after be a chase card customer for well over a...</td>\n",
       "      <td>chase card customer decade solicitations credi...</td>\n",
       "      <td>Credit Card/Prepaid Card</td>\n",
       "      <td>1</td>\n",
       "    </tr>\n",
       "    <tr>\n",
       "      <th>21068</th>\n",
       "      <td>78309</td>\n",
       "      <td>on wednesday  i called chas my   visa credit c...</td>\n",
       "      <td>on wednesday  i call chas my   visa credit car...</td>\n",
       "      <td>wednesday  chas visa credit card provider clai...</td>\n",
       "      <td>Theft/Dispute reporting</td>\n",
       "      <td>3</td>\n",
       "    </tr>\n",
       "    <tr>\n",
       "      <th>21069</th>\n",
       "      <td>78310</td>\n",
       "      <td>i am not familiar with  pay and did not unders...</td>\n",
       "      <td>i be not familiar with  pay and do not underst...</td>\n",
       "      <td>pay risk consumers chase bank app chase years ...</td>\n",
       "      <td>Theft/Dispute reporting</td>\n",
       "      <td>3</td>\n",
       "    </tr>\n",
       "    <tr>\n",
       "      <th>21070</th>\n",
       "      <td>78311</td>\n",
       "      <td>i have had flawless credit for yrs ive had cha...</td>\n",
       "      <td>i have have flawless credit for yrs ive have c...</td>\n",
       "      <td>credit yrs chase credit cards chase freedom  p...</td>\n",
       "      <td>Banking account services</td>\n",
       "      <td>0</td>\n",
       "    </tr>\n",
       "    <tr>\n",
       "      <th>21071</th>\n",
       "      <td>78312</td>\n",
       "      <td>roughly years ago i closed out my accounts wit...</td>\n",
       "      <td>roughly year ago i close out my account with j...</td>\n",
       "      <td>years accounts jp morgan chase bank  order lin...</td>\n",
       "      <td>Credit Card/Prepaid Card</td>\n",
       "      <td>1</td>\n",
       "    </tr>\n",
       "  </tbody>\n",
       "</table>\n",
       "<p>21072 rows × 6 columns</p>\n",
       "</div>"
      ],
      "text/plain": [
       "       index                                          complaint  \\\n",
       "0          1  good morning my name is   and i appreciate it ...   \n",
       "1          2  i upgraded my   card in and was told by the ag...   \n",
       "2         10  chase card was reported on however fraudulent ...   \n",
       "3         11  on while trying to book a     ticket i came ac...   \n",
       "4         14  my grand son give me check for i deposit it in...   \n",
       "...      ...                                                ...   \n",
       "21067  78303  after being a chase card customer for well ove...   \n",
       "21068  78309  on wednesday  i called chas my   visa credit c...   \n",
       "21069  78310  i am not familiar with  pay and did not unders...   \n",
       "21070  78311  i have had flawless credit for yrs ive had cha...   \n",
       "21071  78312  roughly years ago i closed out my accounts wit...   \n",
       "\n",
       "                                    lemmatized_complaint  \\\n",
       "0      good morning my name be   and i appreciate it ...   \n",
       "1      i upgrade my   card in and be tell by the agen...   \n",
       "2      chase card be report on however fraudulent app...   \n",
       "3      on while try to book a   ticket i come across ...   \n",
       "4      my grand son give me check for i deposit it in...   \n",
       "...                                                  ...   \n",
       "21067  after be a chase card customer for well over a...   \n",
       "21068  on wednesday  i call chas my   visa credit car...   \n",
       "21069  i be not familiar with  pay and do not underst...   \n",
       "21070  i have have flawless credit for yrs ive have c...   \n",
       "21071  roughly year ago i close out my account with j...   \n",
       "\n",
       "                                     extracted_complaint  \\\n",
       "0      morning name   stop bank cardmember services d...   \n",
       "1      card agent anniversary date agent information ...   \n",
       "2      chase card application identity consent servic...   \n",
       "3       ticket offer ticket rewards card information ...   \n",
       "4      son check chase account fund chase bank accoun...   \n",
       "...                                                  ...   \n",
       "21067  chase card customer decade solicitations credi...   \n",
       "21068  wednesday  chas visa credit card provider clai...   \n",
       "21069  pay risk consumers chase bank app chase years ...   \n",
       "21070  credit yrs chase credit cards chase freedom  p...   \n",
       "21071  years accounts jp morgan chase bank  order lin...   \n",
       "\n",
       "                          Topic  topic_num  \n",
       "0       Theft/Dispute reporting          3  \n",
       "1      Credit Card/Prepaid Card          1  \n",
       "2       Theft/Dispute reporting          3  \n",
       "3      Credit Card/Prepaid Card          1  \n",
       "4                        Others          4  \n",
       "...                         ...        ...  \n",
       "21067  Credit Card/Prepaid Card          1  \n",
       "21068   Theft/Dispute reporting          3  \n",
       "21069   Theft/Dispute reporting          3  \n",
       "21070  Banking account services          0  \n",
       "21071  Credit Card/Prepaid Card          1  \n",
       "\n",
       "[21072 rows x 6 columns]"
      ]
     },
     "execution_count": 99,
     "metadata": {},
     "output_type": "execute_result"
    }
   ],
   "source": [
    "df_clean"
   ]
  },
  {
   "cell_type": "code",
   "execution_count": 100,
   "metadata": {
    "id": "Xx-FrbkWJrGH"
   },
   "outputs": [],
   "source": [
    "#Keep the columns\"complaint_what_happened\" & \"Topic\" only in the new dataframe --> training_data"
   ]
  },
  {
   "cell_type": "code",
   "execution_count": 101,
   "metadata": {},
   "outputs": [],
   "source": [
    "training_data= df_clean[['complaint', 'topic_num']].copy()"
   ]
  },
  {
   "cell_type": "code",
   "execution_count": 102,
   "metadata": {
    "colab": {
     "base_uri": "https://localhost:8080/"
    },
    "id": "lVg2pa12JrGI",
    "outputId": "872d9323-5de4-4720-9539-9724dd8ecadf"
   },
   "outputs": [
    {
     "data": {
      "text/plain": [
       "0        good morning my name is   and i appreciate it ...\n",
       "1        i upgraded my   card in and was told by the ag...\n",
       "2        chase card was reported on however fraudulent ...\n",
       "3        on while trying to book a     ticket i came ac...\n",
       "4        my grand son give me check for i deposit it in...\n",
       "                               ...                        \n",
       "21067    after being a chase card customer for well ove...\n",
       "21068    on wednesday  i called chas my   visa credit c...\n",
       "21069    i am not familiar with  pay and did not unders...\n",
       "21070    i have had flawless credit for yrs ive had cha...\n",
       "21071    roughly years ago i closed out my accounts wit...\n",
       "Name: complaint, Length: 21072, dtype: object"
      ]
     },
     "execution_count": 102,
     "metadata": {},
     "output_type": "execute_result"
    }
   ],
   "source": [
    "training_data['complaint']"
   ]
  },
  {
   "cell_type": "markdown",
   "metadata": {
    "id": "280Vbqk-7a8M"
   },
   "source": [
    "#### Apply the supervised models on the training data created. In this process, you have to do the following:\n",
    "* Create the vector counts using Count Vectoriser\n",
    "* Transform the word vecotr to tf-idf\n",
    "* Create the train & test data using the train_test_split on the tf-idf & topics\n"
   ]
  },
  {
   "cell_type": "code",
   "execution_count": 103,
   "metadata": {
    "colab": {
     "base_uri": "https://localhost:8080/"
    },
    "id": "oUlQpgkzJrGI",
    "outputId": "53938722-40de-4049-cc08-8caf30520fac"
   },
   "outputs": [],
   "source": [
    "#Write your code to get the Vector count"
   ]
  },
  {
   "cell_type": "code",
   "execution_count": 104,
   "metadata": {},
   "outputs": [
    {
     "data": {
      "text/plain": [
       "['aa',\n",
       " 'aaa',\n",
       " 'aaaratings',\n",
       " 'aaccounts',\n",
       " 'aacount',\n",
       " 'aaid',\n",
       " 'aall',\n",
       " 'aand',\n",
       " 'aaoa',\n",
       " 'aare',\n",
       " 'aarp',\n",
       " 'aavings',\n",
       " 'ab',\n",
       " 'aba',\n",
       " 'aback',\n",
       " 'abandon',\n",
       " 'abandonded',\n",
       " 'abandoned',\n",
       " 'abandoning',\n",
       " 'abandonment',\n",
       " 'abank',\n",
       " 'abate',\n",
       " 'abated',\n",
       " 'abatement',\n",
       " 'abbreviation',\n",
       " 'abc',\n",
       " 'abd',\n",
       " 'abe',\n",
       " 'aberrant',\n",
       " 'aberration',\n",
       " 'abet',\n",
       " 'abets',\n",
       " 'abetted',\n",
       " 'abetting',\n",
       " 'abeyance',\n",
       " 'abhorred',\n",
       " 'abhorrent',\n",
       " 'abhorrently',\n",
       " 'abide',\n",
       " 'abided',\n",
       " 'abiding',\n",
       " 'abiilities',\n",
       " 'abilities',\n",
       " 'ability',\n",
       " 'abillthe',\n",
       " 'abject',\n",
       " 'able',\n",
       " 'ableto',\n",
       " 'ablewilling',\n",
       " 'abnk',\n",
       " 'abnormal',\n",
       " 'abnormalities',\n",
       " 'abnormally',\n",
       " 'aboard',\n",
       " 'abolished',\n",
       " 'abominable',\n",
       " 'aborad',\n",
       " 'abort',\n",
       " 'abou',\n",
       " 'abounds',\n",
       " 'abouts',\n",
       " 'abovea',\n",
       " 'aboveaverage',\n",
       " 'abovedescribed',\n",
       " 'abovementioned',\n",
       " 'abovenamed',\n",
       " 'abovereferenced',\n",
       " 'aboverequested',\n",
       " 'abovespecifically',\n",
       " 'abovewas',\n",
       " 'abovewritten',\n",
       " 'aboveyou',\n",
       " 'abrasive',\n",
       " 'abreast',\n",
       " 'abroad',\n",
       " 'abrupt',\n",
       " 'abruptly',\n",
       " 'abs',\n",
       " 'abscond',\n",
       " 'absconded',\n",
       " 'absconding',\n",
       " 'absemt',\n",
       " 'absence',\n",
       " 'absent',\n",
       " 'absentee',\n",
       " 'absentia',\n",
       " 'absentmindedly',\n",
       " 'absolute',\n",
       " 'absolutely',\n",
       " 'absolutes',\n",
       " 'absolutley',\n",
       " 'absolutly',\n",
       " 'absolve',\n",
       " 'absolved',\n",
       " 'absorb',\n",
       " 'absorbant',\n",
       " 'absorbed',\n",
       " 'absorbitant',\n",
       " 'abstain',\n",
       " 'abstract',\n",
       " 'abstracts',\n",
       " 'abstracttitle',\n",
       " 'absurd',\n",
       " 'absurdity',\n",
       " 'absurdly',\n",
       " 'absurdnegating',\n",
       " 'absured',\n",
       " 'abt',\n",
       " 'abundance',\n",
       " 'abundant',\n",
       " 'abundantly',\n",
       " 'abuse',\n",
       " 'abused',\n",
       " 'abuser',\n",
       " 'abuses',\n",
       " 'abusinesstobusiness',\n",
       " 'abusing',\n",
       " 'abusive',\n",
       " 'abusively',\n",
       " 'abusiveness',\n",
       " 'abut',\n",
       " 'abysmal',\n",
       " 'ac',\n",
       " 'aca',\n",
       " 'academic',\n",
       " 'academy',\n",
       " 'acalculated',\n",
       " 'acc',\n",
       " 'accap',\n",
       " 'acccess',\n",
       " 'acccessed',\n",
       " 'acccording',\n",
       " 'acccordingly',\n",
       " 'acccount',\n",
       " 'acccounts',\n",
       " 'acceleratate',\n",
       " 'accelerate',\n",
       " 'accelerated',\n",
       " 'accelerating',\n",
       " 'acceleration',\n",
       " 'accelerator',\n",
       " 'accent',\n",
       " 'accents',\n",
       " 'accentsi',\n",
       " 'acceppted',\n",
       " 'accept',\n",
       " 'acceptable',\n",
       " 'acceptadditional',\n",
       " 'acceptal',\n",
       " 'acceptance',\n",
       " 'acceptancecounteroffer',\n",
       " 'accepted',\n",
       " 'accepteddenied',\n",
       " 'acceptedtoday',\n",
       " 'acceptible',\n",
       " 'accepting',\n",
       " 'acceptingprocessing',\n",
       " 'accepts',\n",
       " 'acceptwere',\n",
       " 'acces',\n",
       " 'accesed',\n",
       " 'access',\n",
       " 'accessed',\n",
       " 'accesses',\n",
       " 'accessi',\n",
       " 'accessibility',\n",
       " 'accessible',\n",
       " 'accessing',\n",
       " 'accessonly',\n",
       " 'accessories',\n",
       " 'accessory',\n",
       " 'accesss',\n",
       " 'accet',\n",
       " 'accident',\n",
       " 'accidental',\n",
       " 'accidentally',\n",
       " 'accidentlly',\n",
       " 'accidently',\n",
       " 'accidents',\n",
       " 'acciunt',\n",
       " 'accivate',\n",
       " 'acclaim',\n",
       " 'acco',\n",
       " 'accocated',\n",
       " 'accodording',\n",
       " 'accoint',\n",
       " 'accommadation',\n",
       " 'accommodate',\n",
       " 'accommodated',\n",
       " 'accommodating',\n",
       " 'accommodation',\n",
       " 'accommodations',\n",
       " 'accomodate',\n",
       " 'accomodating',\n",
       " 'accomodation',\n",
       " 'accomodations',\n",
       " 'accompanied',\n",
       " 'accompany',\n",
       " 'accompanying',\n",
       " 'accomplice',\n",
       " 'accomplices',\n",
       " 'accomplish',\n",
       " 'accomplished',\n",
       " 'accomplishes',\n",
       " 'accomplishments',\n",
       " 'accompliss',\n",
       " 'accont',\n",
       " 'acconts',\n",
       " 'accord',\n",
       " 'accordance',\n",
       " 'accorded',\n",
       " 'according',\n",
       " 'accordingly',\n",
       " 'accordinly',\n",
       " 'accords',\n",
       " 'accosted',\n",
       " 'accot',\n",
       " 'accou',\n",
       " 'accoud',\n",
       " 'accouint',\n",
       " 'accoumt',\n",
       " 'accoun',\n",
       " 'accound',\n",
       " 'accounding',\n",
       " 'account',\n",
       " 'accountability',\n",
       " 'accountable',\n",
       " 'accountableresponsible',\n",
       " 'accountablethey',\n",
       " 'accountall',\n",
       " 'accountamount',\n",
       " 'accountand',\n",
       " 'accountannuity',\n",
       " 'accountant',\n",
       " 'accountants',\n",
       " 'accountbaility',\n",
       " 'accountbalance',\n",
       " 'accountbank',\n",
       " 'accountbased',\n",
       " 'accountbut',\n",
       " 'accountcard',\n",
       " 'accountcausing',\n",
       " 'accountchase',\n",
       " 'accountchasecomconsumerbanking',\n",
       " 'accountdatadocuments',\n",
       " 'accountdebit',\n",
       " 'accountdebt',\n",
       " 'accounted',\n",
       " 'accountending',\n",
       " 'accountexample',\n",
       " 'accountfigures',\n",
       " 'accountfinances',\n",
       " 'accountfollowing',\n",
       " 'accountfor',\n",
       " 'accountfunding',\n",
       " 'accountfunds',\n",
       " 'accountholder',\n",
       " 'accountholders',\n",
       " 'accounti',\n",
       " 'accountibility',\n",
       " 'accountidentifying',\n",
       " 'accountin',\n",
       " 'accounting',\n",
       " 'accountingdocumentation',\n",
       " 'accountingforeclosure',\n",
       " 'accountingfront',\n",
       " 'accountingone',\n",
       " 'accountings',\n",
       " 'accountit',\n",
       " 'accountjp',\n",
       " 'accountlevel',\n",
       " 'accountloan',\n",
       " 'accountmake',\n",
       " 'accountme',\n",
       " 'accountmembership',\n",
       " 'accountmortgage',\n",
       " 'accountmoving',\n",
       " 'accountmy',\n",
       " 'accountno',\n",
       " 'accountnor',\n",
       " 'accountnot',\n",
       " 'accountnothing',\n",
       " 'accountnumber',\n",
       " 'accounton',\n",
       " 'accountone',\n",
       " 'accountonly',\n",
       " 'accountpayment',\n",
       " 'accountplease',\n",
       " 'accountpoints',\n",
       " 'accountpresented',\n",
       " 'accountpreviously',\n",
       " 'accountrelated',\n",
       " 'accountrep',\n",
       " 'accountreport',\n",
       " 'accountrouting',\n",
       " 'accounts',\n",
       " 'accountsaccording',\n",
       " 'accountsas',\n",
       " 'accountschasecom',\n",
       " 'accountschasecomconsumerbankingonlinesapphireur',\n",
       " 'accountshe',\n",
       " 'accountsi',\n",
       " 'accountsin',\n",
       " 'accountsince',\n",
       " 'accountsit',\n",
       " 'accountso',\n",
       " 'accountsontime',\n",
       " 'accountspecific',\n",
       " 'accountsthe',\n",
       " 'accountsthey',\n",
       " 'accountsthis',\n",
       " 'accountstradelines',\n",
       " 'accountthat',\n",
       " 'accountthe',\n",
       " 'accountthen',\n",
       " 'accountthese',\n",
       " 'accountthey',\n",
       " 'accountthinking',\n",
       " 'accountthis',\n",
       " 'accountthus',\n",
       " 'accounttwo',\n",
       " 'accountunfortunately',\n",
       " 'accountupon',\n",
       " 'accountwhat',\n",
       " 'accountwhere',\n",
       " 'accountwhich',\n",
       " 'accountwi',\n",
       " 'accountwithout',\n",
       " 'accountyou',\n",
       " 'accountyoure',\n",
       " 'accourding',\n",
       " 'accout',\n",
       " 'accouting',\n",
       " 'accoutn',\n",
       " 'accoutnot',\n",
       " 'accouts',\n",
       " 'accpetable',\n",
       " 'accreadition',\n",
       " 'accrediationn',\n",
       " 'accredited',\n",
       " 'accru',\n",
       " 'accruacy',\n",
       " 'accrual',\n",
       " 'accruals',\n",
       " 'accrue',\n",
       " 'accrued',\n",
       " 'accrueing',\n",
       " 'accrues',\n",
       " 'accruing',\n",
       " 'accssed',\n",
       " 'acct',\n",
       " 'acctalmost',\n",
       " 'acctand',\n",
       " 'acctchaseshe',\n",
       " 'acctcontinues',\n",
       " 'acctdelay',\n",
       " 'acctending',\n",
       " 'accti',\n",
       " 'acctonline',\n",
       " 'accts',\n",
       " 'acctthen',\n",
       " 'accually',\n",
       " 'accuate',\n",
       " 'accumilated',\n",
       " 'accumlated',\n",
       " 'accumulate',\n",
       " 'accumulated',\n",
       " 'accumulates',\n",
       " 'accumulating',\n",
       " 'accumulation',\n",
       " 'accunt',\n",
       " 'accuracies',\n",
       " 'accuracy',\n",
       " 'accurate',\n",
       " 'accurateauthorized',\n",
       " 'accurately',\n",
       " 'accurateness',\n",
       " 'accuratethey',\n",
       " 'accure',\n",
       " 'accured',\n",
       " 'accusation',\n",
       " 'accusations',\n",
       " 'accusationthat',\n",
       " 'accusatory',\n",
       " 'accusatoryinterrogation',\n",
       " 'accuse',\n",
       " 'accused',\n",
       " 'accuses',\n",
       " 'accusing',\n",
       " 'accusingtreating',\n",
       " 'accustomed',\n",
       " 'ace',\n",
       " 'acellerate',\n",
       " 'acepted',\n",
       " 'acess',\n",
       " 'ach',\n",
       " 'achand',\n",
       " 'achase',\n",
       " 'achashier',\n",
       " 'achcheck',\n",
       " 'achcredit',\n",
       " 'ache',\n",
       " 'acheck',\n",
       " 'acheive',\n",
       " 'achelectronic',\n",
       " 'achi',\n",
       " 'achievable',\n",
       " 'achieve',\n",
       " 'achieved',\n",
       " 'achieving',\n",
       " 'achs',\n",
       " 'acid',\n",
       " 'acion',\n",
       " 'acitivity',\n",
       " 'acivity',\n",
       " 'ack',\n",
       " 'ackn',\n",
       " 'acknowedged',\n",
       " 'acknowlede',\n",
       " 'acknowledge',\n",
       " 'acknowledged',\n",
       " 'acknowledgement',\n",
       " 'acknowledgementanswers',\n",
       " 'acknowledgements',\n",
       " 'acknowledges',\n",
       " 'acknowledgine',\n",
       " 'acknowledging',\n",
       " 'acknowledgment',\n",
       " 'acknowleges',\n",
       " 'ackowledged',\n",
       " 'acletter',\n",
       " 'acnt',\n",
       " 'acocunt',\n",
       " 'acomodation',\n",
       " 'acomplished',\n",
       " 'acoount',\n",
       " 'acorns',\n",
       " 'acound',\n",
       " 'acounnt',\n",
       " 'acount',\n",
       " 'acounts',\n",
       " 'acouple',\n",
       " 'acourding',\n",
       " 'acquaint',\n",
       " 'acquaintance',\n",
       " 'acquaintances',\n",
       " 'acquainted',\n",
       " 'acquiesce',\n",
       " 'acquiesced',\n",
       " 'acquiescence',\n",
       " 'acquire',\n",
       " 'acquired',\n",
       " 'acquiredpurchased',\n",
       " 'acquirer',\n",
       " 'acquires',\n",
       " 'acquiring',\n",
       " 'acquisition',\n",
       " 'acquisitions',\n",
       " 'acquisiton',\n",
       " 'acquite',\n",
       " 'acquittance',\n",
       " 'acre',\n",
       " 'acreage',\n",
       " 'acredit',\n",
       " 'acres',\n",
       " 'acronym',\n",
       " 'acronyms',\n",
       " 'acros',\n",
       " 'acrrrued',\n",
       " 'acs',\n",
       " 'acsess',\n",
       " 'act',\n",
       " 'actand',\n",
       " 'actcalifornia',\n",
       " 'acted',\n",
       " 'acterization',\n",
       " 'actfair',\n",
       " 'actfederal',\n",
       " 'acti',\n",
       " 'acting',\n",
       " 'action',\n",
       " 'actiona',\n",
       " 'actionable',\n",
       " 'actionadjustment',\n",
       " 'actiondecision',\n",
       " 'actioning',\n",
       " 'actions',\n",
       " 'actionsand',\n",
       " 'actionshence',\n",
       " 'actionsinactions',\n",
       " 'actionspatterns',\n",
       " 'actionwhere',\n",
       " 'actionwhy',\n",
       " 'activate',\n",
       " 'activated',\n",
       " 'activating',\n",
       " 'activation',\n",
       " 'active',\n",
       " 'activeduty',\n",
       " 'actively',\n",
       " 'activeon',\n",
       " 'activeregards',\n",
       " 'actives',\n",
       " 'activetoo',\n",
       " 'activevely',\n",
       " 'activiation',\n",
       " 'activies',\n",
       " 'activites',\n",
       " 'activities',\n",
       " 'activity',\n",
       " 'activityi',\n",
       " 'activityregardless',\n",
       " 'activitythe',\n",
       " 'activityto',\n",
       " 'activty',\n",
       " 'actors',\n",
       " 'actregulation',\n",
       " 'acts',\n",
       " 'actsecurities',\n",
       " 'actual',\n",
       " 'actuality',\n",
       " 'actually',\n",
       " 'actully',\n",
       " 'acually',\n",
       " 'acuring',\n",
       " 'acusing',\n",
       " 'acustomer',\n",
       " 'acutally',\n",
       " 'acute',\n",
       " 'acv',\n",
       " 'acvount',\n",
       " 'acxount',\n",
       " 'ad',\n",
       " 'ada',\n",
       " 'adamant',\n",
       " 'adamantly',\n",
       " 'adament',\n",
       " 'adapt',\n",
       " 'adaptor',\n",
       " 'adaquate',\n",
       " 'adavantage',\n",
       " 'add',\n",
       " 'addation',\n",
       " 'adddress',\n",
       " 'added',\n",
       " 'addeded',\n",
       " 'addedto',\n",
       " 'addedup',\n",
       " 'addenda',\n",
       " 'addendum',\n",
       " 'addendums',\n",
       " 'addeshowing',\n",
       " 'addict',\n",
       " 'addicted',\n",
       " 'addiction',\n",
       " 'adding',\n",
       " 'addionally',\n",
       " 'additioanl',\n",
       " 'addition',\n",
       " 'additiona',\n",
       " 'additional',\n",
       " 'additionally',\n",
       " 'additionalo',\n",
       " 'additionals',\n",
       " 'additionaly',\n",
       " 'additioni',\n",
       " 'additions',\n",
       " 'additon',\n",
       " 'additonal',\n",
       " 'addittion',\n",
       " 'addituonal',\n",
       " 'addl',\n",
       " 'addon',\n",
       " 'addons',\n",
       " 'addraasss',\n",
       " 'addre',\n",
       " 'addres',\n",
       " 'address',\n",
       " 'addressafter',\n",
       " 'addressand',\n",
       " 'addressas',\n",
       " 'addressbased',\n",
       " 'addressed',\n",
       " 'addressee',\n",
       " 'addressees',\n",
       " 'addressemail',\n",
       " 'addresses',\n",
       " 'addressexcept',\n",
       " 'addressfrom',\n",
       " 'addressi',\n",
       " 'addressin',\n",
       " 'addressinfo',\n",
       " 'addressing',\n",
       " 'addressname',\n",
       " 'addresss',\n",
       " 'adds',\n",
       " 'addtional',\n",
       " 'addtionally',\n",
       " 'addtl',\n",
       " 'addtnl',\n",
       " 'addy',\n",
       " 'adequacy',\n",
       " 'adequate',\n",
       " 'adequately',\n",
       " 'adhere',\n",
       " 'adhered',\n",
       " 'adherence',\n",
       " 'adheres',\n",
       " 'adhering',\n",
       " 'adhesion',\n",
       " 'adi',\n",
       " 'adition',\n",
       " 'adivsed',\n",
       " 'adj',\n",
       " 'adjacent',\n",
       " 'adjoin',\n",
       " 'adjourned',\n",
       " 'adjournment',\n",
       " 'adjudged',\n",
       " 'adjudicate',\n",
       " 'adjudicated',\n",
       " 'adjudicating',\n",
       " 'adjudication',\n",
       " 'adjunct',\n",
       " 'adjust',\n",
       " 'adjustable',\n",
       " 'adjustablerate',\n",
       " 'adjustble',\n",
       " 'adjusted',\n",
       " 'adjustedreduced',\n",
       " 'adjuster',\n",
       " 'adjusters',\n",
       " 'adjusting',\n",
       " 'adjustment',\n",
       " 'adjustmentagain',\n",
       " 'adjustments',\n",
       " 'adjustnebt',\n",
       " 'adjustor',\n",
       " 'adjusts',\n",
       " 'adlink',\n",
       " 'admin',\n",
       " 'administer',\n",
       " 'administered',\n",
       " 'administering',\n",
       " 'administers',\n",
       " 'administrated',\n",
       " 'administratio',\n",
       " 'administration',\n",
       " 'administrations',\n",
       " 'administrative',\n",
       " 'administratively',\n",
       " 'administrator',\n",
       " 'administrators',\n",
       " 'adminstration',\n",
       " 'adminstrator',\n",
       " 'adminstrators',\n",
       " 'admire',\n",
       " 'admired',\n",
       " 'admiring',\n",
       " 'admissible',\n",
       " 'admission',\n",
       " 'admissions',\n",
       " 'admistratuve',\n",
       " 'admit',\n",
       " 'admitcorrect',\n",
       " 'admited',\n",
       " 'admits',\n",
       " 'admittance',\n",
       " 'admitted',\n",
       " 'admittedly',\n",
       " 'admitting',\n",
       " 'admonish',\n",
       " 'admonished',\n",
       " 'admonition',\n",
       " 'adopt',\n",
       " 'adopted',\n",
       " 'adopting',\n",
       " 'adoption',\n",
       " 'adoptive',\n",
       " 'adopts',\n",
       " 'adored',\n",
       " 'adovocate',\n",
       " 'adp',\n",
       " 'adress',\n",
       " 'adrs',\n",
       " 'ads',\n",
       " 'adsociated',\n",
       " 'adult',\n",
       " 'adultconsumer',\n",
       " 'adulthood',\n",
       " 'adults',\n",
       " 'adv',\n",
       " 'advance',\n",
       " 'advancealso',\n",
       " 'advanced',\n",
       " 'advancedose',\n",
       " 'advancement',\n",
       " 'advances',\n",
       " 'advancing',\n",
       " 'advantage',\n",
       " 'advantageous',\n",
       " 'advantages',\n",
       " 'advantagethere',\n",
       " 'adve',\n",
       " 'advent',\n",
       " 'adversarial',\n",
       " 'adversary',\n",
       " 'adverse',\n",
       " 'adversely',\n",
       " 'adversly',\n",
       " 'advert',\n",
       " 'adverting',\n",
       " 'advertise',\n",
       " 'advertised',\n",
       " 'advertisement',\n",
       " 'advertisementmarketing',\n",
       " 'advertisements',\n",
       " 'advertisers',\n",
       " 'advertises',\n",
       " 'advertising',\n",
       " 'advertisment',\n",
       " 'advertize',\n",
       " 'advertizes',\n",
       " 'advice',\n",
       " 'adviced',\n",
       " 'advices',\n",
       " 'advisable',\n",
       " 'advise',\n",
       " 'advised',\n",
       " 'advisefind',\n",
       " 'advisei',\n",
       " 'adviseme',\n",
       " 'advisement',\n",
       " 'adviser',\n",
       " 'advisers',\n",
       " 'advises',\n",
       " 'advising',\n",
       " 'advisor',\n",
       " 'advisors',\n",
       " 'advisory',\n",
       " 'advocacy',\n",
       " 'advocate',\n",
       " 'advocated',\n",
       " 'advocating',\n",
       " 'advs',\n",
       " 'advsd',\n",
       " 'advsr',\n",
       " 'adware',\n",
       " 'aemail',\n",
       " 'aens',\n",
       " 'aeo',\n",
       " 'aer',\n",
       " 'aerospacedefense',\n",
       " 'aes',\n",
       " 'aesthetically',\n",
       " 'af',\n",
       " 'afalse',\n",
       " 'aff',\n",
       " 'affa',\n",
       " 'affable',\n",
       " 'affadavit',\n",
       " 'affadavits',\n",
       " 'affadivits',\n",
       " 'affair',\n",
       " 'affairs',\n",
       " 'affairschase',\n",
       " 'affairswhile',\n",
       " 'affec',\n",
       " 'affect',\n",
       " 'affected',\n",
       " 'affecting',\n",
       " 'affective',\n",
       " 'affects',\n",
       " 'affiant',\n",
       " 'affidavit',\n",
       " 'affidavits',\n",
       " 'affidavitstatement',\n",
       " 'affiliate',\n",
       " 'affiliated',\n",
       " 'affiliates',\n",
       " 'affiliation',\n",
       " 'affiliations',\n",
       " 'affilliation',\n",
       " 'affiord',\n",
       " 'affirm',\n",
       " 'affirmation',\n",
       " 'affirmative',\n",
       " 'affirmatively',\n",
       " 'affirmed',\n",
       " 'affirming',\n",
       " 'affirms',\n",
       " 'affix',\n",
       " 'affixed',\n",
       " 'affixing',\n",
       " 'afflicted',\n",
       " 'afford',\n",
       " 'affordability',\n",
       " 'affordable',\n",
       " 'afforded',\n",
       " 'affording',\n",
       " 'affords',\n",
       " 'affraid',\n",
       " 'affrdavit',\n",
       " 'afiavdavit',\n",
       " 'afilliate',\n",
       " 'afinancial',\n",
       " 'afirms',\n",
       " 'afloat',\n",
       " 'afordable',\n",
       " 'afore',\n",
       " 'aforementioned',\n",
       " 'aforesaid',\n",
       " 'aform',\n",
       " 'afoul',\n",
       " 'afraid',\n",
       " 'afrikaans',\n",
       " 'aft',\n",
       " 'afte',\n",
       " 'afteernoon',\n",
       " 'aftera',\n",
       " 'afterall',\n",
       " 'afterchase',\n",
       " 'afterfact',\n",
       " 'aftermarket',\n",
       " 'aftermath',\n",
       " 'afternoon',\n",
       " 'afternoonearly',\n",
       " 'afternoons',\n",
       " 'afterrrrr',\n",
       " 'afterschool',\n",
       " 'afterthefact',\n",
       " 'afterthought',\n",
       " 'afterward',\n",
       " 'afterwords',\n",
       " 'aftet',\n",
       " 'aftre',\n",
       " 'afv',\n",
       " 'ag',\n",
       " 'aga',\n",
       " 'againi',\n",
       " 'againk',\n",
       " 'againon',\n",
       " 'againproof',\n",
       " 'agains',\n",
       " 'againsend',\n",
       " 'againso',\n",
       " 'againstill',\n",
       " 'againstme',\n",
       " 'againt',\n",
       " 'againthey',\n",
       " 'againtoday',\n",
       " 'againts',\n",
       " 'againwhile',\n",
       " 'againwhy',\n",
       " 'agaisnt',\n",
       " 'agaist',\n",
       " 'agancy',\n",
       " 'aganist',\n",
       " 'agave',\n",
       " 'age',\n",
       " 'aged',\n",
       " 'ageism',\n",
       " 'agence',\n",
       " 'agencie',\n",
       " 'agencies',\n",
       " 'agenciesbroker',\n",
       " 'agenciesi',\n",
       " 'agenciesquotes',\n",
       " 'agenct',\n",
       " 'agency',\n",
       " 'agencyattorney',\n",
       " 'agencycompany',\n",
       " 'agencyfederal',\n",
       " 'agencyfinancial',\n",
       " 'agencyitems',\n",
       " 'agencys',\n",
       " 'agencytemporary',\n",
       " 'agencythis',\n",
       " 'agencyto',\n",
       " 'agenda',\n",
       " 'agendas',\n",
       " 'agenices',\n",
       " 'agent',\n",
       " 'agentattorney',\n",
       " 'agentes',\n",
       " 'agentinvestigator',\n",
       " 'agents',\n",
       " 'agentsell',\n",
       " 'agentwould',\n",
       " 'ages',\n",
       " 'aggravated',\n",
       " 'aggravating',\n",
       " 'aggravation',\n",
       " 'aggreed',\n",
       " 'aggreement',\n",
       " 'aggregate',\n",
       " 'aggregatenever',\n",
       " 'aggregating',\n",
       " 'aggregator',\n",
       " 'aggrement',\n",
       " 'aggresively',\n",
       " 'aggression',\n",
       " 'aggressive',\n",
       " 'aggressively',\n",
       " 'aggressor',\n",
       " 'aggrevation',\n",
       " 'aggrieved',\n",
       " 'aghast',\n",
       " 'agi',\n",
       " 'agian',\n",
       " 'agility',\n",
       " 'agim',\n",
       " 'agims',\n",
       " 'agin',\n",
       " 'aging',\n",
       " 'aginst',\n",
       " 'agitated',\n",
       " 'agitation',\n",
       " 'agnaist',\n",
       " 'agnecies',\n",
       " 'ago',\n",
       " 'agoalso',\n",
       " 'agobecause',\n",
       " 'agoclosed',\n",
       " 'agoi',\n",
       " 'agomy',\n",
       " 'agonizing',\n",
       " 'agonizingly',\n",
       " 'agonow',\n",
       " 'agony',\n",
       " 'agothe',\n",
       " 'agothey',\n",
       " 'agred',\n",
       " 'agree',\n",
       " 'agreeable',\n",
       " 'agreeance',\n",
       " 'agreed',\n",
       " 'agreedaccount',\n",
       " 'agreedallowed',\n",
       " 'agreedchase',\n",
       " 'agreeded',\n",
       " 'agreedi',\n",
       " 'agreedment',\n",
       " 'agreedto',\n",
       " 'agreedupon',\n",
       " 'agreeed',\n",
       " 'agreeing',\n",
       " 'agreement',\n",
       " 'agreementchase',\n",
       " 'agreementcontract',\n",
       " 'agreementdocument',\n",
       " 'agreementorder',\n",
       " 'agreementpdf',\n",
       " 'agreements',\n",
       " 'agreementsaccommodations',\n",
       " 'agreemetns',\n",
       " 'agrees',\n",
       " 'agremment',\n",
       " 'agressive',\n",
       " 'agressivly',\n",
       " 'agricultural',\n",
       " 'agriculture',\n",
       " 'agrred',\n",
       " 'agry',\n",
       " 'agt',\n",
       " 'ah',\n",
       " 'ahead',\n",
       " 'ahold',\n",
       " 'ahrd',\n",
       " 'ahs',\n",
       " 'ai',\n",
       " 'aid',\n",
       " 'aide',\n",
       " 'aided',\n",
       " 'aiding',\n",
       " 'aids',\n",
       " 'aiggig',\n",
       " 'ail',\n",
       " 'ailed',\n",
       " 'ailegedly',\n",
       " 'ailing',\n",
       " 'ailments',\n",
       " 'aim',\n",
       " 'aimachine',\n",
       " 'aimed',\n",
       " 'aiming',\n",
       " 'ain',\n",
       " 'ains',\n",
       " 'aint',\n",
       " 'air',\n",
       " 'airbnb',\n",
       " 'aircraft',\n",
       " 'aiready',\n",
       " 'aired',\n",
       " 'airfare',\n",
       " 'airing',\n",
       " 'airline',\n",
       " 'airlineclub',\n",
       " 'airliner',\n",
       " 'airlinerecording',\n",
       " ...]"
      ]
     },
     "execution_count": 104,
     "metadata": {},
     "output_type": "execute_result"
    }
   ],
   "source": [
    "countvectorizer = CountVectorizer(analyzer= 'word', stop_words='english')\n",
    "count_vector = countvectorizer.fit_transform(training_data['complaint'])\n",
    "count_vector_features = countvectorizer.get_feature_names()\n",
    "count_vector_features"
   ]
  },
  {
   "cell_type": "code",
   "execution_count": 105,
   "metadata": {
    "id": "binq-DRUI-4-"
   },
   "outputs": [],
   "source": [
    "# Transform the word vector to tf-idf"
   ]
  },
  {
   "cell_type": "code",
   "execution_count": 106,
   "metadata": {},
   "outputs": [],
   "source": [
    "from sklearn.feature_extraction.text import TfidfTransformer\n",
    "transformer = TfidfTransformer(smooth_idf=False)\n",
    "tfidf = transformer.fit_transform(count_vector)"
   ]
  },
  {
   "cell_type": "code",
   "execution_count": 107,
   "metadata": {
    "colab": {
     "base_uri": "https://localhost:8080/"
    },
    "id": "JaFvXl2jT9eN",
    "outputId": "c1d32c99-1d79-4874-83d6-d531b860c0a4"
   },
   "outputs": [
    {
     "data": {
      "text/plain": [
       "array([ 8.75847585, 10.95570042,  9.85708814, ..., 10.95570042,\n",
       "       10.26255324, 10.95570042])"
      ]
     },
     "execution_count": 107,
     "metadata": {},
     "output_type": "execute_result"
    }
   ],
   "source": [
    "transformer.idf_"
   ]
  },
  {
   "cell_type": "markdown",
   "metadata": {},
   "source": [
    "#### Train-Test split"
   ]
  },
  {
   "cell_type": "code",
   "execution_count": 108,
   "metadata": {
    "id": "PkoHODLnM__p"
   },
   "outputs": [],
   "source": [
    "from sklearn.model_selection import train_test_split\n",
    "X = tfidf\n",
    "Y = training_data.topic_num.values\n",
    "\n",
    "X_train, X_test, y_train, y_test = train_test_split(X, Y, test_size=0.2, random_state=40)"
   ]
  },
  {
   "cell_type": "markdown",
   "metadata": {
    "id": "uMU3vj6w-wqL"
   },
   "source": [
    "You have to try atleast 3 models on the train & test data from these options:\n",
    "* Logistic regression\n",
    "* Decision Tree\n",
    "* Random Forest\n",
    "* Naive Bayes (optional)\n",
    "\n",
    "**Using the required evaluation metrics judge the tried models and select the ones performing the best**"
   ]
  },
  {
   "cell_type": "markdown",
   "metadata": {},
   "source": [
    "#### Write your code here to build any 3 models and evaluate them using the required metrics"
   ]
  },
  {
   "cell_type": "markdown",
   "metadata": {},
   "source": [
    "### Model 1: Random forest"
   ]
  },
  {
   "cell_type": "code",
   "execution_count": 109,
   "metadata": {
    "colab": {
     "base_uri": "https://localhost:8080/"
    },
    "id": "udLHpPsZJrGI",
    "outputId": "1742f4b0-cb0f-4373-8085-4e324180954d"
   },
   "outputs": [],
   "source": [
    "from sklearn.ensemble import RandomForestClassifier"
   ]
  },
  {
   "cell_type": "code",
   "execution_count": 110,
   "metadata": {},
   "outputs": [
    {
     "data": {
      "text/plain": [
       "RandomForestClassifier(n_estimators=10)"
      ]
     },
     "execution_count": 110,
     "metadata": {},
     "output_type": "execute_result"
    }
   ],
   "source": [
    "rf = RandomForestClassifier(n_estimators= 10)\n",
    "rf.fit(X_train,y_train)"
   ]
  },
  {
   "cell_type": "code",
   "execution_count": 111,
   "metadata": {},
   "outputs": [],
   "source": [
    "y_pred_rf = rf.predict(X_test)"
   ]
  },
  {
   "cell_type": "code",
   "execution_count": 112,
   "metadata": {},
   "outputs": [
    {
     "name": "stdout",
     "output_type": "stream",
     "text": [
      "              precision    recall  f1-score   support\n",
      "\n",
      "           0       0.65      0.63      0.64       742\n",
      "           1       0.66      0.71      0.68       933\n",
      "           2       0.80      0.87      0.83       603\n",
      "           3       0.69      0.69      0.69       933\n",
      "           4       0.69      0.64      0.66      1004\n",
      "\n",
      "    accuracy                           0.70      4215\n",
      "   macro avg       0.70      0.71      0.70      4215\n",
      "weighted avg       0.69      0.70      0.69      4215\n",
      "\n"
     ]
    }
   ],
   "source": [
    "from sklearn.metrics import accuracy_score,classification_report\n",
    "clf_report = classification_report(y_test,y_pred_rf)\n",
    "print(clf_report)"
   ]
  },
  {
   "cell_type": "code",
   "execution_count": 113,
   "metadata": {},
   "outputs": [
    {
     "data": {
      "text/plain": [
       "0.6951364175563464"
      ]
     },
     "execution_count": 113,
     "metadata": {},
     "output_type": "execute_result"
    }
   ],
   "source": [
    "rf_acc=accuracy_score(y_test,y_pred_rf) \n",
    "rf_acc"
   ]
  },
  {
   "cell_type": "markdown",
   "metadata": {
    "id": "S4zO1-iDTZN-"
   },
   "source": [
    "### Model 2: Logistic regression"
   ]
  },
  {
   "cell_type": "code",
   "execution_count": 114,
   "metadata": {
    "colab": {
     "base_uri": "https://localhost:8080/"
    },
    "id": "nZTdGKsxPsFJ",
    "outputId": "5f31ea7f-aa2e-4338-88e7-21a03690577f"
   },
   "outputs": [
    {
     "data": {
      "text/plain": [
       "LogisticRegression(class_weight='balanced', multi_class='multinomial',\n",
       "                   solver='saga')"
      ]
     },
     "execution_count": 114,
     "metadata": {},
     "output_type": "execute_result"
    }
   ],
   "source": [
    "# Logistic regression\n",
    "from sklearn.linear_model import LogisticRegression\n",
    "lr = LogisticRegression(solver='saga',\n",
    "                        class_weight='balanced',\n",
    "                        multi_class='multinomial'\n",
    "                        )\n",
    "lr.fit(X_train,y_train)"
   ]
  },
  {
   "cell_type": "code",
   "execution_count": 115,
   "metadata": {},
   "outputs": [],
   "source": [
    "y_pred_lr = lr.predict(X_test)"
   ]
  },
  {
   "cell_type": "code",
   "execution_count": 116,
   "metadata": {},
   "outputs": [
    {
     "name": "stdout",
     "output_type": "stream",
     "text": [
      "              precision    recall  f1-score   support\n",
      "\n",
      "           0       0.84      0.87      0.85       742\n",
      "           1       0.90      0.88      0.89       933\n",
      "           2       0.93      0.98      0.95       603\n",
      "           3       0.88      0.87      0.88       933\n",
      "           4       0.89      0.87      0.88      1004\n",
      "\n",
      "    accuracy                           0.89      4215\n",
      "   macro avg       0.89      0.89      0.89      4215\n",
      "weighted avg       0.89      0.89      0.89      4215\n",
      "\n"
     ]
    }
   ],
   "source": [
    "clf_report_lr = classification_report(y_test,y_pred_lr)\n",
    "print(clf_report_lr)"
   ]
  },
  {
   "cell_type": "code",
   "execution_count": 117,
   "metadata": {},
   "outputs": [
    {
     "data": {
      "text/plain": [
       "0.8868327402135231"
      ]
     },
     "execution_count": 117,
     "metadata": {},
     "output_type": "execute_result"
    }
   ],
   "source": [
    "log_reg_acc=accuracy_score(y_test,y_pred_lr) \n",
    "log_reg_acc"
   ]
  },
  {
   "cell_type": "markdown",
   "metadata": {
    "id": "6ZNH2RSsTn_p"
   },
   "source": [
    "### Model 3: Decision tree"
   ]
  },
  {
   "cell_type": "code",
   "execution_count": 118,
   "metadata": {
    "colab": {
     "base_uri": "https://localhost:8080/"
    },
    "id": "EQCm0SsfTOZa",
    "outputId": "673c589a-cd5d-4332-8ff0-5ca169ebdff7"
   },
   "outputs": [
    {
     "data": {
      "text/plain": [
       "DecisionTreeClassifier()"
      ]
     },
     "execution_count": 118,
     "metadata": {},
     "output_type": "execute_result"
    }
   ],
   "source": [
    "from sklearn.tree import DecisionTreeClassifier\n",
    "dt = DecisionTreeClassifier()\n",
    "dt.fit(X_train,y_train)"
   ]
  },
  {
   "cell_type": "code",
   "execution_count": 119,
   "metadata": {},
   "outputs": [],
   "source": [
    "y_pred_dt = dt.predict(X_test)"
   ]
  },
  {
   "cell_type": "code",
   "execution_count": 120,
   "metadata": {},
   "outputs": [
    {
     "name": "stdout",
     "output_type": "stream",
     "text": [
      "              precision    recall  f1-score   support\n",
      "\n",
      "           0       0.75      0.71      0.73       742\n",
      "           1       0.73      0.75      0.74       933\n",
      "           2       0.82      0.85      0.83       603\n",
      "           3       0.67      0.67      0.67       933\n",
      "           4       0.71      0.70      0.71      1004\n",
      "\n",
      "    accuracy                           0.73      4215\n",
      "   macro avg       0.74      0.74      0.74      4215\n",
      "weighted avg       0.73      0.73      0.73      4215\n",
      "\n"
     ]
    }
   ],
   "source": [
    "clf_report_dt = classification_report(y_test,y_pred_dt)\n",
    "print(clf_report_dt)"
   ]
  },
  {
   "cell_type": "code",
   "execution_count": 121,
   "metadata": {},
   "outputs": [
    {
     "data": {
      "text/plain": [
       "0.7281138790035587"
      ]
     },
     "execution_count": 121,
     "metadata": {},
     "output_type": "execute_result"
    }
   ],
   "source": [
    "dt_acc=accuracy_score(y_test,y_pred_dt) \n",
    "dt_acc"
   ]
  },
  {
   "cell_type": "markdown",
   "metadata": {
    "id": "0zj5wlejUyD_"
   },
   "source": [
    "### Model 4: Naive Bayes"
   ]
  },
  {
   "cell_type": "code",
   "execution_count": 122,
   "metadata": {
    "colab": {
     "base_uri": "https://localhost:8080/"
    },
    "id": "3wmjV1i0UabM",
    "outputId": "14673785-b5c9-43ca-e543-65bd31d6ec7f"
   },
   "outputs": [
    {
     "data": {
      "text/plain": [
       "MultinomialNB()"
      ]
     },
     "execution_count": 122,
     "metadata": {},
     "output_type": "execute_result"
    }
   ],
   "source": [
    "from sklearn.naive_bayes import MultinomialNB\n",
    "nb = MultinomialNB()\n",
    "nb.fit(X_train,y_train)"
   ]
  },
  {
   "cell_type": "code",
   "execution_count": 123,
   "metadata": {},
   "outputs": [],
   "source": [
    "y_pred_nb = nb.predict(X_test)"
   ]
  },
  {
   "cell_type": "code",
   "execution_count": 124,
   "metadata": {},
   "outputs": [
    {
     "name": "stdout",
     "output_type": "stream",
     "text": [
      "              precision    recall  f1-score   support\n",
      "\n",
      "           0       0.93      0.22      0.36       742\n",
      "           1       0.66      0.73      0.69       933\n",
      "           2       0.93      0.76      0.84       603\n",
      "           3       0.71      0.80      0.75       933\n",
      "           4       0.59      0.85      0.70      1004\n",
      "\n",
      "    accuracy                           0.69      4215\n",
      "   macro avg       0.76      0.67      0.67      4215\n",
      "weighted avg       0.74      0.69      0.67      4215\n",
      "\n"
     ]
    }
   ],
   "source": [
    "clf_report_nb = classification_report(y_test,y_pred_nb)\n",
    "print(clf_report_nb)"
   ]
  },
  {
   "cell_type": "code",
   "execution_count": 125,
   "metadata": {},
   "outputs": [
    {
     "data": {
      "text/plain": [
       "0.6906287069988137"
      ]
     },
     "execution_count": 125,
     "metadata": {},
     "output_type": "execute_result"
    }
   ],
   "source": [
    "nb_acc=accuracy_score(y_test,y_pred_nb) \n",
    "nb_acc"
   ]
  },
  {
   "cell_type": "markdown",
   "metadata": {},
   "source": [
    "### Model Accuracy Comparison"
   ]
  },
  {
   "cell_type": "code",
   "execution_count": 126,
   "metadata": {},
   "outputs": [
    {
     "data": {
      "text/html": [
       "<div>\n",
       "<style scoped>\n",
       "    .dataframe tbody tr th:only-of-type {\n",
       "        vertical-align: middle;\n",
       "    }\n",
       "\n",
       "    .dataframe tbody tr th {\n",
       "        vertical-align: top;\n",
       "    }\n",
       "\n",
       "    .dataframe thead th {\n",
       "        text-align: right;\n",
       "    }\n",
       "</style>\n",
       "<table border=\"1\" class=\"dataframe\">\n",
       "  <thead>\n",
       "    <tr style=\"text-align: right;\">\n",
       "      <th></th>\n",
       "      <th>Random Forest</th>\n",
       "      <th>Logistic Regression</th>\n",
       "      <th>Decision Tree</th>\n",
       "      <th>Naive Bayes</th>\n",
       "    </tr>\n",
       "  </thead>\n",
       "  <tbody>\n",
       "    <tr>\n",
       "      <th>Accuracy</th>\n",
       "      <td>0.7</td>\n",
       "      <td>0.89</td>\n",
       "      <td>0.73</td>\n",
       "      <td>0.69</td>\n",
       "    </tr>\n",
       "  </tbody>\n",
       "</table>\n",
       "</div>"
      ],
      "text/plain": [
       "          Random Forest  Logistic Regression  Decision Tree  Naive Bayes\n",
       "Accuracy            0.7                 0.89           0.73         0.69"
      ]
     },
     "execution_count": 126,
     "metadata": {},
     "output_type": "execute_result"
    }
   ],
   "source": [
    "index=['Accuracy']\n",
    "data = pd.DataFrame({\n",
    "       'Random Forest':[rf_acc],\n",
    "       'Logistic Regression':[log_reg_acc],\n",
    "       'Decision Tree':[dt_acc],          \n",
    "       'Naive Bayes':[nb_acc]},index=index)\n",
    "round(data,2)"
   ]
  },
  {
   "cell_type": "markdown",
   "metadata": {
    "id": "piMGZsv6U_7S"
   },
   "source": [
    "### Logistic regression model performs best among other used algorithm, as per accuracy value. \n",
    "### We can choose that as our final model"
   ]
  },
  {
   "cell_type": "code",
   "execution_count": null,
   "metadata": {},
   "outputs": [],
   "source": []
  }
 ],
 "metadata": {
  "colab": {
   "collapsed_sections": [],
   "name": "Automatic_Ticket_Classification_Assignment_Final.ipynb",
   "provenance": []
  },
  "kernelspec": {
   "display_name": "Python 3",
   "language": "python",
   "name": "python3"
  },
  "language_info": {
   "codemirror_mode": {
    "name": "ipython",
    "version": 3
   },
   "file_extension": ".py",
   "mimetype": "text/x-python",
   "name": "python",
   "nbconvert_exporter": "python",
   "pygments_lexer": "ipython3",
   "version": "3.8.8"
  },
  "widgets": {
   "application/vnd.jupyter.widget-state+json": {
    "0ecc2ad1d6e9405190561e3cbbb65f81": {
     "model_module": "@jupyter-widgets/controls",
     "model_module_version": "1.5.0",
     "model_name": "HTMLModel",
     "state": {
      "_dom_classes": [],
      "_model_module": "@jupyter-widgets/controls",
      "_model_module_version": "1.5.0",
      "_model_name": "HTMLModel",
      "_view_count": null,
      "_view_module": "@jupyter-widgets/controls",
      "_view_module_version": "1.5.0",
      "_view_name": "HTMLView",
      "description": "",
      "description_tooltip": null,
      "layout": "IPY_MODEL_ac0c2904d5dd4efca7119bb58d32bcfd",
      "placeholder": "​",
      "style": "IPY_MODEL_53d00a15ebe1447cae0d450c0c9fdf18",
      "value": " 21072/21072 [15:20&lt;00:00, 20.75it/s]"
     }
    },
    "1f44ad5679984f06be09c8b580099906": {
     "model_module": "@jupyter-widgets/controls",
     "model_module_version": "1.5.0",
     "model_name": "DescriptionStyleModel",
     "state": {
      "_model_module": "@jupyter-widgets/controls",
      "_model_module_version": "1.5.0",
      "_model_name": "DescriptionStyleModel",
      "_view_count": null,
      "_view_module": "@jupyter-widgets/base",
      "_view_module_version": "1.2.0",
      "_view_name": "StyleView",
      "description_width": ""
     }
    },
    "1fc5eb451ef7414d8d256d33b53b6f13": {
     "model_module": "@jupyter-widgets/base",
     "model_module_version": "1.2.0",
     "model_name": "LayoutModel",
     "state": {
      "_model_module": "@jupyter-widgets/base",
      "_model_module_version": "1.2.0",
      "_model_name": "LayoutModel",
      "_view_count": null,
      "_view_module": "@jupyter-widgets/base",
      "_view_module_version": "1.2.0",
      "_view_name": "LayoutView",
      "align_content": null,
      "align_items": null,
      "align_self": null,
      "border": null,
      "bottom": null,
      "display": null,
      "flex": null,
      "flex_flow": null,
      "grid_area": null,
      "grid_auto_columns": null,
      "grid_auto_flow": null,
      "grid_auto_rows": null,
      "grid_column": null,
      "grid_gap": null,
      "grid_row": null,
      "grid_template_areas": null,
      "grid_template_columns": null,
      "grid_template_rows": null,
      "height": null,
      "justify_content": null,
      "justify_items": null,
      "left": null,
      "margin": null,
      "max_height": null,
      "max_width": null,
      "min_height": null,
      "min_width": null,
      "object_fit": null,
      "object_position": null,
      "order": null,
      "overflow": null,
      "overflow_x": null,
      "overflow_y": null,
      "padding": null,
      "right": null,
      "top": null,
      "visibility": null,
      "width": null
     }
    },
    "20b4f0b0f999425f8a737ce5ea67d9aa": {
     "model_module": "@jupyter-widgets/controls",
     "model_module_version": "1.5.0",
     "model_name": "HBoxModel",
     "state": {
      "_dom_classes": [],
      "_model_module": "@jupyter-widgets/controls",
      "_model_module_version": "1.5.0",
      "_model_name": "HBoxModel",
      "_view_count": null,
      "_view_module": "@jupyter-widgets/controls",
      "_view_module_version": "1.5.0",
      "_view_name": "HBoxView",
      "box_style": "",
      "children": [
       "IPY_MODEL_bb741440b11c480788bc15b3ce5e4127",
       "IPY_MODEL_5a4239c6d7854778a6ea1d4d6638ffea",
       "IPY_MODEL_c8a010a8804f44cb83b2072e7acebbca"
      ],
      "layout": "IPY_MODEL_d370d2a664014acb898e468a26213b97"
     }
    },
    "24a1db8740df492584fadd5d0adf60c7": {
     "model_module": "@jupyter-widgets/controls",
     "model_module_version": "1.5.0",
     "model_name": "HTMLModel",
     "state": {
      "_dom_classes": [],
      "_model_module": "@jupyter-widgets/controls",
      "_model_module_version": "1.5.0",
      "_model_name": "HTMLModel",
      "_view_count": null,
      "_view_module": "@jupyter-widgets/controls",
      "_view_module_version": "1.5.0",
      "_view_name": "HTMLView",
      "description": "",
      "description_tooltip": null,
      "layout": "IPY_MODEL_1fc5eb451ef7414d8d256d33b53b6f13",
      "placeholder": "​",
      "style": "IPY_MODEL_f59d124a0ef847109de21ed9c3b26ac8",
      "value": "Pandas Apply: 100%"
     }
    },
    "298094a21e53467bb5612cc36c0f8258": {
     "model_module": "@jupyter-widgets/base",
     "model_module_version": "1.2.0",
     "model_name": "LayoutModel",
     "state": {
      "_model_module": "@jupyter-widgets/base",
      "_model_module_version": "1.2.0",
      "_model_name": "LayoutModel",
      "_view_count": null,
      "_view_module": "@jupyter-widgets/base",
      "_view_module_version": "1.2.0",
      "_view_name": "LayoutView",
      "align_content": null,
      "align_items": null,
      "align_self": null,
      "border": null,
      "bottom": null,
      "display": null,
      "flex": null,
      "flex_flow": null,
      "grid_area": null,
      "grid_auto_columns": null,
      "grid_auto_flow": null,
      "grid_auto_rows": null,
      "grid_column": null,
      "grid_gap": null,
      "grid_row": null,
      "grid_template_areas": null,
      "grid_template_columns": null,
      "grid_template_rows": null,
      "height": null,
      "justify_content": null,
      "justify_items": null,
      "left": null,
      "margin": null,
      "max_height": null,
      "max_width": null,
      "min_height": null,
      "min_width": null,
      "object_fit": null,
      "object_position": null,
      "order": null,
      "overflow": null,
      "overflow_x": null,
      "overflow_y": null,
      "padding": null,
      "right": null,
      "top": null,
      "visibility": null,
      "width": null
     }
    },
    "3000979812294c5d918a9a5d50dab4ca": {
     "model_module": "@jupyter-widgets/controls",
     "model_module_version": "1.5.0",
     "model_name": "ProgressStyleModel",
     "state": {
      "_model_module": "@jupyter-widgets/controls",
      "_model_module_version": "1.5.0",
      "_model_name": "ProgressStyleModel",
      "_view_count": null,
      "_view_module": "@jupyter-widgets/base",
      "_view_module_version": "1.2.0",
      "_view_name": "StyleView",
      "bar_color": null,
      "description_width": ""
     }
    },
    "3b001fe5ab2e4bcab1f38c65bfe890ba": {
     "model_module": "@jupyter-widgets/controls",
     "model_module_version": "1.5.0",
     "model_name": "DescriptionStyleModel",
     "state": {
      "_model_module": "@jupyter-widgets/controls",
      "_model_module_version": "1.5.0",
      "_model_name": "DescriptionStyleModel",
      "_view_count": null,
      "_view_module": "@jupyter-widgets/base",
      "_view_module_version": "1.2.0",
      "_view_name": "StyleView",
      "description_width": ""
     }
    },
    "519d0d7c1e10407faea084851b2f8dc7": {
     "model_module": "@jupyter-widgets/controls",
     "model_module_version": "1.5.0",
     "model_name": "ProgressStyleModel",
     "state": {
      "_model_module": "@jupyter-widgets/controls",
      "_model_module_version": "1.5.0",
      "_model_name": "ProgressStyleModel",
      "_view_count": null,
      "_view_module": "@jupyter-widgets/base",
      "_view_module_version": "1.2.0",
      "_view_name": "StyleView",
      "bar_color": null,
      "description_width": ""
     }
    },
    "53d00a15ebe1447cae0d450c0c9fdf18": {
     "model_module": "@jupyter-widgets/controls",
     "model_module_version": "1.5.0",
     "model_name": "DescriptionStyleModel",
     "state": {
      "_model_module": "@jupyter-widgets/controls",
      "_model_module_version": "1.5.0",
      "_model_name": "DescriptionStyleModel",
      "_view_count": null,
      "_view_module": "@jupyter-widgets/base",
      "_view_module_version": "1.2.0",
      "_view_name": "StyleView",
      "description_width": ""
     }
    },
    "5630c1b05a724a2c80de3487ead71a44": {
     "model_module": "@jupyter-widgets/controls",
     "model_module_version": "1.5.0",
     "model_name": "DescriptionStyleModel",
     "state": {
      "_model_module": "@jupyter-widgets/controls",
      "_model_module_version": "1.5.0",
      "_model_name": "DescriptionStyleModel",
      "_view_count": null,
      "_view_module": "@jupyter-widgets/base",
      "_view_module_version": "1.2.0",
      "_view_name": "StyleView",
      "description_width": ""
     }
    },
    "5a4239c6d7854778a6ea1d4d6638ffea": {
     "model_module": "@jupyter-widgets/controls",
     "model_module_version": "1.5.0",
     "model_name": "FloatProgressModel",
     "state": {
      "_dom_classes": [],
      "_model_module": "@jupyter-widgets/controls",
      "_model_module_version": "1.5.0",
      "_model_name": "FloatProgressModel",
      "_view_count": null,
      "_view_module": "@jupyter-widgets/controls",
      "_view_module_version": "1.5.0",
      "_view_name": "ProgressView",
      "bar_style": "success",
      "description": "",
      "description_tooltip": null,
      "layout": "IPY_MODEL_62f261627d814daaad2e3e16745def64",
      "max": 21072,
      "min": 0,
      "orientation": "horizontal",
      "style": "IPY_MODEL_519d0d7c1e10407faea084851b2f8dc7",
      "value": 21072
     }
    },
    "600dc20cb00f4d7fa6aa73b748550c8a": {
     "model_module": "@jupyter-widgets/base",
     "model_module_version": "1.2.0",
     "model_name": "LayoutModel",
     "state": {
      "_model_module": "@jupyter-widgets/base",
      "_model_module_version": "1.2.0",
      "_model_name": "LayoutModel",
      "_view_count": null,
      "_view_module": "@jupyter-widgets/base",
      "_view_module_version": "1.2.0",
      "_view_name": "LayoutView",
      "align_content": null,
      "align_items": null,
      "align_self": null,
      "border": null,
      "bottom": null,
      "display": null,
      "flex": null,
      "flex_flow": null,
      "grid_area": null,
      "grid_auto_columns": null,
      "grid_auto_flow": null,
      "grid_auto_rows": null,
      "grid_column": null,
      "grid_gap": null,
      "grid_row": null,
      "grid_template_areas": null,
      "grid_template_columns": null,
      "grid_template_rows": null,
      "height": null,
      "justify_content": null,
      "justify_items": null,
      "left": null,
      "margin": null,
      "max_height": null,
      "max_width": null,
      "min_height": null,
      "min_width": null,
      "object_fit": null,
      "object_position": null,
      "order": null,
      "overflow": null,
      "overflow_x": null,
      "overflow_y": null,
      "padding": null,
      "right": null,
      "top": null,
      "visibility": null,
      "width": null
     }
    },
    "62f261627d814daaad2e3e16745def64": {
     "model_module": "@jupyter-widgets/base",
     "model_module_version": "1.2.0",
     "model_name": "LayoutModel",
     "state": {
      "_model_module": "@jupyter-widgets/base",
      "_model_module_version": "1.2.0",
      "_model_name": "LayoutModel",
      "_view_count": null,
      "_view_module": "@jupyter-widgets/base",
      "_view_module_version": "1.2.0",
      "_view_name": "LayoutView",
      "align_content": null,
      "align_items": null,
      "align_self": null,
      "border": null,
      "bottom": null,
      "display": null,
      "flex": null,
      "flex_flow": null,
      "grid_area": null,
      "grid_auto_columns": null,
      "grid_auto_flow": null,
      "grid_auto_rows": null,
      "grid_column": null,
      "grid_gap": null,
      "grid_row": null,
      "grid_template_areas": null,
      "grid_template_columns": null,
      "grid_template_rows": null,
      "height": null,
      "justify_content": null,
      "justify_items": null,
      "left": null,
      "margin": null,
      "max_height": null,
      "max_width": null,
      "min_height": null,
      "min_width": null,
      "object_fit": null,
      "object_position": null,
      "order": null,
      "overflow": null,
      "overflow_x": null,
      "overflow_y": null,
      "padding": null,
      "right": null,
      "top": null,
      "visibility": null,
      "width": null
     }
    },
    "66978ccb646e4c22852902c5048a8003": {
     "model_module": "@jupyter-widgets/controls",
     "model_module_version": "1.5.0",
     "model_name": "HTMLModel",
     "state": {
      "_dom_classes": [],
      "_model_module": "@jupyter-widgets/controls",
      "_model_module_version": "1.5.0",
      "_model_name": "HTMLModel",
      "_view_count": null,
      "_view_module": "@jupyter-widgets/controls",
      "_view_module_version": "1.5.0",
      "_view_name": "HTMLView",
      "description": "",
      "description_tooltip": null,
      "layout": "IPY_MODEL_68488fbe19ea448abe31c08907e47a53",
      "placeholder": "​",
      "style": "IPY_MODEL_1f44ad5679984f06be09c8b580099906",
      "value": " 21072/21072 [05:07&lt;00:00, 66.52it/s]"
     }
    },
    "68488fbe19ea448abe31c08907e47a53": {
     "model_module": "@jupyter-widgets/base",
     "model_module_version": "1.2.0",
     "model_name": "LayoutModel",
     "state": {
      "_model_module": "@jupyter-widgets/base",
      "_model_module_version": "1.2.0",
      "_model_name": "LayoutModel",
      "_view_count": null,
      "_view_module": "@jupyter-widgets/base",
      "_view_module_version": "1.2.0",
      "_view_name": "LayoutView",
      "align_content": null,
      "align_items": null,
      "align_self": null,
      "border": null,
      "bottom": null,
      "display": null,
      "flex": null,
      "flex_flow": null,
      "grid_area": null,
      "grid_auto_columns": null,
      "grid_auto_flow": null,
      "grid_auto_rows": null,
      "grid_column": null,
      "grid_gap": null,
      "grid_row": null,
      "grid_template_areas": null,
      "grid_template_columns": null,
      "grid_template_rows": null,
      "height": null,
      "justify_content": null,
      "justify_items": null,
      "left": null,
      "margin": null,
      "max_height": null,
      "max_width": null,
      "min_height": null,
      "min_width": null,
      "object_fit": null,
      "object_position": null,
      "order": null,
      "overflow": null,
      "overflow_x": null,
      "overflow_y": null,
      "padding": null,
      "right": null,
      "top": null,
      "visibility": null,
      "width": null
     }
    },
    "6929ba8659d243c2856d91efeb4c27f1": {
     "model_module": "@jupyter-widgets/controls",
     "model_module_version": "1.5.0",
     "model_name": "ProgressStyleModel",
     "state": {
      "_model_module": "@jupyter-widgets/controls",
      "_model_module_version": "1.5.0",
      "_model_name": "ProgressStyleModel",
      "_view_count": null,
      "_view_module": "@jupyter-widgets/base",
      "_view_module_version": "1.2.0",
      "_view_name": "StyleView",
      "bar_color": null,
      "description_width": ""
     }
    },
    "7cecabc820f14d86a27f6a6210d3ea43": {
     "model_module": "@jupyter-widgets/base",
     "model_module_version": "1.2.0",
     "model_name": "LayoutModel",
     "state": {
      "_model_module": "@jupyter-widgets/base",
      "_model_module_version": "1.2.0",
      "_model_name": "LayoutModel",
      "_view_count": null,
      "_view_module": "@jupyter-widgets/base",
      "_view_module_version": "1.2.0",
      "_view_name": "LayoutView",
      "align_content": null,
      "align_items": null,
      "align_self": null,
      "border": null,
      "bottom": null,
      "display": null,
      "flex": null,
      "flex_flow": null,
      "grid_area": null,
      "grid_auto_columns": null,
      "grid_auto_flow": null,
      "grid_auto_rows": null,
      "grid_column": null,
      "grid_gap": null,
      "grid_row": null,
      "grid_template_areas": null,
      "grid_template_columns": null,
      "grid_template_rows": null,
      "height": null,
      "justify_content": null,
      "justify_items": null,
      "left": null,
      "margin": null,
      "max_height": null,
      "max_width": null,
      "min_height": null,
      "min_width": null,
      "object_fit": null,
      "object_position": null,
      "order": null,
      "overflow": null,
      "overflow_x": null,
      "overflow_y": null,
      "padding": null,
      "right": null,
      "top": null,
      "visibility": null,
      "width": null
     }
    },
    "9142771475a748a097f3fbd3b8b19ec8": {
     "model_module": "@jupyter-widgets/controls",
     "model_module_version": "1.5.0",
     "model_name": "FloatProgressModel",
     "state": {
      "_dom_classes": [],
      "_model_module": "@jupyter-widgets/controls",
      "_model_module_version": "1.5.0",
      "_model_name": "FloatProgressModel",
      "_view_count": null,
      "_view_module": "@jupyter-widgets/controls",
      "_view_module_version": "1.5.0",
      "_view_name": "ProgressView",
      "bar_style": "success",
      "description": "",
      "description_tooltip": null,
      "layout": "IPY_MODEL_600dc20cb00f4d7fa6aa73b748550c8a",
      "max": 21072,
      "min": 0,
      "orientation": "horizontal",
      "style": "IPY_MODEL_6929ba8659d243c2856d91efeb4c27f1",
      "value": 21072
     }
    },
    "a577a9b1fb6e4ba8b2bc1789484cacf0": {
     "model_module": "@jupyter-widgets/base",
     "model_module_version": "1.2.0",
     "model_name": "LayoutModel",
     "state": {
      "_model_module": "@jupyter-widgets/base",
      "_model_module_version": "1.2.0",
      "_model_name": "LayoutModel",
      "_view_count": null,
      "_view_module": "@jupyter-widgets/base",
      "_view_module_version": "1.2.0",
      "_view_name": "LayoutView",
      "align_content": null,
      "align_items": null,
      "align_self": null,
      "border": null,
      "bottom": null,
      "display": null,
      "flex": null,
      "flex_flow": null,
      "grid_area": null,
      "grid_auto_columns": null,
      "grid_auto_flow": null,
      "grid_auto_rows": null,
      "grid_column": null,
      "grid_gap": null,
      "grid_row": null,
      "grid_template_areas": null,
      "grid_template_columns": null,
      "grid_template_rows": null,
      "height": null,
      "justify_content": null,
      "justify_items": null,
      "left": null,
      "margin": null,
      "max_height": null,
      "max_width": null,
      "min_height": null,
      "min_width": null,
      "object_fit": null,
      "object_position": null,
      "order": null,
      "overflow": null,
      "overflow_x": null,
      "overflow_y": null,
      "padding": null,
      "right": null,
      "top": null,
      "visibility": null,
      "width": null
     }
    },
    "ac0c2904d5dd4efca7119bb58d32bcfd": {
     "model_module": "@jupyter-widgets/base",
     "model_module_version": "1.2.0",
     "model_name": "LayoutModel",
     "state": {
      "_model_module": "@jupyter-widgets/base",
      "_model_module_version": "1.2.0",
      "_model_name": "LayoutModel",
      "_view_count": null,
      "_view_module": "@jupyter-widgets/base",
      "_view_module_version": "1.2.0",
      "_view_name": "LayoutView",
      "align_content": null,
      "align_items": null,
      "align_self": null,
      "border": null,
      "bottom": null,
      "display": null,
      "flex": null,
      "flex_flow": null,
      "grid_area": null,
      "grid_auto_columns": null,
      "grid_auto_flow": null,
      "grid_auto_rows": null,
      "grid_column": null,
      "grid_gap": null,
      "grid_row": null,
      "grid_template_areas": null,
      "grid_template_columns": null,
      "grid_template_rows": null,
      "height": null,
      "justify_content": null,
      "justify_items": null,
      "left": null,
      "margin": null,
      "max_height": null,
      "max_width": null,
      "min_height": null,
      "min_width": null,
      "object_fit": null,
      "object_position": null,
      "order": null,
      "overflow": null,
      "overflow_x": null,
      "overflow_y": null,
      "padding": null,
      "right": null,
      "top": null,
      "visibility": null,
      "width": null
     }
    },
    "bb741440b11c480788bc15b3ce5e4127": {
     "model_module": "@jupyter-widgets/controls",
     "model_module_version": "1.5.0",
     "model_name": "HTMLModel",
     "state": {
      "_dom_classes": [],
      "_model_module": "@jupyter-widgets/controls",
      "_model_module_version": "1.5.0",
      "_model_name": "HTMLModel",
      "_view_count": null,
      "_view_module": "@jupyter-widgets/controls",
      "_view_module_version": "1.5.0",
      "_view_name": "HTMLView",
      "description": "",
      "description_tooltip": null,
      "layout": "IPY_MODEL_ed51d0fbd49d40d8835892b07cc958c1",
      "placeholder": "​",
      "style": "IPY_MODEL_5630c1b05a724a2c80de3487ead71a44",
      "value": "Pandas Apply: 100%"
     }
    },
    "be23775b2ec04d859d0164010e2f573c": {
     "model_module": "@jupyter-widgets/base",
     "model_module_version": "1.2.0",
     "model_name": "LayoutModel",
     "state": {
      "_model_module": "@jupyter-widgets/base",
      "_model_module_version": "1.2.0",
      "_model_name": "LayoutModel",
      "_view_count": null,
      "_view_module": "@jupyter-widgets/base",
      "_view_module_version": "1.2.0",
      "_view_name": "LayoutView",
      "align_content": null,
      "align_items": null,
      "align_self": null,
      "border": null,
      "bottom": null,
      "display": null,
      "flex": null,
      "flex_flow": null,
      "grid_area": null,
      "grid_auto_columns": null,
      "grid_auto_flow": null,
      "grid_auto_rows": null,
      "grid_column": null,
      "grid_gap": null,
      "grid_row": null,
      "grid_template_areas": null,
      "grid_template_columns": null,
      "grid_template_rows": null,
      "height": null,
      "justify_content": null,
      "justify_items": null,
      "left": null,
      "margin": null,
      "max_height": null,
      "max_width": null,
      "min_height": null,
      "min_width": null,
      "object_fit": null,
      "object_position": null,
      "order": null,
      "overflow": null,
      "overflow_x": null,
      "overflow_y": null,
      "padding": null,
      "right": null,
      "top": null,
      "visibility": null,
      "width": null
     }
    },
    "beeed126b7574a89ac986027bf2b3008": {
     "model_module": "@jupyter-widgets/base",
     "model_module_version": "1.2.0",
     "model_name": "LayoutModel",
     "state": {
      "_model_module": "@jupyter-widgets/base",
      "_model_module_version": "1.2.0",
      "_model_name": "LayoutModel",
      "_view_count": null,
      "_view_module": "@jupyter-widgets/base",
      "_view_module_version": "1.2.0",
      "_view_name": "LayoutView",
      "align_content": null,
      "align_items": null,
      "align_self": null,
      "border": null,
      "bottom": null,
      "display": null,
      "flex": null,
      "flex_flow": null,
      "grid_area": null,
      "grid_auto_columns": null,
      "grid_auto_flow": null,
      "grid_auto_rows": null,
      "grid_column": null,
      "grid_gap": null,
      "grid_row": null,
      "grid_template_areas": null,
      "grid_template_columns": null,
      "grid_template_rows": null,
      "height": null,
      "justify_content": null,
      "justify_items": null,
      "left": null,
      "margin": null,
      "max_height": null,
      "max_width": null,
      "min_height": null,
      "min_width": null,
      "object_fit": null,
      "object_position": null,
      "order": null,
      "overflow": null,
      "overflow_x": null,
      "overflow_y": null,
      "padding": null,
      "right": null,
      "top": null,
      "visibility": null,
      "width": null
     }
    },
    "c2a49184e9c74bcfbf66adb00b5949c5": {
     "model_module": "@jupyter-widgets/controls",
     "model_module_version": "1.5.0",
     "model_name": "HTMLModel",
     "state": {
      "_dom_classes": [],
      "_model_module": "@jupyter-widgets/controls",
      "_model_module_version": "1.5.0",
      "_model_name": "HTMLModel",
      "_view_count": null,
      "_view_module": "@jupyter-widgets/controls",
      "_view_module_version": "1.5.0",
      "_view_name": "HTMLView",
      "description": "",
      "description_tooltip": null,
      "layout": "IPY_MODEL_7cecabc820f14d86a27f6a6210d3ea43",
      "placeholder": "​",
      "style": "IPY_MODEL_3b001fe5ab2e4bcab1f38c65bfe890ba",
      "value": "Pandas Apply: 100%"
     }
    },
    "c5591213cc3c420aa199418055dde079": {
     "model_module": "@jupyter-widgets/controls",
     "model_module_version": "1.5.0",
     "model_name": "FloatProgressModel",
     "state": {
      "_dom_classes": [],
      "_model_module": "@jupyter-widgets/controls",
      "_model_module_version": "1.5.0",
      "_model_name": "FloatProgressModel",
      "_view_count": null,
      "_view_module": "@jupyter-widgets/controls",
      "_view_module_version": "1.5.0",
      "_view_name": "ProgressView",
      "bar_style": "success",
      "description": "",
      "description_tooltip": null,
      "layout": "IPY_MODEL_a577a9b1fb6e4ba8b2bc1789484cacf0",
      "max": 21072,
      "min": 0,
      "orientation": "horizontal",
      "style": "IPY_MODEL_3000979812294c5d918a9a5d50dab4ca",
      "value": 21072
     }
    },
    "c8a010a8804f44cb83b2072e7acebbca": {
     "model_module": "@jupyter-widgets/controls",
     "model_module_version": "1.5.0",
     "model_name": "HTMLModel",
     "state": {
      "_dom_classes": [],
      "_model_module": "@jupyter-widgets/controls",
      "_model_module_version": "1.5.0",
      "_model_name": "HTMLModel",
      "_view_count": null,
      "_view_module": "@jupyter-widgets/controls",
      "_view_module_version": "1.5.0",
      "_view_name": "HTMLView",
      "description": "",
      "description_tooltip": null,
      "layout": "IPY_MODEL_beeed126b7574a89ac986027bf2b3008",
      "placeholder": "​",
      "style": "IPY_MODEL_e38dc854270948d884fd6778c9b07d49",
      "value": " 21072/21072 [00:06&lt;00:00, 3907.69it/s]"
     }
    },
    "ceab0b17d3b44e5097ddb5a04aeca25a": {
     "model_module": "@jupyter-widgets/controls",
     "model_module_version": "1.5.0",
     "model_name": "HBoxModel",
     "state": {
      "_dom_classes": [],
      "_model_module": "@jupyter-widgets/controls",
      "_model_module_version": "1.5.0",
      "_model_name": "HBoxModel",
      "_view_count": null,
      "_view_module": "@jupyter-widgets/controls",
      "_view_module_version": "1.5.0",
      "_view_name": "HBoxView",
      "box_style": "",
      "children": [
       "IPY_MODEL_24a1db8740df492584fadd5d0adf60c7",
       "IPY_MODEL_9142771475a748a097f3fbd3b8b19ec8",
       "IPY_MODEL_0ecc2ad1d6e9405190561e3cbbb65f81"
      ],
      "layout": "IPY_MODEL_298094a21e53467bb5612cc36c0f8258"
     }
    },
    "d370d2a664014acb898e468a26213b97": {
     "model_module": "@jupyter-widgets/base",
     "model_module_version": "1.2.0",
     "model_name": "LayoutModel",
     "state": {
      "_model_module": "@jupyter-widgets/base",
      "_model_module_version": "1.2.0",
      "_model_name": "LayoutModel",
      "_view_count": null,
      "_view_module": "@jupyter-widgets/base",
      "_view_module_version": "1.2.0",
      "_view_name": "LayoutView",
      "align_content": null,
      "align_items": null,
      "align_self": null,
      "border": null,
      "bottom": null,
      "display": null,
      "flex": null,
      "flex_flow": null,
      "grid_area": null,
      "grid_auto_columns": null,
      "grid_auto_flow": null,
      "grid_auto_rows": null,
      "grid_column": null,
      "grid_gap": null,
      "grid_row": null,
      "grid_template_areas": null,
      "grid_template_columns": null,
      "grid_template_rows": null,
      "height": null,
      "justify_content": null,
      "justify_items": null,
      "left": null,
      "margin": null,
      "max_height": null,
      "max_width": null,
      "min_height": null,
      "min_width": null,
      "object_fit": null,
      "object_position": null,
      "order": null,
      "overflow": null,
      "overflow_x": null,
      "overflow_y": null,
      "padding": null,
      "right": null,
      "top": null,
      "visibility": null,
      "width": null
     }
    },
    "e38dc854270948d884fd6778c9b07d49": {
     "model_module": "@jupyter-widgets/controls",
     "model_module_version": "1.5.0",
     "model_name": "DescriptionStyleModel",
     "state": {
      "_model_module": "@jupyter-widgets/controls",
      "_model_module_version": "1.5.0",
      "_model_name": "DescriptionStyleModel",
      "_view_count": null,
      "_view_module": "@jupyter-widgets/base",
      "_view_module_version": "1.2.0",
      "_view_name": "StyleView",
      "description_width": ""
     }
    },
    "e4e38756feda46c9939dc56c7fb9a2cf": {
     "model_module": "@jupyter-widgets/controls",
     "model_module_version": "1.5.0",
     "model_name": "HBoxModel",
     "state": {
      "_dom_classes": [],
      "_model_module": "@jupyter-widgets/controls",
      "_model_module_version": "1.5.0",
      "_model_name": "HBoxModel",
      "_view_count": null,
      "_view_module": "@jupyter-widgets/controls",
      "_view_module_version": "1.5.0",
      "_view_name": "HBoxView",
      "box_style": "",
      "children": [
       "IPY_MODEL_c2a49184e9c74bcfbf66adb00b5949c5",
       "IPY_MODEL_c5591213cc3c420aa199418055dde079",
       "IPY_MODEL_66978ccb646e4c22852902c5048a8003"
      ],
      "layout": "IPY_MODEL_be23775b2ec04d859d0164010e2f573c"
     }
    },
    "ed51d0fbd49d40d8835892b07cc958c1": {
     "model_module": "@jupyter-widgets/base",
     "model_module_version": "1.2.0",
     "model_name": "LayoutModel",
     "state": {
      "_model_module": "@jupyter-widgets/base",
      "_model_module_version": "1.2.0",
      "_model_name": "LayoutModel",
      "_view_count": null,
      "_view_module": "@jupyter-widgets/base",
      "_view_module_version": "1.2.0",
      "_view_name": "LayoutView",
      "align_content": null,
      "align_items": null,
      "align_self": null,
      "border": null,
      "bottom": null,
      "display": null,
      "flex": null,
      "flex_flow": null,
      "grid_area": null,
      "grid_auto_columns": null,
      "grid_auto_flow": null,
      "grid_auto_rows": null,
      "grid_column": null,
      "grid_gap": null,
      "grid_row": null,
      "grid_template_areas": null,
      "grid_template_columns": null,
      "grid_template_rows": null,
      "height": null,
      "justify_content": null,
      "justify_items": null,
      "left": null,
      "margin": null,
      "max_height": null,
      "max_width": null,
      "min_height": null,
      "min_width": null,
      "object_fit": null,
      "object_position": null,
      "order": null,
      "overflow": null,
      "overflow_x": null,
      "overflow_y": null,
      "padding": null,
      "right": null,
      "top": null,
      "visibility": null,
      "width": null
     }
    },
    "f59d124a0ef847109de21ed9c3b26ac8": {
     "model_module": "@jupyter-widgets/controls",
     "model_module_version": "1.5.0",
     "model_name": "DescriptionStyleModel",
     "state": {
      "_model_module": "@jupyter-widgets/controls",
      "_model_module_version": "1.5.0",
      "_model_name": "DescriptionStyleModel",
      "_view_count": null,
      "_view_module": "@jupyter-widgets/base",
      "_view_module_version": "1.2.0",
      "_view_name": "StyleView",
      "description_width": ""
     }
    }
   }
  }
 },
 "nbformat": 4,
 "nbformat_minor": 1
}
